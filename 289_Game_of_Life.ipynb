{
  "nbformat": 4,
  "nbformat_minor": 0,
  "metadata": {
    "colab": {
      "name": "289. Game of Life.ipynb",
      "provenance": [],
      "authorship_tag": "ABX9TyNz8i6hG2Hvm9PzfdA0VYi8",
      "include_colab_link": true
    },
    "kernelspec": {
      "name": "python3",
      "display_name": "Python 3"
    },
    "language_info": {
      "name": "python"
    }
  },
  "cells": [
    {
      "cell_type": "markdown",
      "metadata": {
        "id": "view-in-github",
        "colab_type": "text"
      },
      "source": [
        "<a href=\"https://colab.research.google.com/github/YaokunLin/Algorithms/blob/main/289_Game_of_Life.ipynb\" target=\"_parent\"><img src=\"https://colab.research.google.com/assets/colab-badge.svg\" alt=\"Open In Colab\"/></a>"
      ]
    },
    {
      "cell_type": "code",
      "metadata": {
        "id": "xGfc1s7PgiMF"
      },
      "source": [
        "class Solution(object):\n",
        "    def gameOfLife(self, board):\n",
        "        directions= [(-1,0),(+1,0),(0,-1),(0,+1),\n",
        "                   (-1,-1),(-1,+1),(+1,-1),(+1,+1)]\n",
        "        \n",
        "        nR=len(board)\n",
        "        nC=len(board[0])\n",
        "        \n",
        "        #\"11\" ==> alive orginally, continue to live\n",
        "        #\"10\"==> alive orginally, then die\n",
        "        #\"01\"==> dead orginally, then alive\n",
        "        #\"00\"==> dead orginally, then continue to be dead\n",
        "        \n",
        "        for r in range(nR):\n",
        "          for c in range(nC):\n",
        "            countLives=0\n",
        "            for rMove,cMove in directions:\n",
        "              rNei,cNei= r+rMove,c+cMove\n",
        "              if 0<=rNei<=nR-1 and 0<=cNei<=nC-1:\n",
        "                if board[rNei][cNei] in [1,\"11\",\"10\"]:\n",
        "                  countLives+=1\n",
        "            \n",
        "            if board[r][c]==1:\n",
        "              if countLives in [2,3]: board[r][c]=\"11\" # continue to live\n",
        "              else: board[r][c]=\"10\" #dies\n",
        "                \n",
        "            if board[r][c]==0:\n",
        "              if countLives==3: board[r][c] = '01' # from death to be alive\n",
        "              else: board[r][c]='00' #continue to be dead\n",
        "                \n",
        "        for r in range(nR):\n",
        "          for c in range(nC):\n",
        "            board[r][c]=int(board[r][c][1])\n",
        "            \n",
        "        "
      ],
      "execution_count": null,
      "outputs": []
    }
  ]
}