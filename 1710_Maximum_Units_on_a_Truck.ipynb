{
  "nbformat": 4,
  "nbformat_minor": 0,
  "metadata": {
    "colab": {
      "name": "1710. Maximum Units on a Truck.ipynb",
      "provenance": [],
      "authorship_tag": "ABX9TyOj1irM/KPAaRi6EpjQvSg6",
      "include_colab_link": true
    },
    "kernelspec": {
      "name": "python3",
      "display_name": "Python 3"
    },
    "language_info": {
      "name": "python"
    }
  },
  "cells": [
    {
      "cell_type": "markdown",
      "metadata": {
        "id": "view-in-github",
        "colab_type": "text"
      },
      "source": [
        "<a href=\"https://colab.research.google.com/github/YaokunLin/Algorithms/blob/main/1710_Maximum_Units_on_a_Truck.ipynb\" target=\"_parent\"><img src=\"https://colab.research.google.com/assets/colab-badge.svg\" alt=\"Open In Colab\"/></a>"
      ]
    },
    {
      "cell_type": "code",
      "metadata": {
        "id": "nZTDQxncke6-"
      },
      "source": [
        "class Solution:\n",
        "    def maximumUnits(self, boxTypes: List[List[int]], truckSize: int) -> int:\n",
        "      \n",
        "      for i,BT in enumerate(boxTypes): #O(N)\n",
        "        nBoxes,UnitsPerBox=BT\n",
        "        sortWeight=-UnitsPerBox\n",
        "        boxTypes[i]=[sortWeight,nBoxes,UnitsPerBox]\n",
        "        \n",
        "      heapq.heapify(boxTypes) #O(1)\n",
        "      \n",
        "      ans=0\n",
        "      while truckSize:\n",
        "        if boxTypes:_,nBoxes,UnitsPerBox=heapq.heappop(boxTypes) #O(logN)\n",
        "        else: return ans\n",
        "        \n",
        "        if nBoxes<truckSize:\n",
        "          ans+=nBoxes*UnitsPerBox\n",
        "          truckSize-=nBoxes\n",
        "        elif nBoxes==truckSize:\n",
        "          ans+=nBoxes*UnitsPerBox\n",
        "          return ans\n",
        "        elif nBoxes>truckSize:\n",
        "          ans+=UnitsPerBox*truckSize\n",
        "          return ans\n",
        "      \n",
        "      return ans\n",
        "        \n",
        "      \n",
        "        \n",
        "        "
      ],
      "execution_count": null,
      "outputs": []
    }
  ]
}