{
  "nbformat": 4,
  "nbformat_minor": 0,
  "metadata": {
    "colab": {
      "name": "Print Tree.ipynb",
      "provenance": [],
      "authorship_tag": "ABX9TyMyBQ0dTt6LlWzGpGR/3Zc1",
      "include_colab_link": true
    },
    "kernelspec": {
      "name": "python3",
      "display_name": "Python 3"
    },
    "language_info": {
      "name": "python"
    }
  },
  "cells": [
    {
      "cell_type": "markdown",
      "metadata": {
        "id": "view-in-github",
        "colab_type": "text"
      },
      "source": [
        "<a href=\"https://colab.research.google.com/github/YaokunLin/Algorithms/blob/main/Print_Tree.ipynb\" target=\"_parent\"><img src=\"https://colab.research.google.com/assets/colab-badge.svg\" alt=\"Open In Colab\"/></a>"
      ]
    },
    {
      "cell_type": "code",
      "metadata": {
        "id": "wHdiqbmowBLz"
      },
      "source": [
        "class relation:\n",
        "  def __init__(self, parent, child):\n",
        "    self.parent = parent\n",
        "    self.child = child\n",
        "\n",
        "  def printTree(self):\n",
        "    pass"
      ],
      "execution_count": 3,
      "outputs": []
    },
    {
      "cell_type": "code",
      "metadata": {
        "id": "clzOaD1ix5iX"
      },
      "source": [
        "input=[]\n",
        "input.append(relation(parent=\"animal\",child=\"mammal\"))\n",
        "input.append(relation(parent=\"animal\",child=\"bird\"))\n",
        "input.append(relation(parent=\"lifeform\",child=\"animal\"))\n",
        "input.append(relation(parent=\"cat\",child=\"lion\"))\n",
        "input.append(relation(parent=\"mammal\",child=\"cat\"))\n",
        "input.append(relation(parent=\"animal\",child=\"fish\"))"
      ],
      "execution_count": 6,
      "outputs": []
    },
    {
      "cell_type": "code",
      "metadata": {
        "colab": {
          "base_uri": "https://localhost:8080/"
        },
        "id": "VWCDOFwgyNZc",
        "outputId": "bc923d11-600e-4952-c3b5-d83db686bc58"
      },
      "source": [
        "'''\n",
        "Expected output:\n",
        "1:  lifeform\n",
        "2:    animal\n",
        "3:      mammal\n",
        "4:        cat\n",
        "5:          lion\n",
        "6:      bird\n",
        "7:      fish\n",
        "'''"
      ],
      "execution_count": 5,
      "outputs": [
        {
          "output_type": "execute_result",
          "data": {
            "text/plain": [
              "<__main__.relation at 0x7f1dbed1f190>"
            ]
          },
          "metadata": {
            "tags": []
          },
          "execution_count": 5
        }
      ]
    }
  ]
}