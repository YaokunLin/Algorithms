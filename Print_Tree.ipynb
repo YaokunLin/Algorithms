{
  "nbformat": 4,
  "nbformat_minor": 0,
  "metadata": {
    "colab": {
      "name": "Print Tree.ipynb",
      "provenance": [],
      "authorship_tag": "ABX9TyNpYsI+BNIWhnzevigXc6k0",
      "include_colab_link": true
    },
    "kernelspec": {
      "name": "python3",
      "display_name": "Python 3"
    },
    "language_info": {
      "name": "python"
    }
  },
  "cells": [
    {
      "cell_type": "markdown",
      "metadata": {
        "id": "view-in-github",
        "colab_type": "text"
      },
      "source": [
        "<a href=\"https://colab.research.google.com/github/YaokunLin/Algorithms/blob/main/Print_Tree.ipynb\" target=\"_parent\"><img src=\"https://colab.research.google.com/assets/colab-badge.svg\" alt=\"Open In Colab\"/></a>"
      ]
    },
    {
      "cell_type": "code",
      "metadata": {
        "id": "wHdiqbmowBLz"
      },
      "source": [
        "class relation:\n",
        "  def __init__(self, parent, child):\n",
        "    self.parent = parent\n",
        "    self.child = child\n"
      ],
      "execution_count": 28,
      "outputs": []
    },
    {
      "cell_type": "code",
      "metadata": {
        "id": "clzOaD1ix5iX"
      },
      "source": [
        "relationships=[]\n",
        "relationships.append(relation(parent=\"animal\",child=\"mammal\"))\n",
        "relationships.append(relation(parent=\"animal\",child=\"bird\"))\n",
        "relationships.append(relation(parent=\"lifeform\",child=\"animal\"))\n",
        "relationships.append(relation(parent=\"cat\",child=\"lion\"))\n",
        "relationships.append(relation(parent=\"mammal\",child=\"cat\"))\n",
        "relationships.append(relation(parent=\"animal\",child=\"fish\"))"
      ],
      "execution_count": 12,
      "outputs": []
    },
    {
      "cell_type": "code",
      "metadata": {
        "id": "cRb--olpfcBq"
      },
      "source": [
        "'''\n",
        "Expected output:\n",
        "1:  lifeform\n",
        "2:    animal\n",
        "3:      mammal\n",
        "4:        cat\n",
        "5:          lion\n",
        "6:      bird\n",
        "7:      fish\n",
        "'''"
      ],
      "execution_count": null,
      "outputs": []
    },
    {
      "cell_type": "code",
      "metadata": {
        "id": "Wiw0Ty3WZCAz"
      },
      "source": [
        "def printTree( rs):\n",
        "  #create a DFS graph\n",
        "  import collections\n",
        "  parentToChildren=collections.defaultdict(set)\n",
        "  childToParent={}\n",
        "  for r in rs:\n",
        "    parentToChildren[r.parent].add(r.child)\n",
        "    childToParent[r.child] = r.parent\n",
        "\n",
        "  #find main root\n",
        "  for r in rs:\n",
        "    if r.parent not in list(childToParent.keys()):\n",
        "      mainRoot=r.parent    \n",
        "    \n",
        "  #print function\n",
        "  def printOutput(root,lvl):\n",
        "    lineStr = \"   \" *lvl\n",
        "    print(lineStr+root)\n",
        "    for child in parentToChildren[root]:\n",
        "      printOutput(child,lvl+1)\n",
        "\n",
        "  printOutput(mainRoot,lvl=0)"
      ],
      "execution_count": 44,
      "outputs": []
    },
    {
      "cell_type": "code",
      "metadata": {
        "colab": {
          "base_uri": "https://localhost:8080/"
        },
        "id": "dYSLLz-o5KbX",
        "outputId": "9b3296a8-8765-4377-abbc-daff1c13f6a7"
      },
      "source": [
        "printTree(rs=relationships)"
      ],
      "execution_count": 45,
      "outputs": [
        {
          "output_type": "stream",
          "text": [
            "lifeform\n",
            "   animal\n",
            "      fish\n",
            "      bird\n",
            "      mammal\n",
            "         cat\n",
            "            lion\n"
          ],
          "name": "stdout"
        }
      ]
    }
  ]
}