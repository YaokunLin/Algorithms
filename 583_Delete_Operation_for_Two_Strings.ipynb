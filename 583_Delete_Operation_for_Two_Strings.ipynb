{
  "nbformat": 4,
  "nbformat_minor": 0,
  "metadata": {
    "colab": {
      "name": "583. Delete Operation for Two Strings.ipynb",
      "provenance": [],
      "authorship_tag": "ABX9TyPpfKFTAwOg4i8n53P+iFnG",
      "include_colab_link": true
    },
    "kernelspec": {
      "name": "python3",
      "display_name": "Python 3"
    },
    "language_info": {
      "name": "python"
    }
  },
  "cells": [
    {
      "cell_type": "markdown",
      "metadata": {
        "id": "view-in-github",
        "colab_type": "text"
      },
      "source": [
        "<a href=\"https://colab.research.google.com/github/YaokunLin/Algorithms/blob/main/583_Delete_Operation_for_Two_Strings.ipynb\" target=\"_parent\"><img src=\"https://colab.research.google.com/assets/colab-badge.svg\" alt=\"Open In Colab\"/></a>"
      ]
    },
    {
      "cell_type": "code",
      "metadata": {
        "id": "czZT0w-SoHgy"
      },
      "source": [
        "'''\n",
        "-if different: 1+min(dp[r][c-1],dp[r-1][c])\n",
        "------if same: dp[r-1][c-1]\n",
        "\n",
        "      \"\"  e  a  t\n",
        "    \"\" 0  1  2  3 *\n",
        "    s  1  2  3  4\n",
        "    e  2  1  2  3\n",
        "    a  3  2  1  2\n",
        "       *\n",
        "\n",
        "*DEFAULT*\n",
        "\n",
        "'''\n",
        "\n",
        "class Solution:\n",
        "    def minDistance(self, word1: str, word2: str) -> int:\n",
        "      \n",
        "      n1,n2=len(word1),len(word2)\n",
        "      dp=[]\n",
        "      for _ in range(n2+1):\n",
        "        dp.append([0]*(n1+1))\n",
        "      #col for word1\n",
        "      #row for word2\n",
        "      \n",
        "      for c in range(n1+1): #fill 1st row (default)\n",
        "        dp[0][c]=c\n",
        "     \n",
        "      for r in range(n2+1): #fill 1st col (default)\n",
        "        dp[r][0]=r\n",
        "         \n",
        "      for r in range(1,n2+1):\n",
        "        for c in range(1,n1+1):\n",
        "          if word1[c-1]==word2[r-1]:\n",
        "            dp[r][c]=dp[r-1][c-1]\n",
        "          else:\n",
        "            dp[r][c]=1+min(dp[r][c-1],dp[r-1][c])\n",
        "            \n",
        "      return dp[-1][-1]\n",
        "            \n",
        "          \n",
        "        \n",
        "      \n",
        "      \n",
        "      \n",
        "      \n",
        "      \n",
        "        "
      ],
      "execution_count": null,
      "outputs": []
    }
  ]
}