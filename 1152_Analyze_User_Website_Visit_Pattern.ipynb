{
  "nbformat": 4,
  "nbformat_minor": 0,
  "metadata": {
    "colab": {
      "name": "1152. Analyze User Website Visit Pattern.ipynb",
      "provenance": [],
      "authorship_tag": "ABX9TyPYDhuYAAJkyIEw6lcgeCZD",
      "include_colab_link": true
    },
    "kernelspec": {
      "name": "python3",
      "display_name": "Python 3"
    },
    "language_info": {
      "name": "python"
    }
  },
  "cells": [
    {
      "cell_type": "markdown",
      "metadata": {
        "id": "view-in-github",
        "colab_type": "text"
      },
      "source": [
        "<a href=\"https://colab.research.google.com/github/YaokunLin/Algorithms/blob/main/1152_Analyze_User_Website_Visit_Pattern.ipynb\" target=\"_parent\"><img src=\"https://colab.research.google.com/assets/colab-badge.svg\" alt=\"Open In Colab\"/></a>"
      ]
    },
    {
      "cell_type": "code",
      "metadata": {
        "id": "pFHbyStoIaWv"
      },
      "source": [
        "from itertools import combinations\n",
        "import heapq\n",
        "class Solution(object):\n",
        "    def mostVisitedPattern(self, username, timestamp, website):\n",
        "      \n",
        "      TUW=tuple(zip(timestamp,username,website))\n",
        "      sortedTUW=sorted(TUW)\n",
        "      #(1, u'joe', u'home')\n",
        "      \n",
        "      userHistory=collections.defaultdict(list)\n",
        "      for time,user,website in sortedTUW:\n",
        "        userHistory[user].append(website)\n",
        "      #{u'james': [u'home', u'cart', u'maps', u'home'], \n",
        "      # u'joe': [u'home', u'about', u'career'], \n",
        "      # u'mary': [u'home', u'about', u'career']})\n",
        "\n",
        "      patternCount=collections.defaultdict(int)\n",
        "      \n",
        "      for user in userHistory.keys():\n",
        "        combs=set(combinations(userHistory[user],3))\n",
        "        for comb in combs:    \n",
        "          patternCount[comb]=patternCount[comb]+1\n",
        "      \n",
        "      def sortKey(pattern):\n",
        "        return (-patternCount[pattern],pattern)\n",
        "      \n",
        "      \n",
        "        \n",
        "      return sorted(patternCount,key=sortKey)[0]\n",
        "    \n",
        "      '''\n",
        "      a=[-x for x in patternCount.values()]\n",
        "      b=patternCount.keys()\n",
        "      c=list(zip(a,b))\n",
        "      heapq.heapify(c)\n",
        "      return heapq.heappop(c)[1]\n",
        "      '''\n",
        "      \n",
        "      #print(sortedPatternCount)\n",
        "      \n",
        "        \n",
        "        \n",
        "        "
      ],
      "execution_count": null,
      "outputs": []
    }
  ]
}