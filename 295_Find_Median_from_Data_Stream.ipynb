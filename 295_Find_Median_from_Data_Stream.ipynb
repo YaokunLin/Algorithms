{
  "nbformat": 4,
  "nbformat_minor": 0,
  "metadata": {
    "colab": {
      "name": "295. Find Median from Data Stream.ipynb",
      "provenance": [],
      "authorship_tag": "ABX9TyMVTu8VauYnC02VIEiROOyc",
      "include_colab_link": true
    },
    "kernelspec": {
      "name": "python3",
      "display_name": "Python 3"
    },
    "language_info": {
      "name": "python"
    }
  },
  "cells": [
    {
      "cell_type": "markdown",
      "metadata": {
        "id": "view-in-github",
        "colab_type": "text"
      },
      "source": [
        "<a href=\"https://colab.research.google.com/github/YaokunLin/Algorithms/blob/main/295_Find_Median_from_Data_Stream.ipynb\" target=\"_parent\"><img src=\"https://colab.research.google.com/assets/colab-badge.svg\" alt=\"Open In Colab\"/></a>"
      ]
    },
    {
      "cell_type": "code",
      "metadata": {
        "id": "Gorjq2WIk6TZ"
      },
      "source": [
        "'''\n",
        "class MedianFinder(object):\n",
        "\n",
        "    def __init__(self):\n",
        "        self.lst=[]\n",
        "        \n",
        "    def addNum(self, num):\n",
        "        self.lst.append(num)\n",
        "        \n",
        "    def findMedian(self):\n",
        "        sortedLst=sorted(self.lst)\n",
        "        l,r=len(sortedLst)//2-1,len(sortedLst)//2\n",
        "        if len(sortedLst)%2 == 0:\n",
        "          return (sortedLst[l]+sortedLst[r]+0.0)/2\n",
        "        else:\n",
        "          return (sortedLst[r])\n",
        "'''\n",
        "# Your MedianFinder object will be instantiated and called as such:\n",
        "# obj = MedianFinder()\n",
        "# obj.addNum(num)\n",
        "# param_2 = obj.findMedian()\n",
        "\n",
        "class MedianFinder(object):\n",
        "\n",
        "    def __init__(self):\n",
        "        self.smalls, self.largs=[],[]\n",
        "        #all nums in largs >= all nums in smalls\n",
        "        # smallest num in largs> biggest num in smalls\n",
        "        \n",
        "        #size(self.smalls)=size(self.largs) +/-1\n",
        "        #size(self.largs)+/-1=size(self.smalls)\n",
        "        \n",
        "    def addNum(self, num):\n",
        "        heapq.heappush(self.smalls,-num) #O(logN)\n",
        "        \n",
        "        if self.smalls and self.largs:\n",
        "          maxInSmalls,minInLarges=-self.smalls[0],self.largs[0] #O(1)\n",
        "        \n",
        "          if minInLarges<maxInSmalls:\n",
        "            temp=-heapq.heappop(self.smalls)  #O(logN)\n",
        "            heapq.heappush(self.largs,temp)  #O(logN)\n",
        "        \n",
        "        if len(self.smalls)<len(self.largs)-1:\n",
        "          temp=heapq.heappop(self.largs)  #O(logN)\n",
        "          heapq.heappush(self.smalls,-temp)  #O(logN)\n",
        "          \n",
        "        if len(self.largs)<len(self.smalls)-1:\n",
        "          temp=-heapq.heappop(self.smalls)  #O(logN)\n",
        "          heapq.heappush(self.largs,temp)  #O(logN)\n",
        "        \n",
        "        \n",
        "    def findMedian(self):\n",
        "        if len(self.largs)<len(self.smalls):\n",
        "          return -self.smalls[0]\n",
        "        if len(self.largs)>len(self.smalls):\n",
        "          return self.largs[0]\n",
        "        return (self.largs[0]-self.smalls[0]+0.0)/2\n",
        "      \n",
        "'''\n",
        "1. If all integer numbers from the stream are between 0 and 100, how would you optimize it?\n",
        "\n",
        "We can maintain an integer array of length 100 to store the count of each number along with a total count. Then, we can iterate over the array to find the middle value to get our median.\n",
        "+\n",
        "[,]\n",
        "\n",
        "Time and space complexity would be O(100) = O(1).\n",
        "\n",
        "2. If 99% of all integer numbers from the stream are between 0 and 100, how would you optimize it?\n",
        "As 99% is between 0-100. So can keep a counter for less_than_hundred and greater_than_hundred.\n",
        "As we know soluiton will be definately in 0-100 we don't need to know those number which are >100 or <0, only count of them will be enough.\n",
        "\n",
        "'''"
      ],
      "execution_count": null,
      "outputs": []
    }
  ]
}