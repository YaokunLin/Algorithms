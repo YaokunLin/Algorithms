{
  "nbformat": 4,
  "nbformat_minor": 0,
  "metadata": {
    "colab": {
      "name": "273. Integer to English Words.ipynb",
      "provenance": [],
      "authorship_tag": "ABX9TyNBOq0VjeBThqpX/pHXYmNI",
      "include_colab_link": true
    },
    "kernelspec": {
      "name": "python3",
      "display_name": "Python 3"
    },
    "language_info": {
      "name": "python"
    }
  },
  "cells": [
    {
      "cell_type": "markdown",
      "metadata": {
        "id": "view-in-github",
        "colab_type": "text"
      },
      "source": [
        "<a href=\"https://colab.research.google.com/github/YaokunLin/Algorithms/blob/main/273_Integer_to_English_Words.ipynb\" target=\"_parent\"><img src=\"https://colab.research.google.com/assets/colab-badge.svg\" alt=\"Open In Colab\"/></a>"
      ]
    },
    {
      "cell_type": "code",
      "metadata": {
        "id": "0VCyIx3V_zHe"
      },
      "source": [
        "class Solution(object):\n",
        "    def numberToWords(self, num):\n",
        "      to19 = 'One Two Three Four Five Six Seven Eight Nine Ten Eleven Twelve ' \\\n",
        "           'Thirteen Fourteen Fifteen Sixteen Seventeen Eighteen Nineteen'.split()\n",
        "      tens = 'Twenty Thirty Forty Fifty Sixty Seventy Eighty Ninety'.split()\n",
        "      # 1 billion = 10^9\n",
        "      # 1 million = 10^6\n",
        "      # 1 thousand = 10^3\n",
        "      # 1 hundred = 10^2\n",
        "      \n",
        "      if num == 0: return \"Zero\"\n",
        "      \n",
        "      def recursor(num):\n",
        "        if num==0: return \"\"\n",
        "        \n",
        "        if num<=19: return to19[num-1]\n",
        "        #19=to19[19-1]\n",
        "\n",
        "        if num<=99: return (tens[num//10-2]+ \" \" + recursor(num%10)).rstrip() \n",
        "        #99=tens[99//10-2] + to19[99%10-1] =Ninety Nine \n",
        "        #20 = tens[20//10-2] = Twenty\n",
        "\n",
        "        if num <=999: return (recursor(num//100) + \" Hundred \"+ recursor(num%100)).rstrip() \n",
        "        #100=recursor(1) + \" Hundred \"+ recursor(0)\n",
        "        #101=recursor(1) + \" Hundred \"+ recursor(1)\n",
        "        #999=recursor(9) + \" Hundred \"+ recursor(99)\n",
        "\n",
        "        if num <=10**6-1: return (recursor(num//1000) + \" Thousand \"+ recursor(num%1000)).rstrip() \n",
        "        #1000=recursor(1) + \" Thousand \"+ recursor(0)\n",
        "        #1001=recursor(1) + \" Thousand \"+ recursor(1)\n",
        "        #9999=recursor(9) + \" Thousand \"+ recursor(1)\n",
        "        # max= 999 thousands + 9 hundred 99\n",
        "\n",
        "        if num <=10**9-1: return (recursor(num//(10**6)) + \" Million \"+ recursor(num%(10**6))).rstrip() \n",
        "        #max=999 million + 999 thousand + 9 hundred 99\n",
        "\n",
        "        else: return (recursor(num//(10**9)) + \" Billion \"+ recursor(num%(10**9))).rstrip() \n",
        "      \n",
        "      return recursor(num)"
      ],
      "execution_count": null,
      "outputs": []
    }
  ]
}