{
  "nbformat": 4,
  "nbformat_minor": 0,
  "metadata": {
    "colab": {
      "name": "490. The Maze.ipynb",
      "provenance": [],
      "authorship_tag": "ABX9TyPikZRW+lwoa1aopzZ4NI0e",
      "include_colab_link": true
    },
    "kernelspec": {
      "name": "python3",
      "display_name": "Python 3"
    },
    "language_info": {
      "name": "python"
    }
  },
  "cells": [
    {
      "cell_type": "markdown",
      "metadata": {
        "id": "view-in-github",
        "colab_type": "text"
      },
      "source": [
        "<a href=\"https://colab.research.google.com/github/YaokunLin/Algorithms/blob/main/490_The_Maze.ipynb\" target=\"_parent\"><img src=\"https://colab.research.google.com/assets/colab-badge.svg\" alt=\"Open In Colab\"/></a>"
      ]
    },
    {
      "cell_type": "code",
      "metadata": {
        "id": "4oggaBhJSBsW"
      },
      "source": [
        "class Solution:\n",
        "  def hasPath(self, maze, start, destination):\n",
        "    stack=[start]\n",
        "    n,m=len(maze),len(maze[0])\n",
        "    dirs = ((0, 1), (0, -1), (1, 0), (-1, 0))\n",
        "    stopped=set()\n",
        "\n",
        "    while stack:\n",
        "      r, c = stack.pop(0)\n",
        "      if [r,c] == destination:return True\n",
        "      \n",
        "      for dr, dc in dirs:\n",
        "        nwR,nwC =  r, c\n",
        "        \n",
        "        while 0 <= nwR+dr <= n-1 and 0 <= nwC+dc <= m-1 and maze[nwR+dr][nwC+dc] == 0:\n",
        "          nwR += dr\n",
        "          nwC += dc        \n",
        "        \n",
        "        if (nwR,nwC) in stopped:continue\n",
        "        else:\n",
        "          stopped.add((nwR,nwC))\n",
        "          stack.append([nwR, nwC])\n",
        "          \n",
        "    return False\n"
      ],
      "execution_count": null,
      "outputs": []
    }
  ]
}