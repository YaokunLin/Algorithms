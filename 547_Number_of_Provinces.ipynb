{
  "nbformat": 4,
  "nbformat_minor": 0,
  "metadata": {
    "colab": {
      "name": "547. Number of Provinces.ipynb",
      "provenance": [],
      "authorship_tag": "ABX9TyNjs9HPMfpRI6SV94QGwz20",
      "include_colab_link": true
    },
    "kernelspec": {
      "name": "python3",
      "display_name": "Python 3"
    },
    "language_info": {
      "name": "python"
    }
  },
  "cells": [
    {
      "cell_type": "markdown",
      "metadata": {
        "id": "view-in-github",
        "colab_type": "text"
      },
      "source": [
        "<a href=\"https://colab.research.google.com/github/YaokunLin/Algorithms/blob/main/547_Number_of_Provinces.ipynb\" target=\"_parent\"><img src=\"https://colab.research.google.com/assets/colab-badge.svg\" alt=\"Open In Colab\"/></a>"
      ]
    },
    {
      "cell_type": "code",
      "metadata": {
        "id": "gsi-GeohzLTT"
      },
      "source": [
        "class Solution(object):\n",
        "    def findCircleNum(self, isConnected):\n",
        "      nProvince =0\n",
        "      visited=set()\n",
        "      \n",
        "      def dfs(givenNeighConnections):\n",
        "        for anotherCity,isInConnection in enumerate(givenNeighConnections):\n",
        "          if isInConnection and anotherCity not in visited: \n",
        "            visited.add(anotherCity)\n",
        "            dfs(isConnected[anotherCity]) #NeighConnections OF Another City = isConnected[anotherCity]\n",
        "      \n",
        "      for city,neighConnections in enumerate(isConnected):\n",
        "        if city not in visited:\n",
        "          nProvince+=1\n",
        "          dfs(neighConnections)\n",
        "      \n",
        "      return nProvince\n",
        "        \n",
        "        \n",
        "              \n",
        "              \n",
        "        "
      ],
      "execution_count": null,
      "outputs": []
    }
  ]
}