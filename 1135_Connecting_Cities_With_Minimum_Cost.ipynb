{
  "nbformat": 4,
  "nbformat_minor": 0,
  "metadata": {
    "colab": {
      "name": "1135. Connecting Cities With Minimum Cost.ipynb",
      "provenance": [],
      "authorship_tag": "ABX9TyPpVsH5jmqIAIiDmj7ENqEK",
      "include_colab_link": true
    },
    "kernelspec": {
      "name": "python3",
      "display_name": "Python 3"
    },
    "language_info": {
      "name": "python"
    }
  },
  "cells": [
    {
      "cell_type": "markdown",
      "metadata": {
        "id": "view-in-github",
        "colab_type": "text"
      },
      "source": [
        "<a href=\"https://colab.research.google.com/github/YaokunLin/Algorithms/blob/main/1135_Connecting_Cities_With_Minimum_Cost.ipynb\" target=\"_parent\"><img src=\"https://colab.research.google.com/assets/colab-badge.svg\" alt=\"Open In Colab\"/></a>"
      ]
    },
    {
      "cell_type": "code",
      "metadata": {
        "id": "pB912ACQ7VIf"
      },
      "source": [
        "class Solution:\n",
        "    def minimumCost(self, N: int, connections: List[List[int]]) -> int:\n",
        "      nei=collections.defaultdict(list)\n",
        "      for c1,c2,cost in connections:\n",
        "        nei[c1].append([cost,c2])\n",
        "        nei[c2].append([cost,c1])\n",
        "      \n",
        "      \n",
        "      totCost=0\n",
        "      pq=[[0,N]] #start pt\n",
        "      visited=set()\n",
        "      \n",
        "      while pq: #priority q\n",
        "        curCost,curCity=heapq.heappop(pq) #O(longN)\n",
        "        if curCity not in visited:\n",
        "          visited.add(curCity)\n",
        "          totCost=totCost+curCost\n",
        "        if len(visited)==N: return totCost \n",
        "        \n",
        "        while nei[curCity]:\n",
        "          [aCost,aCity]=nei[curCity].pop()\n",
        "          heapq.heappush(pq,[aCost,aCity]) #O(longN)\n",
        "            \n",
        "        \n",
        "        \n",
        "      return -1\n",
        "          \n",
        "        \n",
        "      \n",
        "      \n",
        "      \n",
        "        \n",
        "        \n",
        "        \n",
        "        \n",
        "        "
      ],
      "execution_count": null,
      "outputs": []
    }
  ]
}