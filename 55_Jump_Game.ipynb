{
  "nbformat": 4,
  "nbformat_minor": 0,
  "metadata": {
    "colab": {
      "name": "55. Jump Game.ipynb",
      "provenance": [],
      "authorship_tag": "ABX9TyOkxnjm9rdPYX+dgsC74ISV",
      "include_colab_link": true
    },
    "kernelspec": {
      "name": "python3",
      "display_name": "Python 3"
    },
    "language_info": {
      "name": "python"
    }
  },
  "cells": [
    {
      "cell_type": "markdown",
      "metadata": {
        "id": "view-in-github",
        "colab_type": "text"
      },
      "source": [
        "<a href=\"https://colab.research.google.com/github/YaokunLin/Algorithms/blob/main/55_Jump_Game.ipynb\" target=\"_parent\"><img src=\"https://colab.research.google.com/assets/colab-badge.svg\" alt=\"Open In Colab\"/></a>"
      ]
    },
    {
      "cell_type": "code",
      "metadata": {
        "id": "bpBBA-rAaW7P"
      },
      "source": [
        "class Solution(object):\n",
        "  def canJump(self, nums):\n",
        "    curEndPt=len(nums)-1\n",
        "    for pos in range(len(nums)-1,-1,-1):\n",
        "      if nums[pos]>=curEndPt-pos:\n",
        "        curEndPt=pos\n",
        "    return curEndPt==0\n",
        "  \n",
        "  '''\n",
        "    def canJump(self, nums):\n",
        "      memoDict={}\n",
        "      \n",
        "      for i in range(len(nums)):\n",
        "        if nums[i]==0: memoDict[i]=False\n",
        "      \n",
        "      def recursor(pos):\n",
        "        if pos >= len(nums)-1: return True\n",
        "        if memoDict.get(pos)!=None: return memoDict[pos]\n",
        "        if nums[pos]==0: return False\n",
        "        \n",
        "        for steps in range(nums[pos],0,-1):\n",
        "          if recursor(steps+pos)== True:\n",
        "            memoDict[pos]=True\n",
        "            return True\n",
        "        \n",
        "        memoDict[pos]=False\n",
        "        return False\n",
        "      \n",
        "      return recursor(0)\n",
        "   '''     \n",
        "        \n",
        "      "
      ],
      "execution_count": null,
      "outputs": []
    }
  ]
}