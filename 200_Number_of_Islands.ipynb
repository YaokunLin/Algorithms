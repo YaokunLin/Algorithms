{
  "nbformat": 4,
  "nbformat_minor": 0,
  "metadata": {
    "colab": {
      "name": "200. Number of Islands.ipynb",
      "provenance": [],
      "collapsed_sections": [],
      "authorship_tag": "ABX9TyNHGIo9cLePPhjTKMZEzVlK",
      "include_colab_link": true
    },
    "kernelspec": {
      "name": "python3",
      "display_name": "Python 3"
    },
    "language_info": {
      "name": "python"
    }
  },
  "cells": [
    {
      "cell_type": "markdown",
      "metadata": {
        "id": "view-in-github",
        "colab_type": "text"
      },
      "source": [
        "<a href=\"https://colab.research.google.com/github/YaokunLin/Algorithms/blob/main/200_Number_of_Islands.ipynb\" target=\"_parent\"><img src=\"https://colab.research.google.com/assets/colab-badge.svg\" alt=\"Open In Colab\"/></a>"
      ]
    },
    {
      "cell_type": "code",
      "metadata": {
        "id": "zySYVLbp4JrI"
      },
      "source": [
        "class Solution(object):\n",
        "    def numIslands(self, grid):\n",
        "      seen=set()\n",
        "      nRow=len(grid)\n",
        "      nCol=len(grid[0])\n",
        "      nIsland=0\n",
        "      directions=[(-1,0),(+1,0),(0,-1),(0,+1)]  ##\n",
        "      \n",
        "      \n",
        "      def bfs((r,c)):\n",
        "        q=[]\n",
        "        q.append((r,c))\n",
        "        \n",
        "        while q:\n",
        "          oldR, oldC = q.pop()\n",
        "          for rdir,cdir in directions:\n",
        "            neiR,neiC = oldR+rdir,oldC+cdir\n",
        "            if 0<=neiR<=nRow-1 and 0<=neiC<=nCol-1 and (neiR,neiC) not in seen and grid[neiR][neiC] =='1':    \n",
        "              seen.add((neiR,neiC))\n",
        "              q.append((neiR,neiC))\n",
        "            \n",
        "    \n",
        "      for r in range(nRow):\n",
        "        for c in range(nCol):\n",
        "          if (r,c) not in seen:\n",
        "            seen.add((r,c))\n",
        "            if grid[r][c] == '1':\n",
        "              nIsland+=1\n",
        "              bfs((r,c))\n",
        "            \n",
        "            \n",
        "      return nIsland\n",
        "      \n",
        "        \n",
        "            \n",
        "        "
      ],
      "execution_count": null,
      "outputs": []
    }
  ]
}