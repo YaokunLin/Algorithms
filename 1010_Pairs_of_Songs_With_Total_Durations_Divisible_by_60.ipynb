{
  "nbformat": 4,
  "nbformat_minor": 0,
  "metadata": {
    "colab": {
      "name": "1010. Pairs of Songs With Total Durations Divisible by 60.ipynb",
      "provenance": [],
      "authorship_tag": "ABX9TyM/fnzLuEX8q2e0uVc/UvWm",
      "include_colab_link": true
    },
    "kernelspec": {
      "name": "python3",
      "display_name": "Python 3"
    },
    "language_info": {
      "name": "python"
    }
  },
  "cells": [
    {
      "cell_type": "markdown",
      "metadata": {
        "id": "view-in-github",
        "colab_type": "text"
      },
      "source": [
        "<a href=\"https://colab.research.google.com/github/YaokunLin/Algorithms/blob/main/1010_Pairs_of_Songs_With_Total_Durations_Divisible_by_60.ipynb\" target=\"_parent\"><img src=\"https://colab.research.google.com/assets/colab-badge.svg\" alt=\"Open In Colab\"/></a>"
      ]
    },
    {
      "cell_type": "code",
      "metadata": {
        "id": "j1XV_qRxY47_"
      },
      "source": [
        "class Solution(object):\n",
        "    def numPairsDivisibleBy60(self, time):\n",
        "      modCount=[0]*60\n",
        "\n",
        "      for t in time:\n",
        "        modCount[t%60]+=1\n",
        "        \n",
        "      ans=0\n",
        "      for idx in range(1,30):\n",
        "        ans+=modCount[idx]*modCount[60-idx]\n",
        "          \n",
        "        \n",
        "      if modCount[0]==1:\n",
        "        ans+=0\n",
        "      elif modCount[0]>1:\n",
        "        ans+=modCount[0]*(modCount[0]-1)/2       \n",
        "\n",
        "      if modCount[30]==1:\n",
        "        ans+=0\n",
        "      elif modCount[30]>1:\n",
        "        ans+=modCount[30]*(modCount[30]-1)/2\n",
        "        \n",
        "      return ans"
      ],
      "execution_count": null,
      "outputs": []
    }
  ]
}