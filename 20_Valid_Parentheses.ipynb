{
  "nbformat": 4,
  "nbformat_minor": 0,
  "metadata": {
    "colab": {
      "name": "20. Valid Parentheses.ipynb",
      "provenance": [],
      "authorship_tag": "ABX9TyNYoeYUIPaMkXGn94kzy+uk",
      "include_colab_link": true
    },
    "kernelspec": {
      "name": "python3",
      "display_name": "Python 3"
    },
    "language_info": {
      "name": "python"
    }
  },
  "cells": [
    {
      "cell_type": "markdown",
      "metadata": {
        "id": "view-in-github",
        "colab_type": "text"
      },
      "source": [
        "<a href=\"https://colab.research.google.com/github/YaokunLin/Algorithms/blob/main/20_Valid_Parentheses.ipynb\" target=\"_parent\"><img src=\"https://colab.research.google.com/assets/colab-badge.svg\" alt=\"Open In Colab\"/></a>"
      ]
    },
    {
      "cell_type": "code",
      "metadata": {
        "colab": {
          "base_uri": "https://localhost:8080/"
        },
        "id": "YRQAifaV7mVn",
        "outputId": "add540f5-9dfd-46ea-cfbb-f88d99aed8b3"
      },
      "source": [
        "class Solution(object):\n",
        "    def isValid(self, s):\n",
        "      matchDict={}\n",
        "      matchDict[\")\"]=\"(\"\n",
        "      matchDict[\"}\"]=\"{\"\n",
        "      matchDict[\"]\"]=\"[\"\n",
        "      \n",
        "      stack=[]\n",
        "      \n",
        "      \n",
        "      for char in s:\n",
        "        if char in matchDict.values():\n",
        "          stack.append(char)\n",
        "          \n",
        "        else:\n",
        "          if stack==[]: return False\n",
        "          open = stack.pop()\n",
        "          if open!=matchDict[char]: return False\n",
        "          \n",
        "      if stack==[]: return True\n",
        "      else: return False\t"
      ],
      "execution_count": null,
      "outputs": [
        {
          "output_type": "execute_result",
          "data": {
            "text/plain": [
              "3"
            ]
          },
          "metadata": {
            "tags": []
          },
          "execution_count": 1
        }
      ]
    },
    {
      "cell_type": "code",
      "metadata": {
        "colab": {
          "base_uri": "https://localhost:8080/"
        },
        "id": "pGGKUBEMCpro",
        "outputId": "6ebca2a7-2973-411b-bfb9-c89068b44a9f"
      },
      "source": [
        "10%3"
      ],
      "execution_count": null,
      "outputs": [
        {
          "output_type": "execute_result",
          "data": {
            "text/plain": [
              "1"
            ]
          },
          "metadata": {
            "tags": []
          },
          "execution_count": 2
        }
      ]
    }
  ]
}