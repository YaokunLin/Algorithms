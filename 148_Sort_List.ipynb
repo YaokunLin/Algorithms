{
  "nbformat": 4,
  "nbformat_minor": 0,
  "metadata": {
    "colab": {
      "name": "148. Sort List.ipynb",
      "provenance": [],
      "authorship_tag": "ABX9TyP8ybAjcbq/QR91SvEgysmz",
      "include_colab_link": true
    },
    "kernelspec": {
      "name": "python3",
      "display_name": "Python 3"
    },
    "language_info": {
      "name": "python"
    }
  },
  "cells": [
    {
      "cell_type": "markdown",
      "metadata": {
        "id": "view-in-github",
        "colab_type": "text"
      },
      "source": [
        "<a href=\"https://colab.research.google.com/github/YaokunLin/Algorithms/blob/main/148_Sort_List.ipynb\" target=\"_parent\"><img src=\"https://colab.research.google.com/assets/colab-badge.svg\" alt=\"Open In Colab\"/></a>"
      ]
    },
    {
      "cell_type": "code",
      "metadata": {
        "id": "4X19gA8jp7wG"
      },
      "source": [
        "# Definition for singly-linked list.\n",
        "# class ListNode:\n",
        "#     def __init__(self, val=0, next=None):\n",
        "#         self.val = val\n",
        "#         self.next = next\n",
        "class Solution:\n",
        "    def merge(self,A,B):\n",
        "      dummyHead=ListNode(float('-inf'))\n",
        "      cur=dummyHead\n",
        "\n",
        "      while A and B:\n",
        "        if A.val<B.val:\n",
        "          cur.next=A\n",
        "          A=A.next\n",
        "          cur=cur.next\n",
        "        else :\n",
        "          cur.next=B\n",
        "          B=B.next\n",
        "          cur=cur.next\n",
        "\n",
        "      if A:cur.next=A\n",
        "      if B:cur.next=B\n",
        "      \n",
        "\n",
        "      return dummyHead.next\n",
        "      \n",
        "    def sortList(self, head: Optional[ListNode]) -> Optional[ListNode]:\n",
        "      \n",
        "      #merge sort\n",
        "      if not head or not head.next: return head\n",
        "        \n",
        "        #fast/slow ptrs to break up two halves\n",
        "      fast=slow=head\n",
        "      while fast and fast.next:\n",
        "        prev=slow\n",
        "        slow=slow.next\n",
        "        fast=fast.next.next \n",
        "      #slow will be the head of the 2nd half\n",
        "      #prev will be the tail of the 1st half\n",
        "      prev.next=None #break up\n",
        "\n",
        "      left=self.sortList(head)\n",
        "      right=self.sortList(slow)\n",
        "\n",
        "\n",
        "      return self.merge(left,right)\n",
        "      \n",
        "        \n",
        "        \n",
        "        \n",
        "        "
      ],
      "execution_count": null,
      "outputs": []
    }
  ]
}