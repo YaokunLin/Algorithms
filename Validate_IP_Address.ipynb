{
  "nbformat": 4,
  "nbformat_minor": 0,
  "metadata": {
    "colab": {
      "name": "Validate IP Address.ipynb",
      "provenance": [],
      "authorship_tag": "ABX9TyPFP7eSROLJWuJ4jbyxZlU6",
      "include_colab_link": true
    },
    "kernelspec": {
      "name": "python3",
      "display_name": "Python 3"
    },
    "language_info": {
      "name": "python"
    }
  },
  "cells": [
    {
      "cell_type": "markdown",
      "metadata": {
        "id": "view-in-github",
        "colab_type": "text"
      },
      "source": [
        "<a href=\"https://colab.research.google.com/github/YaokunLin/Algorithms/blob/main/Validate_IP_Address.ipynb\" target=\"_parent\"><img src=\"https://colab.research.google.com/assets/colab-badge.svg\" alt=\"Open In Colab\"/></a>"
      ]
    },
    {
      "cell_type": "code",
      "metadata": {
        "id": "nhH0KrcTKJDt"
      },
      "source": [
        "def validateIP(ip):\n",
        "  \n",
        "  ipArr=ip.split('.') #['12','34','5','6'] O(Number charaters)\n",
        "  if len(ipArr)!=4: return False\n",
        "  \n",
        "  for component in ipArr: #O(4)\n",
        "    if not component.isdigit(): return False\n",
        "    theInt=int(component)\n",
        "    if int(theInt)<0 or int(theInt)>255: return False\n",
        "    \n",
        "  if ipArr[0]=='0':\n",
        "    if sum([int(x) for x in ipArr])!=0: return False\n",
        "  #  0.1.2.3 not valid\n",
        "  #  0.0.0.0 ok\n",
        "  \n",
        "  return True"
      ],
      "execution_count": null,
      "outputs": []
    }
  ]
}