{
  "nbformat": 4,
  "nbformat_minor": 0,
  "metadata": {
    "colab": {
      "name": "380. Insert Delete GetRandom O(1).ipynb",
      "provenance": [],
      "authorship_tag": "ABX9TyNzNt7A84DAwy0RVJjB4R/c",
      "include_colab_link": true
    },
    "kernelspec": {
      "name": "python3",
      "display_name": "Python 3"
    },
    "language_info": {
      "name": "python"
    }
  },
  "cells": [
    {
      "cell_type": "markdown",
      "metadata": {
        "id": "view-in-github",
        "colab_type": "text"
      },
      "source": [
        "<a href=\"https://colab.research.google.com/github/YaokunLin/Algorithms/blob/main/380_Insert_Delete_GetRandom_O(1).ipynb\" target=\"_parent\"><img src=\"https://colab.research.google.com/assets/colab-badge.svg\" alt=\"Open In Colab\"/></a>"
      ]
    },
    {
      "cell_type": "code",
      "metadata": {
        "id": "zCqpdErPQtmN"
      },
      "source": [
        "class RandomizedSet(object):\n",
        "\n",
        "    def __init__(self):\n",
        "        self.myIdxDict={} #{val：idx}\n",
        "        self.valList=[]\n",
        "\n",
        "    def insert(self, val):\n",
        "      if val in self.myIdxDict: return False\n",
        "      self.myIdxDict[val]=len(self.valList) #O(1) Indexing\n",
        "      self.valList.append(val) #O(1)\n",
        "      return True\n",
        "      \n",
        "    def remove(self, val):\n",
        "      if val in self.myIdxDict:\n",
        "        lastVal=self.valList[-1]#O(1)\n",
        "        lastValIdx=self.myIdxDict[lastVal]#O(1)\n",
        "        \n",
        "        removeValIdx=self.myIdxDict[val]#O(1)\n",
        "        self.valList[removeValIdx]=lastVal #O(1)\n",
        "\n",
        "        self.myIdxDict[lastVal]=removeValIdx\n",
        "        self.valList.pop()#O(1)\n",
        "        del self.myIdxDict[val]\n",
        "\n",
        "        return True\n",
        "      \n",
        "      else: return False\n",
        "      \n",
        "\n",
        "    def getRandom(self):  \n",
        "      return random.choice(self.valList)\n",
        "        \n",
        "\n",
        "\n",
        "# Your RandomizedSet object will be instantiated and called as such:\n",
        "# obj = RandomizedSet()\n",
        "# param_1 = obj.insert(val)\n",
        "# param_2 = obj.remove(val)\n",
        "# param_3 = obj.getRandom()"
      ],
      "execution_count": null,
      "outputs": []
    }
  ]
}