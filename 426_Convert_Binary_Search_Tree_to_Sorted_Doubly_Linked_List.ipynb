{
  "nbformat": 4,
  "nbformat_minor": 0,
  "metadata": {
    "colab": {
      "name": "426. Convert Binary Search Tree to Sorted Doubly Linked List.ipynb",
      "provenance": [],
      "collapsed_sections": [],
      "authorship_tag": "ABX9TyN/bjIAmbUP31t6hbhAqM6j",
      "include_colab_link": true
    },
    "kernelspec": {
      "name": "python3",
      "display_name": "Python 3"
    },
    "language_info": {
      "name": "python"
    }
  },
  "cells": [
    {
      "cell_type": "markdown",
      "metadata": {
        "id": "view-in-github",
        "colab_type": "text"
      },
      "source": [
        "<a href=\"https://colab.research.google.com/github/YaokunLin/Algorithms/blob/main/426_Convert_Binary_Search_Tree_to_Sorted_Doubly_Linked_List.ipynb\" target=\"_parent\"><img src=\"https://colab.research.google.com/assets/colab-badge.svg\" alt=\"Open In Colab\"/></a>"
      ]
    },
    {
      "cell_type": "code",
      "metadata": {
        "id": "7JfSYTJfNgmO"
      },
      "source": [
        "\"\"\"\n",
        "# Definition for a Node.\n",
        "class Node:\n",
        "    def __init__(self, val, left=None, right=None):\n",
        "        self.val = val\n",
        "        self.left = left\n",
        "        self.right = right\n",
        "\"\"\"\n",
        "\n",
        "class Solution:\n",
        "    def treeToDoublyList(self, root: 'Node') -> 'Node':\n",
        "      \n",
        "      if not root: return root\n",
        "      dummyHead = Node(-1001)\n",
        "      prev = dummyHead\n",
        "      \n",
        "      cur = root\n",
        "      stack = []\n",
        "      \n",
        "      #in-order traversal\n",
        "      while cur or stack:\n",
        "        \n",
        "        #Find the left most node\n",
        "        while cur:\n",
        "          stack.append(cur)\n",
        "          cur = cur.left\n",
        "        \n",
        "        cur = stack.pop()\n",
        "        cur.left = prev #'the left pointer of the tree node should point to its predecessor'\n",
        "        prev.right = cur # 'the right pointer should point to its successor'\n",
        "        prev = cur #move fwd\n",
        "        cur = cur.right\n",
        "      \n",
        "      # prev is the last node\n",
        "      # dummyHead.right is the real head\n",
        "      prev.right = dummyHead.right\n",
        "      dummyHead.right.left = prev\n",
        "      \n",
        "      return dummyHead.right\n",
        "      \n",
        "        \n",
        "        \n",
        "        \n",
        "        \n",
        "        \n",
        "     "
      ],
      "execution_count": null,
      "outputs": []
    }
  ]
}