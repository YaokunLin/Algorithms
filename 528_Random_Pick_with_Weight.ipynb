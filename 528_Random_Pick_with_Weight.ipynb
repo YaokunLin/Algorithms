{
  "nbformat": 4,
  "nbformat_minor": 0,
  "metadata": {
    "colab": {
      "name": "528. Random Pick with Weight.ipynb",
      "provenance": [],
      "authorship_tag": "ABX9TyOwZr841ZKFfWC3YA0nqbmd",
      "include_colab_link": true
    },
    "kernelspec": {
      "name": "python3",
      "display_name": "Python 3"
    },
    "language_info": {
      "name": "python"
    }
  },
  "cells": [
    {
      "cell_type": "markdown",
      "metadata": {
        "id": "view-in-github",
        "colab_type": "text"
      },
      "source": [
        "<a href=\"https://colab.research.google.com/github/YaokunLin/Algorithms/blob/main/528_Random_Pick_with_Weight.ipynb\" target=\"_parent\"><img src=\"https://colab.research.google.com/assets/colab-badge.svg\" alt=\"Open In Colab\"/></a>"
      ]
    },
    {
      "cell_type": "code",
      "metadata": {
        "id": "L0A53mtK-Dse"
      },
      "source": [
        "import random\n",
        "class Solution:\n",
        "\n",
        "    def __init__(self, w: List[int]):\n",
        "      self.distribution={}\n",
        "      \n",
        "      p=0\n",
        "      for i in range(len(w)):\n",
        "        p=p+w[i]/sum(w)\n",
        "        self.distribution[p]=i\n",
        "        #{25%:0,100%:1}\n",
        "      \n",
        "      #print(self.distribution)\n",
        "\n",
        "    def pickIndex(self) -> int:\n",
        "      lower=0\n",
        "      rand=random.uniform(0,1)\n",
        "      \n",
        "      for upper in self.distribution:\n",
        "        if lower<=rand<=upper: \n",
        "          return self.distribution[upper]\n",
        "        else: lower=upper\n",
        "          \n",
        "      # 0,25% - 0\n",
        "      # 25%,100% - 1\n",
        "      \n",
        "      #rand=0.86\n",
        "      \n",
        "      \n",
        "        \n",
        "\n",
        "\n",
        "# Your Solution object will be instantiated and called as such:\n",
        "# obj = Solution(w)\n",
        "# param_1 = obj.pickIndex()"
      ],
      "execution_count": null,
      "outputs": []
    }
  ]
}