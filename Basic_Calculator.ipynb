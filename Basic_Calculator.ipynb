{
  "nbformat": 4,
  "nbformat_minor": 0,
  "metadata": {
    "colab": {
      "name": "Basic Calculator.ipynb",
      "provenance": [],
      "collapsed_sections": [],
      "authorship_tag": "ABX9TyPv43MTidwKfVjRXA7baDad",
      "include_colab_link": true
    },
    "kernelspec": {
      "name": "python3",
      "display_name": "Python 3"
    },
    "language_info": {
      "name": "python"
    }
  },
  "cells": [
    {
      "cell_type": "markdown",
      "metadata": {
        "id": "view-in-github",
        "colab_type": "text"
      },
      "source": [
        "<a href=\"https://colab.research.google.com/github/YaokunLin/Algorithms/blob/main/Basic_Calculator.ipynb\" target=\"_parent\"><img src=\"https://colab.research.google.com/assets/colab-badge.svg\" alt=\"Open In Colab\"/></a>"
      ]
    },
    {
      "cell_type": "code",
      "metadata": {
        "id": "YFzJqhgHuRT5"
      },
      "source": [
        "'''\n",
        "1*2 - 3\\4*5 + 6\n",
        "'''\n",
        "class Solution:\n",
        "    def calculate(self, s: str) -> int:\n",
        "      \n",
        "      def cal(i):\n",
        "        def update(op,v):\n",
        "          if op=='+': stack.append(v)\n",
        "          elif op=='-': stack.append(-v)\n",
        "          elif op=='/': stack.append(int(stack.pop()/v))\n",
        "          elif op=='*': stack.append(stack.pop()*v)\n",
        "\n",
        "\n",
        "        curSign='+'\n",
        "        curNum=0\n",
        "        stack=[]\n",
        "\n",
        "        while i<=len(s)-1:\n",
        "          c=s[i]\n",
        "          if c==\" \": i+=1\n",
        "          elif c.isdigit():\n",
        "            curNum=curNum*10+int(c)\n",
        "            i+=1\n",
        "          elif c in '+-*/':\n",
        "            update(curSign,curNum)\n",
        "            curSign=c\n",
        "            curNum=0\n",
        "            i+=1\n",
        "          elif c =='(':\n",
        "            curNum,pIdx=cal(i+1)\n",
        "            i=pIdx+1\n",
        "          else: #c ==')'\n",
        "            update(curSign,curNum)\n",
        "            return sum(stack),i\n",
        "\n",
        "\n",
        "        \n",
        "        update(curSign,curNum)\n",
        "        return sum(stack)\n",
        "      \n",
        "      return cal(0)\n"
      ],
      "execution_count": null,
      "outputs": []
    },
    {
      "cell_type": "code",
      "metadata": {
        "id": "jI5Mnyf7uX-W"
      },
      "source": [
        "alist.insert(1,5)"
      ],
      "execution_count": null,
      "outputs": []
    },
    {
      "cell_type": "code",
      "metadata": {
        "colab": {
          "base_uri": "https://localhost:8080/"
        },
        "id": "dmcDtUEZucCC",
        "outputId": "a30c58fb-2e98-4035-e8f6-03ddf8593056"
      },
      "source": [
        "alist"
      ],
      "execution_count": null,
      "outputs": [
        {
          "output_type": "execute_result",
          "data": {
            "text/plain": [
              "[0, 5, 1, 2, 3, 4]"
            ]
          },
          "metadata": {},
          "execution_count": 3
        }
      ]
    },
    {
      "cell_type": "code",
      "metadata": {
        "id": "de9cDXW-BjZw"
      },
      "source": [
        "alist.insert(2,7)"
      ],
      "execution_count": null,
      "outputs": []
    },
    {
      "cell_type": "code",
      "metadata": {
        "id": "WyOqLj13BlYD",
        "colab": {
          "base_uri": "https://localhost:8080/"
        },
        "outputId": "52fafb59-a438-4c4f-9483-5c541840d1d8"
      },
      "source": [
        "alist"
      ],
      "execution_count": null,
      "outputs": [
        {
          "output_type": "execute_result",
          "data": {
            "text/plain": [
              "[0, 5, 7, 1, 2, 3, 4]"
            ]
          },
          "metadata": {},
          "execution_count": 5
        }
      ]
    }
  ]
}