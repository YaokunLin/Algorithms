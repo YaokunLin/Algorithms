{
  "nbformat": 4,
  "nbformat_minor": 0,
  "metadata": {
    "colab": {
      "name": "792. Number of Matching Subsequences.ipynb",
      "provenance": [],
      "authorship_tag": "ABX9TyMzVv7cwjDJvBqBzCYZ34ML",
      "include_colab_link": true
    },
    "kernelspec": {
      "name": "python3",
      "display_name": "Python 3"
    },
    "language_info": {
      "name": "python"
    }
  },
  "cells": [
    {
      "cell_type": "markdown",
      "metadata": {
        "id": "view-in-github",
        "colab_type": "text"
      },
      "source": [
        "<a href=\"https://colab.research.google.com/github/YaokunLin/Algorithms/blob/main/792_Number_of_Matching_Subsequences.ipynb\" target=\"_parent\"><img src=\"https://colab.research.google.com/assets/colab-badge.svg\" alt=\"Open In Colab\"/></a>"
      ]
    },
    {
      "cell_type": "code",
      "metadata": {
        "id": "vimJNeU2Ofcc"
      },
      "source": [
        "class Solution(object):\n",
        "  def numMatchingSubseq(self, S, words):\n",
        "\n",
        "    letterIters=collections.defaultdict(set)\n",
        "    \n",
        "    for w in words:\n",
        "      letterIters[w[0]].add(iter(w[1:]))\n",
        "    \n",
        "    \n",
        "    for letter in S:\n",
        "      iterators=letterIters.pop(letter,None)\n",
        "      if iterators:\n",
        "        for iterator in iterators:\n",
        "          nxtLetter=next(iterator,\"#\")\n",
        "          letterIters[nxtLetter].add(iterator)\n",
        "        \n",
        "    return len(letterIters[\"#\"])\n",
        "    \n",
        "\n",
        "\n",
        "        "
      ],
      "execution_count": null,
      "outputs": []
    },
    {
      "cell_type": "code",
      "metadata": {
        "id": "NTqTX0z8OhdK"
      },
      "source": [
        "class Solution:\n",
        "    \n",
        "    def numMatchingSubseq(self, s: str, words: List[str]) -> int:\n",
        "      \n",
        "      pos=collections.defaultdict(set)\n",
        "      \n",
        "      for idx,ch in enumerate(s):\n",
        "        pos[ch].add(idx)\n",
        "      \n",
        "      \n",
        "      res=0\n",
        "      def dfs(curPos,subStr):\n",
        "        if subStr==\"\": \n",
        "          nonlocal res\n",
        "          res+=1\n",
        "          return True\n",
        "        else:\n",
        "          nxChr=subStr[0]\n",
        "          if pos.get(nxChr):\n",
        "            for nxPos in pos.get(nxChr):\n",
        "              if nxPos>curPos:\n",
        "                 if dfs(nxPos,subStr[1:]):return True\n",
        "      \n",
        "      \n",
        "      for w in words:\n",
        "        if not pos.get(w[0]):continue\n",
        "        else:\n",
        "          for eachPos in pos.get(w[0]):\n",
        "            if dfs(eachPos,w[1:]): break\n",
        "\n",
        "               \n",
        "      return res\n",
        "        \n",
        "      \n",
        "      \n",
        "          \n",
        "          \n",
        "          \n",
        "        "
      ],
      "execution_count": null,
      "outputs": []
    }
  ]
}