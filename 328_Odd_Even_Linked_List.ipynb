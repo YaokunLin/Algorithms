{
  "nbformat": 4,
  "nbformat_minor": 0,
  "metadata": {
    "colab": {
      "name": "328. Odd Even Linked List.ipynb",
      "provenance": [],
      "collapsed_sections": [],
      "authorship_tag": "ABX9TyPvMgU2xB5soBWxJn5dgbA1",
      "include_colab_link": true
    },
    "kernelspec": {
      "name": "python3",
      "display_name": "Python 3"
    },
    "language_info": {
      "name": "python"
    }
  },
  "cells": [
    {
      "cell_type": "markdown",
      "metadata": {
        "id": "view-in-github",
        "colab_type": "text"
      },
      "source": [
        "<a href=\"https://colab.research.google.com/github/YaokunLin/Algorithms/blob/main/328_Odd_Even_Linked_List.ipynb\" target=\"_parent\"><img src=\"https://colab.research.google.com/assets/colab-badge.svg\" alt=\"Open In Colab\"/></a>"
      ]
    },
    {
      "cell_type": "code",
      "metadata": {
        "id": "pBhPqr-3nsYe"
      },
      "source": [
        "# Definition for singly-linked list.\n",
        "# class ListNode:\n",
        "#     def __init__(self, val=0, next=None):\n",
        "#         self.val = val\n",
        "#         self.next = next\n",
        "class Solution:\n",
        "    def oddEvenList(self, head: Optional[ListNode]) -> Optional[ListNode]:\n",
        "      if not head: return head\n",
        "      if not head.next: return head\n",
        "      \n",
        "      dummyOdd = ListNode()\n",
        "      odd = dummyOdd\n",
        "      \n",
        "      dummyEven = ListNode()\n",
        "      even = dummyEven\n",
        "      \n",
        "      idx = 1\n",
        "      cur = head\n",
        "      while cur:\n",
        "        if idx % 2 == 0: #even\n",
        "          even.next = cur\n",
        "          even = even.next\n",
        "        else: #odd\n",
        "          odd.next = cur\n",
        "          odd = odd.next\n",
        "          \n",
        "        cur = cur.next\n",
        "        idx = idx + 1\n",
        "      \n",
        "      even.next = None #cut off the end of the even\n",
        "      \n",
        "      odd.next = dummyEven.next #connect odd's with even's\n",
        "      return dummyOdd.next\n",
        "        "
      ],
      "execution_count": null,
      "outputs": []
    }
  ]
}