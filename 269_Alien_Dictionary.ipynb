{
  "nbformat": 4,
  "nbformat_minor": 0,
  "metadata": {
    "colab": {
      "name": "269. Alien Dictionary.ipynb",
      "provenance": [],
      "authorship_tag": "ABX9TyO4en896AB+hJMPZSSeEjqD",
      "include_colab_link": true
    },
    "kernelspec": {
      "name": "python3",
      "display_name": "Python 3"
    },
    "language_info": {
      "name": "python"
    }
  },
  "cells": [
    {
      "cell_type": "markdown",
      "metadata": {
        "id": "view-in-github",
        "colab_type": "text"
      },
      "source": [
        "<a href=\"https://colab.research.google.com/github/YaokunLin/Algorithms/blob/main/269_Alien_Dictionary.ipynb\" target=\"_parent\"><img src=\"https://colab.research.google.com/assets/colab-badge.svg\" alt=\"Open In Colab\"/></a>"
      ]
    },
    {
      "cell_type": "code",
      "metadata": {
        "id": "O55VJrEtnyqE"
      },
      "source": [
        "'''\n",
        "words = [\"wrt\",\"wrf\",\"er\",\"ett\",\"rftt\"]\n",
        "t -> set(f)\n",
        "w -> set(e)\n",
        "r -> t\n",
        "e -> r\n",
        "--------------------\n",
        "w -> e -> r -> t -> f\n",
        "\n",
        "a->b   c->b\n",
        "{a:0,c:0,b:2}\n",
        "acb\n",
        "cab\n",
        "\n",
        "\n",
        "\n",
        "w -> e -> r -> t -> f -> w\n",
        "\n",
        "w -> e      r -> t -> f\n",
        "\n",
        "\n",
        "\n",
        "'''\n",
        "\n",
        "\n",
        "class Solution(object):\n",
        "    def alienOrder(self, words):\n",
        "        outToIn=collections.defaultdict(set)\n",
        "        \n",
        "        inDegree={} #the lower the inDegree, the ealier in the order\n",
        "        for w in words:\n",
        "          for c in w: inDegree[c]=0\n",
        "            \n",
        "            \n",
        "        \n",
        "        for i in range(len(words)-1):\n",
        "          firstW,secondW=words[i],words[i+1]\n",
        "          minLen=min(len(firstW),len(secondW))\n",
        "          \n",
        "          foundDiff=False\n",
        "          for j in range(minLen):\n",
        "            if firstW[j]!=secondW[j]:\n",
        "              outChr,inChr=firstW[j],secondW[j]\n",
        "              if inChr not in outToIn[outChr]:\n",
        "                outToIn[outChr].add(inChr)\n",
        "                inDegree[inChr]+=1\n",
        "              foundDiff=True\n",
        "              break\n",
        "              \n",
        "          if not foundDiff and len(firstW)>len(secondW): return \"\"\n",
        "          #firstW=\"UFO\", secondW=\"UFOA\" --- this is okay\n",
        "          #firstW=\"UFOA\", secondW=\"UFO\" --- this is NOT okay, return \"\"\n",
        "        \n",
        "        zeroInDegreeChrs=[c for c in inDegree if inDegree[c]==0]\n",
        "        \n",
        "        res=[]\n",
        "        while zeroInDegreeChrs:\n",
        "          aZeroIndegreeChr=zeroInDegreeChrs.pop()\n",
        "          res.append(aZeroIndegreeChr)\n",
        "          for aInChr in outToIn[aZeroIndegreeChr]:\n",
        "            inDegree[aInChr]-=1\n",
        "            if inDegree[aInChr]==0:zeroInDegreeChrs.append(aInChr)\n",
        "              \n",
        "        \n",
        "        #print(res)\n",
        "        return \"\".join(res) if len(res)==len(inDegree) else \"\"\n",
        "        \n",
        "          \n",
        "        \n",
        "          \n",
        "          \n",
        "            \n",
        "            \n",
        "        \n",
        "        \n",
        "        \n",
        "        \n",
        "          \n",
        "              \n",
        "            \n",
        "              \n",
        "          \n",
        "        \n",
        "        "
      ],
      "execution_count": null,
      "outputs": []
    }
  ]
}