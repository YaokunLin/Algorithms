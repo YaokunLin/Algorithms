{
  "nbformat": 4,
  "nbformat_minor": 0,
  "metadata": {
    "colab": {
      "name": "11. Container With Most Water.ipynb",
      "provenance": [],
      "collapsed_sections": [],
      "authorship_tag": "ABX9TyNdYa4lOCrEQZ4JLvBFlpnS",
      "include_colab_link": true
    },
    "kernelspec": {
      "name": "python3",
      "display_name": "Python 3"
    },
    "language_info": {
      "name": "python"
    }
  },
  "cells": [
    {
      "cell_type": "markdown",
      "metadata": {
        "id": "view-in-github",
        "colab_type": "text"
      },
      "source": [
        "<a href=\"https://colab.research.google.com/github/YaokunLin/Algorithms/blob/main/11_Container_With_Most_Water.ipynb\" target=\"_parent\"><img src=\"https://colab.research.google.com/assets/colab-badge.svg\" alt=\"Open In Colab\"/></a>"
      ]
    },
    {
      "cell_type": "code",
      "metadata": {
        "id": "IEsthadI19Yj",
        "colab": {
          "base_uri": "https://localhost:8080/"
        },
        "outputId": "365e14c0-6edf-475a-dd1b-d7909aa37ae7"
      },
      "source": [
        "class Solution(object):\n",
        "    def maxArea(self, height):\n",
        "        mArea=0\n",
        "        '''\n",
        "        for i,l in enumerate(height):\n",
        "          for j in range(i+1,len(height)):\n",
        "            r=height[j]\n",
        "            calcultatedArea = (j-i)*min(l,r) # Area = distance * height\n",
        "            mArea = max(mArea,calcultatedArea)\n",
        "            \n",
        "        return mArea\n",
        "        '''\n",
        "        \n",
        "        l,r=0,len(height)-1\n",
        "        \n",
        "        while l < r:\n",
        "          calcultatedArea = (r-l) * min(height[l],height[r])\n",
        "          mArea = max(mArea,calcultatedArea)\n",
        "          \n",
        "          if height[l]>height[r]:\n",
        "            r=r-1\n",
        "          else:\n",
        "            l=l+1\n",
        "            \n",
        "        return mArea"
      ],
      "execution_count": null,
      "outputs": [
        {
          "output_type": "execute_result",
          "data": {
            "text/plain": [
              "2"
            ]
          },
          "metadata": {
            "tags": []
          },
          "execution_count": 1
        }
      ]
    }
  ]
}