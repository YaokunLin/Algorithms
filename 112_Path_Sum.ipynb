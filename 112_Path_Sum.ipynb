{
  "nbformat": 4,
  "nbformat_minor": 0,
  "metadata": {
    "colab": {
      "name": "112. Path Sum.ipynb",
      "provenance": [],
      "authorship_tag": "ABX9TyMt7D67cp+oJbpDo65Bs3pr",
      "include_colab_link": true
    },
    "kernelspec": {
      "name": "python3",
      "display_name": "Python 3"
    },
    "language_info": {
      "name": "python"
    }
  },
  "cells": [
    {
      "cell_type": "markdown",
      "metadata": {
        "id": "view-in-github",
        "colab_type": "text"
      },
      "source": [
        "<a href=\"https://colab.research.google.com/github/YaokunLin/Algorithms/blob/main/112_Path_Sum.ipynb\" target=\"_parent\"><img src=\"https://colab.research.google.com/assets/colab-badge.svg\" alt=\"Open In Colab\"/></a>"
      ]
    },
    {
      "cell_type": "code",
      "metadata": {
        "id": "kXndR8qgsOZ0"
      },
      "source": [
        "# Definition for a binary tree node.\n",
        "# class TreeNode(object):\n",
        "#     def __init__(self, val=0, left=None, right=None):\n",
        "#         self.val = val\n",
        "#         self.left = left\n",
        "#         self.right = right\n",
        "class Solution(object):\n",
        "  def hasPathSum(self, root, targetSum):\n",
        "    if root==None: return False\n",
        "    stack=[]\n",
        "    stack.append((root,targetSum-root.val))\n",
        "    \n",
        "    while stack:\n",
        "      tempRoot,remain=stack.pop()\n",
        "      if tempRoot.left==None and tempRoot.right==None and remain==0: return True\n",
        "      \n",
        "      \n",
        "      if tempRoot.left!=None: stack.append((tempRoot.left,remain-tempRoot.left.val))\n",
        "      if tempRoot.right!=None: stack.append((tempRoot.right,remain-tempRoot.right.val))\n",
        "        \n",
        "    return False\n",
        "      \n",
        "    \n",
        "  '''\n",
        "  def hasPathSum(self, root, targetSum):\n",
        "      if root==None: return False\n",
        "      def recursor(root,remain):\n",
        "        if root.left==None and root.right==None and remain ==0: return True\n",
        "        if root.left==None and root.right==None and remain !=0: return False\n",
        "\n",
        "        leftStatus,rightStatus=None,None\n",
        "        if root.left!=None: leftStatus=recursor(root.left,remain-root.left.val)\n",
        "        if root.right!=None: rightStatus=recursor(root.right,remain-root.right.val)\n",
        "\n",
        "        return leftStatus or rightStatus\n",
        "\n",
        "      return recursor(root,targetSum-root.val)\n",
        "   ''' \n",
        "        \n",
        "          \n",
        "          \n",
        "        "
      ],
      "execution_count": null,
      "outputs": []
    }
  ]
}