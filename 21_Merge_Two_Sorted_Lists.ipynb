{
  "nbformat": 4,
  "nbformat_minor": 0,
  "metadata": {
    "colab": {
      "name": "21. Merge Two Sorted Lists.ipynb",
      "provenance": [],
      "authorship_tag": "ABX9TyNIN0A5yb0NFVsio8MZWCAC",
      "include_colab_link": true
    },
    "kernelspec": {
      "name": "python3",
      "display_name": "Python 3"
    },
    "language_info": {
      "name": "python"
    }
  },
  "cells": [
    {
      "cell_type": "markdown",
      "metadata": {
        "id": "view-in-github",
        "colab_type": "text"
      },
      "source": [
        "<a href=\"https://colab.research.google.com/github/YaokunLin/Algorithms/blob/main/21_Merge_Two_Sorted_Lists.ipynb\" target=\"_parent\"><img src=\"https://colab.research.google.com/assets/colab-badge.svg\" alt=\"Open In Colab\"/></a>"
      ]
    },
    {
      "cell_type": "code",
      "metadata": {
        "id": "mymGapUmVzMP"
      },
      "source": [
        "# Definition for singly-linked list.\n",
        "# class ListNode:\n",
        "#     def __init__(self, val=0, next=None):\n",
        "#         self.val = val\n",
        "#         self.next = next\n",
        "\n",
        "'''\n",
        "1 > 6\n",
        "3 > 4 > 5\n",
        "\n",
        "grab smaller\n",
        "1 vs 3 : 1\n",
        "3 vs 6 : 3\n",
        "4 vs 6:  4\n",
        "5 va 6:  5\n",
        "\n",
        "'''\n",
        "\n",
        "class Solution:\n",
        "    def grabSmller(self,a,b):\n",
        "      return a if a.val<b.val else b \n",
        "    \n",
        "    def mergeTwoLists(self, l1: Optional[ListNode], l2: Optional[ListNode]) -> Optional[ListNode]:\n",
        "      if not l1: return l2\n",
        "      if not l2: return l1\n",
        "      if not l1 and not l2: return None\n",
        "      \n",
        "      dummyHead=ListNode(val=-101)\n",
        "      cur=dummyHead\n",
        "      \n",
        "      cur1,cur2=l1,l2\n",
        "      while cur1 and cur2:\n",
        "        smllNode=self.grabSmller(cur1,cur2)\n",
        "        cur.next=smllNode\n",
        "        cur=cur.next\n",
        "        \n",
        "        if cur1==smllNode:cur1=cur1.next\n",
        "        else:cur2=cur2.next\n",
        "          \n",
        "      if cur1:cur.next=cur1\n",
        "      if cur2:cur.next=cur2\n",
        "      \n",
        "      return dummyHead.next\n",
        "        \n",
        "      \n",
        "      \n",
        "      \n",
        "      \n",
        "        "
      ],
      "execution_count": null,
      "outputs": []
    }
  ]
}