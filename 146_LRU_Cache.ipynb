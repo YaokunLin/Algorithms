{
  "nbformat": 4,
  "nbformat_minor": 0,
  "metadata": {
    "colab": {
      "name": "146. LRU Cache.ipynb",
      "provenance": [],
      "collapsed_sections": [],
      "authorship_tag": "ABX9TyMjrUU1eOEPYI6IVNNrJZcr",
      "include_colab_link": true
    },
    "kernelspec": {
      "name": "python3",
      "display_name": "Python 3"
    },
    "language_info": {
      "name": "python"
    }
  },
  "cells": [
    {
      "cell_type": "markdown",
      "metadata": {
        "id": "view-in-github",
        "colab_type": "text"
      },
      "source": [
        "<a href=\"https://colab.research.google.com/github/YaokunLin/Algorithms/blob/main/146_LRU_Cache.ipynb\" target=\"_parent\"><img src=\"https://colab.research.google.com/assets/colab-badge.svg\" alt=\"Open In Colab\"/></a>"
      ]
    },
    {
      "cell_type": "code",
      "metadata": {
        "id": "yaAexJ4U3dwN"
      },
      "source": [
        "class DLNode():\n",
        "  def __init__(self, key=0,val=0):\n",
        "    self.key=key\n",
        "    self.val=val\n",
        "    self.prev=None\n",
        "    self.Next=None\n",
        "\n",
        "class LRUCache(object):\n",
        "    def __init__(self, capacity):\n",
        "      self.cap =capacity\n",
        "      self.dummyHead=DLNode(key=0,val=0)\n",
        "      self.dummyTail=DLNode(key=0,val=0)\n",
        "      \n",
        "      self.dummyHead.next=self.dummyTail\n",
        "      self.dummyTail.prev=self.dummyHead\n",
        "      \n",
        "      self.casheDict={}\n",
        "      \n",
        "         \n",
        "    def insert(self,node):\n",
        "      node.next=self.dummyHead.next\n",
        "      node.prev=self.dummyHead\n",
        "      self.dummyHead.next.prev=node\n",
        "      self.dummyHead.next=node\n",
        "      \n",
        "    def updateMostRecent(self,mostRecentNode):\n",
        "      self.removeNode(mostRecentNode)\n",
        "      self.insert(mostRecentNode)\n",
        "    \n",
        "    def removeNode(self, NodeToRemove):\n",
        "      nextTemp=NodeToRemove.next\n",
        "      prevTemp=NodeToRemove.prev\n",
        "      \n",
        "      nextTemp.prev=prevTemp\n",
        "      prevTemp.next=nextTemp\n",
        "    \n",
        "    def get(self, key):\n",
        "      if self.casheDict.get(key):\n",
        "        nodeToUpdate=self.casheDict.get(key)\n",
        "        self.updateMostRecent(nodeToUpdate)\n",
        "        return nodeToUpdate.val\n",
        "      else: return -1\n",
        "     \n",
        "    def put(self, key, value):\n",
        "      if self.casheDict.get(key):\n",
        "        nodeToUpdate=self.casheDict.get(key)\n",
        "        nodeToUpdate.val=value\n",
        "        self.updateMostRecent(nodeToUpdate)\n",
        "              \n",
        "      else:\n",
        "        newNode = DLNode(key=key,val=value)\n",
        "        self.casheDict[key]=newNode\n",
        "        self.insert(newNode)\n",
        "        if len(self.casheDict)> self.cap:\n",
        "          nodeToRemove= self.casheDict.pop(self.dummyTail.prev.key)\n",
        "          self.removeNode(nodeToRemove)\n",
        "          \n",
        "      \n",
        "        \n",
        "          \n",
        "          \n",
        "        \n",
        "        \n",
        "      \n",
        "        \n",
        "\n",
        "\n",
        "# Your LRUCache object will be instantiated and called as such:\n",
        "# obj = LRUCache(capacity)\n",
        "# param_1 = obj.get(key)\n",
        "# obj.put(key,value)"
      ],
      "execution_count": null,
      "outputs": []
    }
  ]
}