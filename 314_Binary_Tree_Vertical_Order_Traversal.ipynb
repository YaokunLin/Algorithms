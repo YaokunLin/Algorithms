{
  "nbformat": 4,
  "nbformat_minor": 0,
  "metadata": {
    "colab": {
      "name": "314. Binary Tree Vertical Order Traversal.ipynb",
      "provenance": [],
      "authorship_tag": "ABX9TyPxYBTAcI/WBgNnmBTRRKAd",
      "include_colab_link": true
    },
    "kernelspec": {
      "name": "python3",
      "display_name": "Python 3"
    },
    "language_info": {
      "name": "python"
    }
  },
  "cells": [
    {
      "cell_type": "markdown",
      "metadata": {
        "id": "view-in-github",
        "colab_type": "text"
      },
      "source": [
        "<a href=\"https://colab.research.google.com/github/YaokunLin/Algorithms/blob/main/314_Binary_Tree_Vertical_Order_Traversal.ipynb\" target=\"_parent\"><img src=\"https://colab.research.google.com/assets/colab-badge.svg\" alt=\"Open In Colab\"/></a>"
      ]
    },
    {
      "cell_type": "code",
      "metadata": {
        "id": "WgXCKzqkjYvK"
      },
      "source": [
        "# Definition for a binary tree node.\n",
        "# class TreeNode:\n",
        "#     def __init__(self, val=0, left=None, right=None):\n",
        "#         self.val = val\n",
        "#         self.left = left\n",
        "#         self.right = right\n",
        "# [3,   9,  8,   4, 0, 1,  7, 2,  5]\n",
        "# [0,  -1, +1   -2  0  0  +2 +1, -1 ]\n",
        "class Solution:\n",
        "    def verticalOrder(self, root: Optional[TreeNode]) -> List[List[int]]:\n",
        "      if not root: return []\n",
        "      \n",
        "      valCol=[]\n",
        "      q=[[root,0]]\n",
        "      minColIdx=0\n",
        "      maxColIdx=0\n",
        "      \n",
        "      while q:\n",
        "        aNode,colIdx=q.pop(0)\n",
        "        minColIdx=min(colIdx,minColIdx)\n",
        "        maxColIdx=max(colIdx,maxColIdx)\n",
        "        valCol.append([aNode.val,colIdx])\n",
        "        \n",
        "        if aNode.left:\n",
        "          q.append([aNode.left,colIdx-1])\n",
        "        if aNode.right:\n",
        "          q.append([aNode.right,colIdx+1])\n",
        "      \n",
        "      #[[3,0],[9,-1],[8,+1]...]\n",
        "      \n",
        "      nColumns=maxColIdx-minColIdx+1\n",
        "      ans=[[] for _ in range(nColumns)]\n",
        "\n",
        "      \n",
        "      while valCol:\n",
        "        val,colIdx=valCol.pop(0)\n",
        "        ans[colIdx-minColIdx].append(val)\n",
        "        \n",
        "      return ans\n",
        "        \n",
        "        "
      ],
      "execution_count": null,
      "outputs": []
    }
  ]
}