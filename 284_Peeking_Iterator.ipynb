{
  "nbformat": 4,
  "nbformat_minor": 0,
  "metadata": {
    "colab": {
      "name": "284. Peeking Iterator.ipynb",
      "provenance": [],
      "authorship_tag": "ABX9TyOq67zaYqyzp+jPxm8NM6TR",
      "include_colab_link": true
    },
    "kernelspec": {
      "name": "python3",
      "display_name": "Python 3"
    },
    "language_info": {
      "name": "python"
    }
  },
  "cells": [
    {
      "cell_type": "markdown",
      "metadata": {
        "id": "view-in-github",
        "colab_type": "text"
      },
      "source": [
        "<a href=\"https://colab.research.google.com/github/YaokunLin/Algorithms/blob/main/284_Peeking_Iterator.ipynb\" target=\"_parent\"><img src=\"https://colab.research.google.com/assets/colab-badge.svg\" alt=\"Open In Colab\"/></a>"
      ]
    },
    {
      "cell_type": "code",
      "metadata": {
        "id": "UN3t40ISswcO"
      },
      "source": [
        "\n",
        "\n",
        "class PeekingIterator:\n",
        "    def __init__(self, iterator):\n",
        "        self._iterator = iterator\n",
        "        self._next = None\n",
        "        self._savedNext = False\n",
        "        \n",
        "\n",
        "    def peek(self):\n",
        "        if self._savedNext: return self._next\n",
        "        \n",
        "        #no saved next\n",
        "        if not self.hasNext(): raise StopIteration()\n",
        "        \n",
        "        #has nxt:\n",
        "        anItem = self._iterator.next()\n",
        "        self._next = anItem\n",
        "        self._savedNext = True\n",
        "        return anItem\n",
        "\n",
        "    def next(self):\n",
        "        if self._savedNext: \n",
        "          returnItem = self._next\n",
        "          self._next = None\n",
        "          self._savedNext = False\n",
        "          return returnItem\n",
        "        \n",
        "        if not self.hasNext(): raise StopIteration()\n",
        "        \n",
        "        #has next\n",
        "        return self._iterator.next()\n",
        "        \n",
        "\n",
        "    def hasNext(self):\n",
        "        if self._savedNext: return True\n",
        "        return self._iterator.hasNext()\n",
        "        \n",
        "\n",
        "# Your PeekingIterator object will be instantiated and called as such:\n",
        "# iter = PeekingIterator(Iterator(nums))\n",
        "# while iter.hasNext():\n",
        "#     val = iter.peek()   # Get the next element but not advance the iterator.\n",
        "#     iter.next()         # Should return the same value as [val]."
      ],
      "execution_count": null,
      "outputs": []
    }
  ]
}