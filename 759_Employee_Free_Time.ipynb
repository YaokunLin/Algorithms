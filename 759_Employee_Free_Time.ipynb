{
  "nbformat": 4,
  "nbformat_minor": 0,
  "metadata": {
    "colab": {
      "name": "759. Employee Free Time.ipynb",
      "provenance": [],
      "collapsed_sections": [],
      "authorship_tag": "ABX9TyPZwJrEx2BBeCcXMReR2Hc2",
      "include_colab_link": true
    },
    "kernelspec": {
      "name": "python3",
      "display_name": "Python 3"
    },
    "language_info": {
      "name": "python"
    }
  },
  "cells": [
    {
      "cell_type": "markdown",
      "metadata": {
        "id": "view-in-github",
        "colab_type": "text"
      },
      "source": [
        "<a href=\"https://colab.research.google.com/github/YaokunLin/Algorithms/blob/main/759_Employee_Free_Time.ipynb\" target=\"_parent\"><img src=\"https://colab.research.google.com/assets/colab-badge.svg\" alt=\"Open In Colab\"/></a>"
      ]
    },
    {
      "cell_type": "code",
      "metadata": {
        "id": "cy56hPiG4xQJ"
      },
      "source": [
        "\"\"\"\n",
        "# Definition for an Interval.\n",
        "class Interval:\n",
        "    def __init__(self, start: int = None, end: int = None):\n",
        "        self.start = start\n",
        "        self.end = end\n",
        "\"\"\"\n",
        "\n",
        "class Solution:\n",
        "    def employeeFreeTime(self, schedule: '[[Interval]]') -> '[Interval]':\n",
        "      \n",
        "      if len(schedule) <= 1: return []\n",
        "      \n",
        "      startEnd = []\n",
        "      for employee in schedule:\n",
        "        for interval in employee:\n",
        "          startEnd.append([interval.start, interval.end])\n",
        "      \n",
        "      startEnd = sorted(startEnd)\n",
        "      \n",
        "      maxEnd = startEnd[0][1]\n",
        "      res = [] \n",
        "      for start, end in startEnd[1:]:\n",
        "        if start <= maxEnd:\n",
        "          maxEnd = max(maxEnd, end)\n",
        "        else: #start > maxEnd non-overlap\n",
        "          res.append(Interval(maxEnd, start))\n",
        "          maxEnd = end\n",
        "          \n",
        "      return res\n",
        "        \n",
        "        "
      ],
      "execution_count": null,
      "outputs": []
    }
  ]
}