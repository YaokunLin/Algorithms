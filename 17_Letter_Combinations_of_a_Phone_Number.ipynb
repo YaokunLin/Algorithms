{
  "nbformat": 4,
  "nbformat_minor": 0,
  "metadata": {
    "colab": {
      "name": "17. Letter Combinations of a Phone Number.ipynb",
      "provenance": [],
      "authorship_tag": "ABX9TyND3ksyxPX9rzg7TCpwrMJJ",
      "include_colab_link": true
    },
    "kernelspec": {
      "name": "python3",
      "display_name": "Python 3"
    },
    "language_info": {
      "name": "python"
    }
  },
  "cells": [
    {
      "cell_type": "markdown",
      "metadata": {
        "id": "view-in-github",
        "colab_type": "text"
      },
      "source": [
        "<a href=\"https://colab.research.google.com/github/YaokunLin/Algorithms/blob/main/17_Letter_Combinations_of_a_Phone_Number.ipynb\" target=\"_parent\"><img src=\"https://colab.research.google.com/assets/colab-badge.svg\" alt=\"Open In Colab\"/></a>"
      ]
    },
    {
      "cell_type": "code",
      "metadata": {
        "id": "9w_fcCRs4Y31"
      },
      "source": [
        "class Solution(object):\n",
        "    def letterCombinations(self, digits):\n",
        "      \n",
        "      if digits==\"\": return []\n",
        "        \n",
        "      mapping={}\n",
        "      mapping['0']=''\n",
        "      mapping['1']=''\n",
        "      mapping['2']='abc'  \n",
        "      mapping['3']='def'\n",
        "      mapping['4']='ghi'\n",
        "      mapping['5']='jkl'\n",
        "      mapping['6']='mno'\n",
        "      mapping['7']='pqrs'\n",
        "      mapping['8']='tuv'\n",
        "      mapping['9']='wxyz'\n",
        "      \n",
        "      ans=[] \n",
        "      \n",
        "      \n",
        "      def recursor(pter,combin):\n",
        "        if pter==len(digits):\n",
        "          ans.append(combin)\n",
        "          return\n",
        "        \n",
        "        temp = mapping[digits[pter]]\n",
        "        for c in temp:\n",
        "          recursor(pter+1,combin+c)\n",
        "      \n",
        "      \n",
        "      recursor(0,\"\")\n",
        "      return ans"
      ],
      "execution_count": null,
      "outputs": []
    }
  ]
}