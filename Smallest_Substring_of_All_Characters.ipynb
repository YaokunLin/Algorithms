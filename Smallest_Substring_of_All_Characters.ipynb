{
  "nbformat": 4,
  "nbformat_minor": 0,
  "metadata": {
    "colab": {
      "name": "Smallest Substring of All Characters.ipynb",
      "provenance": [],
      "authorship_tag": "ABX9TyPIVshl6oUkUiKxEpB0Y3Vq",
      "include_colab_link": true
    },
    "kernelspec": {
      "name": "python3",
      "display_name": "Python 3"
    },
    "language_info": {
      "name": "python"
    }
  },
  "cells": [
    {
      "cell_type": "markdown",
      "metadata": {
        "id": "view-in-github",
        "colab_type": "text"
      },
      "source": [
        "<a href=\"https://colab.research.google.com/github/YaokunLin/Algorithms/blob/main/Smallest_Substring_of_All_Characters.ipynb\" target=\"_parent\"><img src=\"https://colab.research.google.com/assets/colab-badge.svg\" alt=\"Open In Colab\"/></a>"
      ]
    },
    {
      "cell_type": "code",
      "metadata": {
        "id": "UkUlegpPWiUp"
      },
      "source": [
        "import collections\n",
        "def get_shortest_unique_substring(arr, str):\n",
        "  aStr=list(str)\n",
        "  curCountr=collections.defaultdict(int)\n",
        "  target=collections.Counter(arr)\n",
        "  minLenPossible=len(arr)\n",
        "  ans=\"\"\n",
        "  shortestLen=float('inf')\n",
        "  \n",
        "  def includesAll(big,smll):\n",
        "    return all(big[x]>=smll[x] for x in smll)\n",
        "  \n",
        "  R,L=0,0\n",
        "  while R<=len(aStr)-1:\n",
        "    curCountr[aStr[R]]+=1\n",
        "    \n",
        "    while includesAll(curCountr,target):\n",
        "      currLen=R-L+1\n",
        "      if currLen==minLenPossible: return \"\".join(aStr[L:R+1])\n",
        "      if currLen<shortestLen: \n",
        "        ans=aStr[L:R+1]\n",
        "        shortestLen=currLen\n",
        "      \n",
        "      curCountr[aStr[L]]-=1\n",
        "      L=L+1\n",
        "    \n",
        "    R+=1\n",
        "  return \"\".join(ans) if ans!=\"\" else \"\""
      ],
      "execution_count": null,
      "outputs": []
    }
  ]
}