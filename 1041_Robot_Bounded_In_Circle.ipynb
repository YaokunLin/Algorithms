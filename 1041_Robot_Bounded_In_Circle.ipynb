{
  "nbformat": 4,
  "nbformat_minor": 0,
  "metadata": {
    "colab": {
      "name": "1041. Robot Bounded In Circle.ipynb",
      "provenance": [],
      "authorship_tag": "ABX9TyMFXoPy8X53GRaCCiW3eHZC",
      "include_colab_link": true
    },
    "kernelspec": {
      "name": "python3",
      "display_name": "Python 3"
    },
    "language_info": {
      "name": "python"
    }
  },
  "cells": [
    {
      "cell_type": "markdown",
      "metadata": {
        "id": "view-in-github",
        "colab_type": "text"
      },
      "source": [
        "<a href=\"https://colab.research.google.com/github/YaokunLin/Algorithms/blob/main/1041_Robot_Bounded_In_Circle.ipynb\" target=\"_parent\"><img src=\"https://colab.research.google.com/assets/colab-badge.svg\" alt=\"Open In Colab\"/></a>"
      ]
    },
    {
      "cell_type": "code",
      "metadata": {
        "id": "JL9dWqCXhaaG"
      },
      "source": [
        "class Solution(object):\n",
        "    def isRobotBounded(self, instructions):\n",
        "        direction = [0,1]\n",
        "        pos = [0,0]\n",
        "           \n",
        "        for c in range(4):\n",
        "          for i in instructions:\n",
        "              if i=='G':\n",
        "                pos[0],pos[1] = pos[0] + direction[0], pos[1]+ direction[1]\n",
        "                \n",
        "              if i==\"L\":\n",
        "                direction[0],direction[1]=-direction[1],direction[0]\n",
        "              if i==\"R\":\n",
        "                direction[0],direction[1]=direction[1],-direction[0]\n",
        "                \n",
        "        return pos==[0,0]\n",
        "        "
      ],
      "execution_count": null,
      "outputs": []
    }
  ]
}