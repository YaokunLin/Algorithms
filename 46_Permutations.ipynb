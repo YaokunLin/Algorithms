{
  "nbformat": 4,
  "nbformat_minor": 0,
  "metadata": {
    "colab": {
      "name": "46. Permutations.ipynb",
      "provenance": [],
      "authorship_tag": "ABX9TyOKb2MHOuZbkBGoUNt4Ndts",
      "include_colab_link": true
    },
    "kernelspec": {
      "name": "python3",
      "display_name": "Python 3"
    },
    "language_info": {
      "name": "python"
    }
  },
  "cells": [
    {
      "cell_type": "markdown",
      "metadata": {
        "id": "view-in-github",
        "colab_type": "text"
      },
      "source": [
        "<a href=\"https://colab.research.google.com/github/YaokunLin/Algorithms/blob/main/46_Permutations.ipynb\" target=\"_parent\"><img src=\"https://colab.research.google.com/assets/colab-badge.svg\" alt=\"Open In Colab\"/></a>"
      ]
    },
    {
      "cell_type": "code",
      "metadata": {
        "id": "pEjk_F0MTEDq"
      },
      "source": [
        "class Solution(object):\n",
        "    def permute(self, nums):\n",
        "      ans=[] #Space: O(N!)\n",
        "        \n",
        "      def recursor(givenList,perm): #Time: O(N!)\n",
        "        if len(givenList) ==1:\n",
        "          ans.append(perm+givenList) #Time: O(N）[1,2,3]\n",
        "          return\n",
        "        else:\n",
        "          for i in range(len(givenList)):\n",
        "            copy=givenList[:]\n",
        "            aNum=copy.pop(i) #aNum=1 // aNum=2\n",
        "            recursor(copy,perm+[aNum]) #copy=[2,3], [1] // copy=[3],[1,2]\n",
        "          \n",
        "        \n",
        "      recursor(nums,[]) #givenList=[1,2,3],[]\n",
        "      return ans\n",
        "        "
      ],
      "execution_count": null,
      "outputs": []
    }
  ]
}