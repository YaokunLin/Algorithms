{
  "nbformat": 4,
  "nbformat_minor": 0,
  "metadata": {
    "colab": {
      "name": "flatten_dictionary.ipynb",
      "provenance": [],
      "authorship_tag": "ABX9TyPc61DEVMs97T4mxN4ilPqr",
      "include_colab_link": true
    },
    "kernelspec": {
      "name": "python3",
      "display_name": "Python 3"
    },
    "language_info": {
      "name": "python"
    }
  },
  "cells": [
    {
      "cell_type": "markdown",
      "metadata": {
        "id": "view-in-github",
        "colab_type": "text"
      },
      "source": [
        "<a href=\"https://colab.research.google.com/github/YaokunLin/Algorithms/blob/main/flatten_dictionary.ipynb\" target=\"_parent\"><img src=\"https://colab.research.google.com/assets/colab-badge.svg\" alt=\"Open In Colab\"/></a>"
      ]
    },
    {
      "cell_type": "code",
      "metadata": {
        "id": "-pyBSoc8tPRa"
      },
      "source": [
        "def flatten_dictionary(dictionary):\n",
        "  \n",
        "  def recursor(parentK,givenVal):\n",
        "    if type(givenVal)!= dict:\n",
        "      o[parentK]=givenVal  \n",
        "      return \n",
        "    else:\n",
        "      for eachChildK in givenVal.keys():\n",
        "        if eachChildK==\"\":\n",
        "          recursor(parentK,givenVal[eachChildK])\n",
        "        else:\n",
        "          if parentK!=\"\":recursor(parentK+\".\"+eachChildK,givenVal[eachChildK])   \n",
        "          else:recursor(eachChildK,givenVal[eachChildK])\n",
        "        \n",
        "  \n",
        "  o={}\n",
        "  for eachK in dictionary.keys():\n",
        "    recursor(eachK,dictionary[eachK])\n",
        "  \n",
        "  return o"
      ],
      "execution_count": null,
      "outputs": []
    }
  ]
}