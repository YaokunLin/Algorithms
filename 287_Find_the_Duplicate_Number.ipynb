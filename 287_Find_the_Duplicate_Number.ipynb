{
  "nbformat": 4,
  "nbformat_minor": 0,
  "metadata": {
    "colab": {
      "name": "287. Find the Duplicate Number.ipynb",
      "provenance": [],
      "authorship_tag": "ABX9TyP82A4SuHvmC0sWdFYA/l4K",
      "include_colab_link": true
    },
    "kernelspec": {
      "name": "python3",
      "display_name": "Python 3"
    },
    "language_info": {
      "name": "python"
    }
  },
  "cells": [
    {
      "cell_type": "markdown",
      "metadata": {
        "id": "view-in-github",
        "colab_type": "text"
      },
      "source": [
        "<a href=\"https://colab.research.google.com/github/YaokunLin/Algorithms/blob/main/287_Find_the_Duplicate_Number.ipynb\" target=\"_parent\"><img src=\"https://colab.research.google.com/assets/colab-badge.svg\" alt=\"Open In Colab\"/></a>"
      ]
    },
    {
      "cell_type": "code",
      "metadata": {
        "id": "zybFv1yZ0eGO"
      },
      "source": [
        "class Solution:\n",
        "    def findDuplicate(self, nums: List[int]) -> int:\n",
        "      L, R = 1, len(nums)\n",
        "      \n",
        "      while L<=R:\n",
        "        cur=(L+R)//2\n",
        "        \n",
        "        countSmllerOrEqual=0\n",
        "        for n in nums: #O(n)\n",
        "          if n<=cur:countSmllerOrEqual+=1\n",
        "        \n",
        "        if countSmllerOrEqual>cur:\n",
        "          repeated=cur\n",
        "          R=cur-1\n",
        "        else:L=cur+1\n",
        "      \n",
        "      return repeated"
      ],
      "execution_count": null,
      "outputs": []
    }
  ]
}