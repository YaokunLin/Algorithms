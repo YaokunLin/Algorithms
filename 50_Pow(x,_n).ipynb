{
  "nbformat": 4,
  "nbformat_minor": 0,
  "metadata": {
    "colab": {
      "name": "50. Pow(x, n).ipynb",
      "provenance": [],
      "collapsed_sections": [],
      "authorship_tag": "ABX9TyNzX9scwIlfCDox1viPNSWK",
      "include_colab_link": true
    },
    "kernelspec": {
      "name": "python3",
      "display_name": "Python 3"
    },
    "language_info": {
      "name": "python"
    }
  },
  "cells": [
    {
      "cell_type": "markdown",
      "metadata": {
        "id": "view-in-github",
        "colab_type": "text"
      },
      "source": [
        "<a href=\"https://colab.research.google.com/github/YaokunLin/Algorithms/blob/main/50_Pow(x%2C_n).ipynb\" target=\"_parent\"><img src=\"https://colab.research.google.com/assets/colab-badge.svg\" alt=\"Open In Colab\"/></a>"
      ]
    },
    {
      "cell_type": "code",
      "metadata": {
        "id": "8qdgYMKb0hvx"
      },
      "source": [
        "'''\n",
        "2^10= 2^5 * 2^5\n",
        "2^5=2 * 2^2 * 2^2\n",
        "2^2=2 * 2\n",
        "\n",
        "10=5+5\n",
        "5=1+2+2\n",
        "2=1+1\n",
        "\n",
        "11=1+5+5\n",
        "'''\n",
        "\n",
        "class Solution:\n",
        "    def myPow(self, x: float, n: int) -> float:\n",
        "      \n",
        "      if n==0: return 1\n",
        "      \n",
        "      def rec(power):\n",
        "        if power==1: return x\n",
        "        if power%2==0: #even power\n",
        "          part=rec(power/2)\n",
        "          return part*part\n",
        "        else: #odd power\n",
        "          part=rec(power//2)\n",
        "          return x*part*part\n",
        "      \n",
        "      ans=rec(abs(n))\n",
        "      return ans if n>0 else 1/ans\n",
        "        \n",
        "        "
      ],
      "execution_count": null,
      "outputs": []
    }
  ]
}