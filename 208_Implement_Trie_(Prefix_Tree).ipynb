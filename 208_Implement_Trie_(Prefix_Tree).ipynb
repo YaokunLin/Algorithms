{
  "nbformat": 4,
  "nbformat_minor": 0,
  "metadata": {
    "colab": {
      "name": "208. Implement Trie (Prefix Tree).ipynb",
      "provenance": [],
      "authorship_tag": "ABX9TyMAib/MgfjOkB7U95E5WjYM",
      "include_colab_link": true
    },
    "kernelspec": {
      "name": "python3",
      "display_name": "Python 3"
    },
    "language_info": {
      "name": "python"
    }
  },
  "cells": [
    {
      "cell_type": "markdown",
      "metadata": {
        "id": "view-in-github",
        "colab_type": "text"
      },
      "source": [
        "<a href=\"https://colab.research.google.com/github/YaokunLin/Algorithms/blob/main/208_Implement_Trie_(Prefix_Tree).ipynb\" target=\"_parent\"><img src=\"https://colab.research.google.com/assets/colab-badge.svg\" alt=\"Open In Colab\"/></a>"
      ]
    },
    {
      "cell_type": "code",
      "metadata": {
        "id": "LHy1L3TQPaVP"
      },
      "source": [
        "class Trie(object):\n",
        "  def __init__(self):\n",
        "    self.aTrie={}\n",
        "    self.aTrie['root']={}\n",
        "\n",
        "  def insert(self, word):\n",
        "    cur=self.aTrie['root']\n",
        "    \n",
        "    for c in word:\n",
        "      if c in cur:\n",
        "        cur=cur[c]\n",
        "      else:\n",
        "        cur[c]={}\n",
        "        cur=cur[c]\n",
        "      \n",
        "    cur[\"#\"]=True\n",
        "    \n",
        "    \n",
        "         \n",
        "  def search(self, word):\n",
        "    cur=self.aTrie['root']\n",
        "    \n",
        "    for c in word:\n",
        "      if c in cur:\n",
        "        cur=cur[c]\n",
        "      else: return False\n",
        "      \n",
        "    return cur.get(\"#\")\n",
        "\n",
        "\n",
        "  def startsWith(self, prefix):\n",
        "    cur=self.aTrie['root']\n",
        "    \n",
        "    for p in prefix:\n",
        "      if p in cur:\n",
        "        cur=cur[p]\n",
        "      else: return False\n",
        "      \n",
        "    return True\n",
        "        \n",
        "      \n",
        "\n",
        "    \n"
      ],
      "execution_count": null,
      "outputs": []
    }
  ]
}