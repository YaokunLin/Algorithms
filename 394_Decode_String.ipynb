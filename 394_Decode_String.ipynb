{
  "nbformat": 4,
  "nbformat_minor": 0,
  "metadata": {
    "colab": {
      "name": "394. Decode String.ipynb",
      "provenance": [],
      "authorship_tag": "ABX9TyMSR8rvdru9jFTAMXnPAT4Z",
      "include_colab_link": true
    },
    "kernelspec": {
      "name": "python3",
      "display_name": "Python 3"
    },
    "language_info": {
      "name": "python"
    }
  },
  "cells": [
    {
      "cell_type": "markdown",
      "metadata": {
        "id": "view-in-github",
        "colab_type": "text"
      },
      "source": [
        "<a href=\"https://colab.research.google.com/github/YaokunLin/Algorithms/blob/main/394_Decode_String.ipynb\" target=\"_parent\"><img src=\"https://colab.research.google.com/assets/colab-badge.svg\" alt=\"Open In Colab\"/></a>"
      ]
    },
    {
      "cell_type": "code",
      "metadata": {
        "id": "pdC9jsXmdND8"
      },
      "source": [
        "class Solution(object):\n",
        "    def decodeString(self, s):\n",
        "      \n",
        "      stack=[[1,\"\"]]\n",
        "      nums = [str(num) for num in range(10)]\n",
        "      \n",
        "      idx=0\n",
        "      while idx <= len(s)-1: #O(N)\n",
        "          char=s[idx]\n",
        "          if char in nums: \n",
        "            aNum=char\n",
        "            while s[idx+1] !=\"[\": #for cases where the number is not a single digit\n",
        "              idx=idx+1\n",
        "              aNum = aNum+s[idx] #for cases where the number is not a single digit\n",
        "            stack.append([int(aNum),\"\"])\n",
        "            idx=idx+1\n",
        "            continue\n",
        "          if char==\"[\": \n",
        "            idx=idx+1\n",
        "            continue\n",
        "          if char==\"]\":\n",
        "            poppedInteger,poppedString = stack.pop()\n",
        "            poppedString=poppedString*poppedInteger\n",
        "            stack[-1][-1]=stack[-1][-1]+poppedString\n",
        "            idx=idx+1\n",
        "            continue\n",
        "            \n",
        "          stack[-1][-1]=stack[-1][-1]+char\n",
        "          idx=idx+1\n",
        "      \n",
        "      return stack[0][1]"
      ],
      "execution_count": null,
      "outputs": []
    }
  ]
}