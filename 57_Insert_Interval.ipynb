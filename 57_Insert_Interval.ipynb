{
  "nbformat": 4,
  "nbformat_minor": 0,
  "metadata": {
    "colab": {
      "name": "57. Insert Interval.ipynb",
      "provenance": [],
      "authorship_tag": "ABX9TyM2XrZupIQx5TgsSGuhbZA9",
      "include_colab_link": true
    },
    "kernelspec": {
      "name": "python3",
      "display_name": "Python 3"
    },
    "language_info": {
      "name": "python"
    }
  },
  "cells": [
    {
      "cell_type": "markdown",
      "metadata": {
        "id": "view-in-github",
        "colab_type": "text"
      },
      "source": [
        "<a href=\"https://colab.research.google.com/github/YaokunLin/Algorithms/blob/main/57_Insert_Interval.ipynb\" target=\"_parent\"><img src=\"https://colab.research.google.com/assets/colab-badge.svg\" alt=\"Open In Colab\"/></a>"
      ]
    },
    {
      "cell_type": "code",
      "metadata": {
        "id": "lqOlwz8qgdf3"
      },
      "source": [
        "class Solution(object):\n",
        "    def insert(self, intervals, newInterval):\n",
        "      if intervals == []: return [newInterval]\n",
        "      \n",
        "      if intervals[0][0] > newInterval[1]:\n",
        "        intervals.insert(0,newInterval)\n",
        "        return intervals\n",
        "      \n",
        "      if intervals[-1][1] <newInterval[0]: \n",
        "        intervals.append(newInterval)\n",
        "        return intervals\n",
        "      \n",
        "      returnList=[]\n",
        "      def isOverlap(int1,int2):\n",
        "        if int1[1]>=int2[0] and int1[1] <= int2[1]: return True\n",
        "        if int1[0]>=int2[0] and int1[0] <= int2[1]: return True\n",
        "        if int1[0]<=int2[0] and int1[1] >= int2[1]: return True\n",
        "        if int1[0]>=int2[0] and int1[1] <= int2[1]: return True\n",
        "        return False\n",
        "      \n",
        "      def onLeft(int1,int2):\n",
        "        if int1[1]<int2[0]: return True\n",
        "        return False\n",
        "      \n",
        "      def onRight(int1,int2):\n",
        "        if int1[0]>int2[1]: return True\n",
        "        return False\n",
        "      \n",
        "      def merging(int1,int2): return [min(int1[0],int2[0]),max(int1[1],int2[1])]\n",
        "      \n",
        "      mInterval=newInterval[:]\n",
        "      for interval in intervals:\n",
        "        if onLeft(interval,newInterval):returnList.append(interval)\n",
        "        if isOverlap(interval,mInterval):mInterval = merging(interval,mInterval)\n",
        "        \n",
        "        if onRight(interval,mInterval):\n",
        "          if mInterval not in returnList: returnList.append(mInterval)\n",
        "          returnList.append(interval)\n",
        "      \n",
        "      if mInterval not in returnList: returnList.append(mInterval)\n",
        "      return returnList"
      ],
      "execution_count": 24,
      "outputs": []
    }
  ]
}