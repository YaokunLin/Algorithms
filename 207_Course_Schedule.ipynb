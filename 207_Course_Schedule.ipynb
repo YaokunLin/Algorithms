{
  "nbformat": 4,
  "nbformat_minor": 0,
  "metadata": {
    "colab": {
      "name": "207. Course Schedule.ipynb",
      "provenance": [],
      "authorship_tag": "ABX9TyNt50v4O1d+vboj5y+UPjZ/",
      "include_colab_link": true
    },
    "kernelspec": {
      "name": "python3",
      "display_name": "Python 3"
    },
    "language_info": {
      "name": "python"
    }
  },
  "cells": [
    {
      "cell_type": "markdown",
      "metadata": {
        "id": "view-in-github",
        "colab_type": "text"
      },
      "source": [
        "<a href=\"https://colab.research.google.com/github/YaokunLin/Algorithms/blob/main/207_Course_Schedule.ipynb\" target=\"_parent\"><img src=\"https://colab.research.google.com/assets/colab-badge.svg\" alt=\"Open In Colab\"/></a>"
      ]
    },
    {
      "cell_type": "code",
      "metadata": {
        "id": "lv3ukEnBQk7b"
      },
      "source": [
        "class Solution(object):\n",
        "    def canFinish(self, numCourses, prerequisites):\n",
        "        preReqDict={}\n",
        "        for cour in range(numCourses):\n",
        "          preReqDict[cour]=[]\n",
        "        \n",
        "        for course,preReq in  prerequisites:\n",
        "          preReqDict[course].append(preReq)\n",
        "        \n",
        "        taking=set()\n",
        "        def dfs(course):\n",
        "          if course in taking: return False # detect a cycle\n",
        "          if preReqDict[course] ==[]: return True\n",
        "          \n",
        "          taking.add(course)\n",
        "          for preR in preReqDict[course]:\n",
        "            if not (dfs(preR)): return False\n",
        "          taking.remove(course)\n",
        "          preReqDict[course] =[]\n",
        "          return True\n",
        "          \n",
        "        for cr in range(numCourses):\n",
        "          if dfs(cr)!=True: return False\n",
        "          \n",
        "        \n",
        "        return True\n",
        "          \n",
        "            \n",
        "        #preR of 1 =0\n",
        "        #preR of 0 =1\n",
        "        \n",
        "        #dfs(0)\n",
        "        #takingset (0)\n",
        "        #dfs(1)\n",
        "        #takingset (0,1)\n",
        "        #dfs(0)\n",
        "        \n",
        "        "
      ],
      "execution_count": null,
      "outputs": []
    }
  ]
}