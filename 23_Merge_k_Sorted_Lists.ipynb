{
  "nbformat": 4,
  "nbformat_minor": 0,
  "metadata": {
    "colab": {
      "name": "23. Merge k Sorted Lists.ipynb",
      "provenance": [],
      "authorship_tag": "ABX9TyPVgBR/vHovLIJBoPowhX/I",
      "include_colab_link": true
    },
    "kernelspec": {
      "name": "python3",
      "display_name": "Python 3"
    },
    "language_info": {
      "name": "python"
    }
  },
  "cells": [
    {
      "cell_type": "markdown",
      "metadata": {
        "id": "view-in-github",
        "colab_type": "text"
      },
      "source": [
        "<a href=\"https://colab.research.google.com/github/YaokunLin/Algorithms/blob/main/23_Merge_k_Sorted_Lists.ipynb\" target=\"_parent\"><img src=\"https://colab.research.google.com/assets/colab-badge.svg\" alt=\"Open In Colab\"/></a>"
      ]
    },
    {
      "cell_type": "code",
      "metadata": {
        "id": "UdKHOqgdXZKX"
      },
      "source": [
        "# Definition for singly-linked list.\n",
        "# class ListNode(object):\n",
        "#     def __init__(self, val=0, next=None):\n",
        "#         self.val = val\n",
        "#         self.next = next\n",
        "\n",
        "import heapq\n",
        "class Solution(object):\n",
        "    def mergeKLists(self, lists):\n",
        "      nums=[]\n",
        "      count=0\n",
        "      if len(lists)==0: return None\n",
        "      for LN in lists:\n",
        "        while LN:\n",
        "          nums.append(LN.val)\n",
        "          LN=LN.next\n",
        "          count=count+1 \n",
        "            \n",
        "      heapq.heapify(nums) #O(1)\n",
        "      dummyHead=ListNode(-1)\n",
        "      head=dummyHead\n",
        "      \n",
        "      while count!=0:\n",
        "        newLN=ListNode(heapq.heappop(nums))\n",
        "        head.next=newLN\n",
        "        head=head.next\n",
        "        count-=1\n",
        "        \n",
        "      return dummyHead.next\n",
        "        \n",
        "        \n",
        "      \n",
        "      \n",
        "        \n",
        "            \n",
        "        "
      ],
      "execution_count": null,
      "outputs": []
    }
  ]
}