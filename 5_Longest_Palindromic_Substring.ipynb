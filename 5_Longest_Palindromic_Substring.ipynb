{
  "nbformat": 4,
  "nbformat_minor": 0,
  "metadata": {
    "colab": {
      "name": "5. Longest Palindromic Substring.ipynb",
      "provenance": [],
      "authorship_tag": "ABX9TyOLi5kHM8BsxRfEgCpvJVA0",
      "include_colab_link": true
    },
    "kernelspec": {
      "name": "python3",
      "display_name": "Python 3"
    },
    "language_info": {
      "name": "python"
    }
  },
  "cells": [
    {
      "cell_type": "markdown",
      "metadata": {
        "id": "view-in-github",
        "colab_type": "text"
      },
      "source": [
        "<a href=\"https://colab.research.google.com/github/YaokunLin/Algorithms/blob/main/5_Longest_Palindromic_Substring.ipynb\" target=\"_parent\"><img src=\"https://colab.research.google.com/assets/colab-badge.svg\" alt=\"Open In Colab\"/></a>"
      ]
    },
    {
      "cell_type": "code",
      "metadata": {
        "id": "OdnZhEzCYuZt"
      },
      "source": [
        "'''\n",
        "    star/end\n",
        "            b   a   b   a   d\n",
        "        b   1   0   3   0   0\n",
        "        a       1   0   3   0\n",
        "        b           1   0   0    \n",
        "        a               1   0 \n",
        "        d                   1\n",
        "\n",
        "\n",
        "if s[start]=s[end] and if dp[start+1][end-1]!=0:\n",
        "  dp[start][end]=dp[start+1][end-1]+2 \n",
        "  \n",
        "b      a    b\n",
        "start  1    end\n",
        "\n",
        "find dth diagnoal: col - row=d\n",
        "'''\n",
        "\n",
        "\n",
        "class Solution:\n",
        "    def longestPalindrome(self, s: str) -> str:\n",
        "      \n",
        "      n=len(s)\n",
        "      dp=[]\n",
        "      for _ in range(n):\n",
        "        dp.append([None]*n)\n",
        "\n",
        "      maxLen=1\n",
        "      start,end=0,0 #start,end\n",
        "      \n",
        "      for i in range(n):\n",
        "        dp[i][i]=1 #main diag\n",
        "        \n",
        "        if i+1<=n-1:#2nd diag\n",
        "          if s[i]==s[i+1]: \n",
        "            dp[i][i+1]=2 \n",
        "            maxLen=2\n",
        "            start,end=i,i+1 #start,end\n",
        "          else:\n",
        "            dp[i][i+1]=0\n",
        "\n",
        "\n",
        "      \n",
        "      for d in range(2,n): #2,3,4,..,n\n",
        "        for rStart in range(n):\n",
        "          cEnd=d+rStart\n",
        "          if cEnd>n-1: break\n",
        "          \n",
        "          if s[rStart]==s[cEnd] and dp[rStart+1][cEnd-1]>0:\n",
        "            dp[rStart][cEnd]=dp[rStart+1][cEnd-1]+2\n",
        "            \n",
        "            #update the longest palindromic substring\n",
        "            if (cEnd-rStart+1)>maxLen:\n",
        "              maxLen=(cEnd-rStart+1)\n",
        "              start,end=rStart,cEnd\n",
        "           \n",
        "          else:dp[rStart][cEnd]=0\n",
        "      \n",
        "    \n",
        "      \n",
        "      \n",
        "      return s[start:end+1]\n",
        "              \n",
        "      \n",
        "      \n",
        "\n",
        "      \n",
        "      \n",
        "        \n",
        "      \n",
        "      \n",
        "          \n",
        "\n",
        "        "
      ],
      "execution_count": null,
      "outputs": []
    }
  ]
}