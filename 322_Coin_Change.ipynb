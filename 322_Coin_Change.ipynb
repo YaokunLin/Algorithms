{
  "nbformat": 4,
  "nbformat_minor": 0,
  "metadata": {
    "colab": {
      "name": "322. Coin Change.ipynb",
      "provenance": [],
      "authorship_tag": "ABX9TyM8Q9zDdJgp5zfmM8nvI5Al",
      "include_colab_link": true
    },
    "kernelspec": {
      "name": "python3",
      "display_name": "Python 3"
    },
    "language_info": {
      "name": "python"
    }
  },
  "cells": [
    {
      "cell_type": "markdown",
      "metadata": {
        "id": "view-in-github",
        "colab_type": "text"
      },
      "source": [
        "<a href=\"https://colab.research.google.com/github/YaokunLin/Algorithms/blob/main/322_Coin_Change.ipynb\" target=\"_parent\"><img src=\"https://colab.research.google.com/assets/colab-badge.svg\" alt=\"Open In Colab\"/></a>"
      ]
    },
    {
      "cell_type": "code",
      "metadata": {
        "id": "RYAA6Rnutwqv"
      },
      "source": [
        "class Solution(object):\n",
        "    def coinChange(self, coins, amount):\n",
        "      if len(coins)==1:\n",
        "        if amount%coins[0] ==0: return amount//coins[0]\n",
        "        else: return -1\n",
        "        \n",
        "      memoDict={}\n",
        "      \n",
        "      #{key: target amount\n",
        "      #val: min num of coins to reach that amount}\n",
        "      \n",
        "      for i in range(amount+1):\n",
        "        memoDict[i]= None\n",
        "        \n",
        "      for coin in coins:\n",
        "        memoDict[coin] = 1\n",
        "        \n",
        "      #{1:1}\n",
        "      #{2:1}\n",
        "      #{3:None}\n",
        "      #{4:None}\n",
        "      #{5:1}\n",
        "      #{6:None}...\n",
        "      #{11:None}\n",
        "      \n",
        "      def recursor(target):\n",
        "        if memoDict.get(target)!=None: return memoDict.get(target)\n",
        "        if target<=0: return 0\n",
        "        \n",
        "        nMinCoins=float('inf')\n",
        "        for coin in coins:\n",
        "          if target-coin>=0: nMinCoins=min(nMinCoins,1+recursor(target-coin))\n",
        "        memoDict[target]=nMinCoins\n",
        "        return  nMinCoins\n",
        "      \n",
        "      ans=recursor(amount)\n",
        "      \n",
        "      if ans==float('inf'): return -1\n",
        "      return ans"
      ],
      "execution_count": null,
      "outputs": []
    }
  ]
}