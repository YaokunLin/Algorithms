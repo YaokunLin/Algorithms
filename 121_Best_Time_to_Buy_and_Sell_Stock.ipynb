{
  "nbformat": 4,
  "nbformat_minor": 0,
  "metadata": {
    "colab": {
      "name": "121. Best Time to Buy and Sell Stock.ipynb",
      "provenance": [],
      "collapsed_sections": [],
      "authorship_tag": "ABX9TyO6hfcxwd2u7vjflAHnCuI0",
      "include_colab_link": true
    },
    "kernelspec": {
      "name": "python3",
      "display_name": "Python 3"
    },
    "language_info": {
      "name": "python"
    }
  },
  "cells": [
    {
      "cell_type": "markdown",
      "metadata": {
        "id": "view-in-github",
        "colab_type": "text"
      },
      "source": [
        "<a href=\"https://colab.research.google.com/github/YaokunLin/Algorithms/blob/main/121_Best_Time_to_Buy_and_Sell_Stock.ipynb\" target=\"_parent\"><img src=\"https://colab.research.google.com/assets/colab-badge.svg\" alt=\"Open In Colab\"/></a>"
      ]
    },
    {
      "cell_type": "code",
      "metadata": {
        "id": "JSnWDBB-T9Rv"
      },
      "source": [
        "class Solution(object):\n",
        "    def maxProfit(self, prices):\n",
        "        minPrice=float('inf')\n",
        "        maxProfit=0\n",
        "        \n",
        "        for p in prices:\n",
        "          minPrice = min(p,minPrice)\n",
        "          maxProfit = max(maxProfit,p-minPrice)\n",
        "          \n",
        "        return maxProfit\n",
        "        "
      ],
      "execution_count": null,
      "outputs": []
    }
  ]
}