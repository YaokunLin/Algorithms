{
  "nbformat": 4,
  "nbformat_minor": 0,
  "metadata": {
    "colab": {
      "name": "145. Binary Tree Postorder Traversal.ipynb",
      "provenance": [],
      "authorship_tag": "ABX9TyPrvAYWfKz1i2g+Q4iVv0UG",
      "include_colab_link": true
    },
    "kernelspec": {
      "name": "python3",
      "display_name": "Python 3"
    },
    "language_info": {
      "name": "python"
    }
  },
  "cells": [
    {
      "cell_type": "markdown",
      "metadata": {
        "id": "view-in-github",
        "colab_type": "text"
      },
      "source": [
        "<a href=\"https://colab.research.google.com/github/YaokunLin/Algorithms/blob/main/145_Binary_Tree_Postorder_Traversal.ipynb\" target=\"_parent\"><img src=\"https://colab.research.google.com/assets/colab-badge.svg\" alt=\"Open In Colab\"/></a>"
      ]
    },
    {
      "cell_type": "code",
      "metadata": {
        "id": "N6w-3h74dfXK"
      },
      "source": [
        "# Definition for a binary tree node.\n",
        "# class TreeNode(object):\n",
        "#     def __init__(self, val=0, left=None, right=None):\n",
        "#         self.val = val\n",
        "#         self.left = left\n",
        "#         self.right = right\n",
        "#L,R,Root\n",
        "'''\n",
        "             1\n",
        "            /  \\\n",
        "           2    3\n",
        "          / \\  / \\\n",
        "         4  5  6  7\n",
        "      [4,5,2,6,7,3,1]\n",
        "'''\n",
        "''' \n",
        "class Solution(object):\n",
        "    def postorderTraversal(self, root):\n",
        "        if root==None: return []\n",
        "        return self.postorderTraversal(root.left)+self.postorderTraversal(root.right)+[root.val]\n",
        " \n",
        "'''      \n",
        "class Solution(object):\n",
        "    def postorderTraversal(self, root):\n",
        "      if root==None: return []\n",
        "      stack=[]\n",
        "      stack.append(root)\n",
        "      ans=[]\n",
        "      while stack:\n",
        "        tempRoot=stack.pop()\n",
        "        ans.insert(0,tempRoot.val)\n",
        "        if tempRoot.left!=None: stack.append(tempRoot.left)\n",
        "        if tempRoot.right!=None: stack.append(tempRoot.right)\n",
        "      return ans\n",
        "    \n",
        "    #stack=[left]\n",
        "    #ans=[root.left.val,root.right.val,root.val]\n",
        "\n",
        "        "
      ],
      "execution_count": null,
      "outputs": []
    }
  ]
}