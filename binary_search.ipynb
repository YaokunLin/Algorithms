{
  "nbformat": 4,
  "nbformat_minor": 0,
  "metadata": {
    "colab": {
      "name": "binary search.ipynb",
      "provenance": [],
      "authorship_tag": "ABX9TyPAUE9w+9iq1el5gleWa9lw",
      "include_colab_link": true
    },
    "kernelspec": {
      "name": "python3",
      "display_name": "Python 3"
    },
    "language_info": {
      "name": "python"
    }
  },
  "cells": [
    {
      "cell_type": "markdown",
      "metadata": {
        "id": "view-in-github",
        "colab_type": "text"
      },
      "source": [
        "<a href=\"https://colab.research.google.com/github/YaokunLin/Algorithms/blob/main/binary_search.ipynb\" target=\"_parent\"><img src=\"https://colab.research.google.com/assets/colab-badge.svg\" alt=\"Open In Colab\"/></a>"
      ]
    },
    {
      "cell_type": "code",
      "metadata": {
        "id": "fQeix1Y1Fm04"
      },
      "source": [
        "\n",
        "\n",
        "def binarySearch(given_list,T):\n",
        "\t\tL=0\n",
        "\t\tR=len(given_list)-1\n",
        "\n",
        "\t\twhile L < R or L==R:\n",
        "\t\t\tM=(L+R)//2\n",
        "      \n",
        "\t\t\tif given_list[M]==T:\n",
        "\t\t\t\treturn M\n",
        "\t\t\tif given_list[M]>T:\n",
        "\t\t\t\tR=M-1\n",
        "\t\t\tif given_list[M]<T:\n",
        "\t\t\t\tL=M+1\n",
        "\n",
        "\t\treturn -1\n",
        "\t\t\t\n",
        "\t\t\n",
        "\t\t\n"
      ],
      "execution_count": null,
      "outputs": []
    },
    {
      "cell_type": "code",
      "metadata": {
        "colab": {
          "base_uri": "https://localhost:8080/"
        },
        "id": "UBVl3pdwFwsk",
        "outputId": "23ce0116-63cf-4c8f-a777-9e7f2d353025"
      },
      "source": [
        "given_list=[-2,3,4,7,8,9,11,13]\n",
        "T=13\n",
        "binarySearch(given_list,T)"
      ],
      "execution_count": null,
      "outputs": [
        {
          "output_type": "execute_result",
          "data": {
            "text/plain": [
              "7"
            ]
          },
          "metadata": {
            "tags": []
          },
          "execution_count": 30
        }
      ]
    },
    {
      "cell_type": "code",
      "metadata": {
        "colab": {
          "base_uri": "https://localhost:8080/"
        },
        "id": "PXDEcQ7UICrr",
        "outputId": "3a865623-bf07-4aa0-da25-0e69e2f89126"
      },
      "source": [
        ""
      ],
      "execution_count": null,
      "outputs": [
        {
          "output_type": "stream",
          "text": [
            "13\n"
          ],
          "name": "stdout"
        }
      ]
    }
  ]
}