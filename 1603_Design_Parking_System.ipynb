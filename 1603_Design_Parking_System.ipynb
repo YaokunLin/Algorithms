{
  "nbformat": 4,
  "nbformat_minor": 0,
  "metadata": {
    "colab": {
      "name": "1603. Design Parking System.ipynb",
      "provenance": [],
      "authorship_tag": "ABX9TyOswfqFkWJOdLtNsxt9VnZL",
      "include_colab_link": true
    },
    "kernelspec": {
      "name": "python3",
      "display_name": "Python 3"
    },
    "language_info": {
      "name": "python"
    }
  },
  "cells": [
    {
      "cell_type": "markdown",
      "metadata": {
        "id": "view-in-github",
        "colab_type": "text"
      },
      "source": [
        "<a href=\"https://colab.research.google.com/github/YaokunLin/Algorithms/blob/main/1603_Design_Parking_System.ipynb\" target=\"_parent\"><img src=\"https://colab.research.google.com/assets/colab-badge.svg\" alt=\"Open In Colab\"/></a>"
      ]
    },
    {
      "cell_type": "code",
      "metadata": {
        "id": "bLCq1NUWAp3w"
      },
      "source": [
        "class ParkingSystem:\n",
        "\n",
        "    def __init__(self, big: int, medium: int, small: int):\n",
        "      self.lot={}\n",
        "      self.lot[1]=big\n",
        "      self.lot[2]=medium\n",
        "      self.lot[3]=small\n",
        "      \n",
        "\n",
        "    def addCar(self, carType: int) -> bool:\n",
        "      if not self.lot.get(carType):\n",
        "        return False\n",
        "      elif self.lot.get(carType)>0:\n",
        "        self.lot[carType]-=1\n",
        "        return True\n",
        "        \n",
        "      \n",
        "        \n",
        "\n",
        "\n",
        "# Your ParkingSystem object will be instantiated and called as such:\n",
        "# obj = ParkingSystem(big, medium, small)\n",
        "# param_1 = obj.addCar(carType)"
      ],
      "execution_count": null,
      "outputs": []
    }
  ]
}