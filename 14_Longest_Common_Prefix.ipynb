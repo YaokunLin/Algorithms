{
  "nbformat": 4,
  "nbformat_minor": 0,
  "metadata": {
    "colab": {
      "name": "14. Longest Common Prefix.ipynb",
      "provenance": [],
      "authorship_tag": "ABX9TyPBogxwh1+R3zu9vVRq/YSU",
      "include_colab_link": true
    },
    "kernelspec": {
      "name": "python3",
      "display_name": "Python 3"
    },
    "language_info": {
      "name": "python"
    }
  },
  "cells": [
    {
      "cell_type": "markdown",
      "metadata": {
        "id": "view-in-github",
        "colab_type": "text"
      },
      "source": [
        "<a href=\"https://colab.research.google.com/github/YaokunLin/Algorithms/blob/main/14_Longest_Common_Prefix.ipynb\" target=\"_parent\"><img src=\"https://colab.research.google.com/assets/colab-badge.svg\" alt=\"Open In Colab\"/></a>"
      ]
    },
    {
      "cell_type": "code",
      "metadata": {
        "id": "ewREoAWPWl_d"
      },
      "source": [
        "class Solution:\n",
        "    def longestCommonPrefix(self, strs: List[str]) -> str:\n",
        "      \n",
        "      strLen=[len(s) for s in strs]\n",
        "      minLen=min(strLen)\n",
        "      \n",
        "      prefix=[]\n",
        "      for i in range(minLen):\n",
        "        ch=strs[0][i]\n",
        "        for j in range(1,len(strs)):\n",
        "          if strs[j][i]!=ch:\n",
        "            return \"\".join(prefix)\n",
        "        \n",
        "        prefix.append(ch)\n",
        "        \n",
        "      return \"\".join(prefix)\n",
        "    #aaa aaa aaa\n",
        "        "
      ],
      "execution_count": null,
      "outputs": []
    }
  ]
}