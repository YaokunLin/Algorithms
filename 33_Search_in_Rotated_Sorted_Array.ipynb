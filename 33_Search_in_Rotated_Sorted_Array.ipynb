{
  "nbformat": 4,
  "nbformat_minor": 0,
  "metadata": {
    "colab": {
      "name": "33. Search in Rotated Sorted Array.ipynb",
      "provenance": [],
      "authorship_tag": "ABX9TyMPYroFEjO7T5o0PwFuJ6WJ",
      "include_colab_link": true
    },
    "kernelspec": {
      "name": "python3",
      "display_name": "Python 3"
    },
    "language_info": {
      "name": "python"
    }
  },
  "cells": [
    {
      "cell_type": "markdown",
      "metadata": {
        "id": "view-in-github",
        "colab_type": "text"
      },
      "source": [
        "<a href=\"https://colab.research.google.com/github/YaokunLin/Algorithms/blob/main/33_Search_in_Rotated_Sorted_Array.ipynb\" target=\"_parent\"><img src=\"https://colab.research.google.com/assets/colab-badge.svg\" alt=\"Open In Colab\"/></a>"
      ]
    },
    {
      "cell_type": "code",
      "metadata": {
        "id": "GWLK9UFwri9b"
      },
      "source": [
        "class Solution(object):\n",
        "    def search(self, nums, target):\n",
        "        l,r=0,len(nums)-1\n",
        "        \n",
        "        while l<=r:\n",
        "          m=(l+r)//2\n",
        "          if nums[m]== target: return m\n",
        "          \n",
        "          if nums[l]<nums[m]: # on the left increasing partition\n",
        "            if target>nums[m]: #biggest num in the left partition < target\n",
        "              l=m+1 #Go RIGHT\n",
        "            elif nums[l]>target:#smallest num in the left partition > target\n",
        "              l=m+1 #Go RIGHT\n",
        "            else:\n",
        "              r=m-1 #Go LEFT\n",
        "              \n",
        "          elif nums[l]>nums[m]: #on the right increasing partition\n",
        "            if target<nums[m]: #smallest num in the right partition > target\n",
        "              r=m-1 #Go LEFT\n",
        "            elif target>nums[r]:#largest num in the right partition < target\n",
        "              r=m-1 #Go LEFT\n",
        "            else:\n",
        "              l=m+1 #Go RIGHT\n",
        "              \n",
        "          else: #nums[l]==nums[m]\n",
        "            l=m+1 #Go RIGHT\n",
        "            \n",
        "        return -1"
      ],
      "execution_count": null,
      "outputs": []
    }
  ]
}