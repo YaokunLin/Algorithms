{
  "nbformat": 4,
  "nbformat_minor": 0,
  "metadata": {
    "colab": {
      "name": "33. Search in Rotated Sorted Array.ipynb",
      "provenance": [],
      "collapsed_sections": [],
      "authorship_tag": "ABX9TyNqCoZQHXj1ubW1OZYyzjMh",
      "include_colab_link": true
    },
    "kernelspec": {
      "name": "python3",
      "display_name": "Python 3"
    },
    "language_info": {
      "name": "python"
    }
  },
  "cells": [
    {
      "cell_type": "markdown",
      "metadata": {
        "id": "view-in-github",
        "colab_type": "text"
      },
      "source": [
        "<a href=\"https://colab.research.google.com/github/YaokunLin/Algorithms/blob/main/33_Search_in_Rotated_Sorted_Array.ipynb\" target=\"_parent\"><img src=\"https://colab.research.google.com/assets/colab-badge.svg\" alt=\"Open In Colab\"/></a>"
      ]
    },
    {
      "cell_type": "code",
      "metadata": {
        "id": "AnDbdjRNO8I_"
      },
      "source": [
        "class Solution:\n",
        "    def search(self, nums: List[int], target: int) -> int:\n",
        "      \n",
        "      L, R = 0, len(nums) - 1\n",
        "      \n",
        "      while L <= R:\n",
        "        mid = (L + R) // 2\n",
        "        if nums[mid] == target: return mid # FOUND it!\n",
        "        \n",
        "        if nums[L] <= nums[mid]: # LHS is strictly increasing\n",
        "          if nums[L] <= target < nums[mid]: #target is in the LHS\n",
        "            R = mid - 1 # go left!\n",
        "          else:\n",
        "            L = mid + 1 # go right!\n",
        "        \n",
        "        else: # RHS is strictly increasing\n",
        "          if nums[mid] < target <= nums[R]: #target is in the RHS\n",
        "            L = mid + 1 # go right!\n",
        "          else:\n",
        "            R = mid - 1 # go left!\n",
        "            \n",
        "      return -1 # not found :(\n",
        "          \n",
        "            \n",
        "            \n",
        "            \n",
        "            \n",
        "        "
      ],
      "execution_count": null,
      "outputs": []
    }
  ]
}