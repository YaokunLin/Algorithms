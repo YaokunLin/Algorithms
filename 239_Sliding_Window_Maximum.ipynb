{
  "nbformat": 4,
  "nbformat_minor": 0,
  "metadata": {
    "colab": {
      "name": "239. Sliding Window Maximum.ipynb",
      "provenance": [],
      "authorship_tag": "ABX9TyPk0ZxEID1qkcj/5GhFVpQV",
      "include_colab_link": true
    },
    "kernelspec": {
      "name": "python3",
      "display_name": "Python 3"
    },
    "language_info": {
      "name": "python"
    }
  },
  "cells": [
    {
      "cell_type": "markdown",
      "metadata": {
        "id": "view-in-github",
        "colab_type": "text"
      },
      "source": [
        "<a href=\"https://colab.research.google.com/github/YaokunLin/Algorithms/blob/main/239_Sliding_Window_Maximum.ipynb\" target=\"_parent\"><img src=\"https://colab.research.google.com/assets/colab-badge.svg\" alt=\"Open In Colab\"/></a>"
      ]
    },
    {
      "cell_type": "code",
      "metadata": {
        "id": "-M3Er_OnuyWe"
      },
      "source": [
        "''' \n",
        "class Solution(object):\n",
        "    def maxSlidingWindow(self, nums, k):\n",
        "        ans=[]\n",
        "        for i in range(len(nums)-k+1): #O(N*K)\n",
        "          ans.append(max(nums[i:i+k]))\n",
        "        \n",
        "        return ans\n",
        "'''\n",
        "#from collections import deque\n",
        "class Solution(object):\n",
        "    def maxSlidingWindow(self, nums, k):\n",
        "      ans=[]\n",
        "      q=collections.deque() #indexes\n",
        "      \n",
        "      left,right=0,0\n",
        "      \n",
        "      while right<=len(nums)-1:\n",
        "        while q and nums[q[-1]]<nums[right]:\n",
        "          q.pop()\n",
        "        \n",
        "        q.append(right)\n",
        "        \n",
        "        if left>q[0]:q.popleft()\n",
        "        \n",
        "        if right-left+1 == k: \n",
        "          ans.append(nums[q[0]])\n",
        "          left=left+1\n",
        "          \n",
        "        right=right+1\n",
        "        \n",
        "      return ans\n",
        "          \n",
        "          \n",
        "     "
      ],
      "execution_count": null,
      "outputs": []
    }
  ]
}