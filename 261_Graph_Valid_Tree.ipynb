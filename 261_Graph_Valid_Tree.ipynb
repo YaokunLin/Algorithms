{
  "nbformat": 4,
  "nbformat_minor": 0,
  "metadata": {
    "colab": {
      "name": "261. Graph Valid Tree.ipynb",
      "provenance": [],
      "authorship_tag": "ABX9TyPg2p0ePBe2/V3+z3xblDb5",
      "include_colab_link": true
    },
    "kernelspec": {
      "name": "python3",
      "display_name": "Python 3"
    },
    "language_info": {
      "name": "python"
    }
  },
  "cells": [
    {
      "cell_type": "markdown",
      "metadata": {
        "id": "view-in-github",
        "colab_type": "text"
      },
      "source": [
        "<a href=\"https://colab.research.google.com/github/YaokunLin/Algorithms/blob/main/261_Graph_Valid_Tree.ipynb\" target=\"_parent\"><img src=\"https://colab.research.google.com/assets/colab-badge.svg\" alt=\"Open In Colab\"/></a>"
      ]
    },
    {
      "cell_type": "code",
      "metadata": {
        "id": "uaO3jp7iqqFZ"
      },
      "source": [
        "class Solution:\n",
        "    def validTree(self, n: int, edges: List[List[int]]) -> bool:\n",
        "      \n",
        "      graph={i:set() for i in range(n)}\n",
        "      \n",
        "      for a,b in edges:\n",
        "        graph[a].add(b)\n",
        "        graph[b].add(a)\n",
        "      \n",
        "      \n",
        "      visited=set()\n",
        "      def dfs(node,prev):\n",
        "        if node in visited: return False #cycle detected\n",
        "        \n",
        "        visited.add(node)\n",
        "        for nei in graph[node]:\n",
        "          if nei==prev: continue #prevent going back to the previous\n",
        "          if dfs(nei,node)==False: return False #immediately stop once detect a cycle\n",
        "          \n",
        "        return True #no cycle :)\n",
        "      \n",
        "      res=dfs(0,-1)\n",
        "      return res if len(visited)==n else False\n",
        "      #if len(visited)<n, some nodes are not covered, so it is not a tree\n",
        "        \n",
        "        \n",
        "        \n",
        "      \n",
        "        "
      ],
      "execution_count": null,
      "outputs": []
    }
  ]
}