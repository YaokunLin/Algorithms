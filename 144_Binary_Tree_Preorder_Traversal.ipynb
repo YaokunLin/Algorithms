{
  "nbformat": 4,
  "nbformat_minor": 0,
  "metadata": {
    "colab": {
      "name": "144. Binary Tree Preorder Traversal.ipynb",
      "provenance": [],
      "authorship_tag": "ABX9TyM1dTTMOx7zyKy8Z8aeisna",
      "include_colab_link": true
    },
    "kernelspec": {
      "name": "python3",
      "display_name": "Python 3"
    },
    "language_info": {
      "name": "python"
    }
  },
  "cells": [
    {
      "cell_type": "markdown",
      "metadata": {
        "id": "view-in-github",
        "colab_type": "text"
      },
      "source": [
        "<a href=\"https://colab.research.google.com/github/YaokunLin/Algorithms/blob/main/144_Binary_Tree_Preorder_Traversal.ipynb\" target=\"_parent\"><img src=\"https://colab.research.google.com/assets/colab-badge.svg\" alt=\"Open In Colab\"/></a>"
      ]
    },
    {
      "cell_type": "code",
      "metadata": {
        "id": "goZSEz8wtVrq"
      },
      "source": [
        "# Definition for a binary tree node.\n",
        "# class TreeNode(object):\n",
        "#     def __init__(self, val=0, left=None, right=None):\n",
        "#         self.val = val\n",
        "#         self.left = left\n",
        "#         self.right = right\n",
        "#Root,L,R\n",
        "'''\n",
        "             1\n",
        "            /  \\\n",
        "           2    3\n",
        "          / \\  / \\\n",
        "         4  5  6  7\n",
        "      [1,2,4,5,3,6,7]\n",
        "'''\n",
        "\n",
        "''''\n",
        "class Solution(object):\n",
        "    def preorderTraversal(self, root):\n",
        "      if root == None:\n",
        "        return []\n",
        "        \n",
        "      return [root.val] + self.preorderTraversal(root.left) + self.preorderTraversal(root.right)\n",
        "      \n",
        "iterativePreorder(node)\n",
        "  if (node == null)\n",
        "    return\n",
        "  s ← empty stack\n",
        "  s.push(node)\n",
        "  while (not s.isEmpty())\n",
        "    node ← s.pop()\n",
        "    visit(node)\n",
        "    //right child is pushed first so that left is processed first\n",
        "    if node.right ≠ null\n",
        "      s.push(node.right)\n",
        "    if node.left ≠ null\n",
        "      s.push(node.left)\n",
        "'''''\n",
        "class Solution(object):\n",
        "    def preorderTraversal(self, root):\n",
        "      if root==None: return []\n",
        "      stack=[]\n",
        "      stack.append(root)\n",
        "      ans=[]\n",
        "      \n",
        "      while stack:\n",
        "        temp=stack.pop()\n",
        "        ans.append(temp.val)\n",
        "        \n",
        "        if temp.right: stack.append(temp.right)\n",
        "        if temp.left: stack.append(temp.left)\n",
        "      \n",
        "      return ans\n",
        "\n",
        "          \n",
        "        "
      ],
      "execution_count": null,
      "outputs": []
    },
    {
      "cell_type": "code",
      "metadata": {
        "id": "BKVKY9f9t9l9"
      },
      "source": [
        ""
      ],
      "execution_count": null,
      "outputs": []
    }
  ]
}