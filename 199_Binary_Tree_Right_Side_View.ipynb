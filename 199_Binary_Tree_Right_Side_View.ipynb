{
  "nbformat": 4,
  "nbformat_minor": 0,
  "metadata": {
    "colab": {
      "name": "199. Binary Tree Right Side View.ipynb",
      "provenance": [],
      "authorship_tag": "ABX9TyOmzkkz9tn+Jgj9/Mq5pybU",
      "include_colab_link": true
    },
    "kernelspec": {
      "name": "python3",
      "display_name": "Python 3"
    },
    "language_info": {
      "name": "python"
    }
  },
  "cells": [
    {
      "cell_type": "markdown",
      "metadata": {
        "id": "view-in-github",
        "colab_type": "text"
      },
      "source": [
        "<a href=\"https://colab.research.google.com/github/YaokunLin/Algorithms/blob/main/199_Binary_Tree_Right_Side_View.ipynb\" target=\"_parent\"><img src=\"https://colab.research.google.com/assets/colab-badge.svg\" alt=\"Open In Colab\"/></a>"
      ]
    },
    {
      "cell_type": "code",
      "metadata": {
        "id": "cZ94gzZH9a0v"
      },
      "source": [
        "# Definition for a binary tree node.\n",
        "# class TreeNode:\n",
        "#     def __init__(self, val=0, left=None, right=None):\n",
        "#         self.val = val\n",
        "#         self.left = left\n",
        "#         self.right = right\n",
        "class Solution:\n",
        "    def rightSideView(self, root: Optional[TreeNode]) -> List[int]:\n",
        "      if not root: return []\n",
        "      \n",
        "      q=[root]\n",
        "      lvlOrderLeftRight=[]\n",
        "      \n",
        "      while q:\n",
        "        lvl=[]\n",
        "        tempQ=[]\n",
        "        for aNode in q:\n",
        "          lvl.append(aNode.val)\n",
        "          if aNode.left:tempQ.append(aNode.left)\n",
        "          if aNode.right:tempQ.append(aNode.right)\n",
        "            \n",
        "        q=tempQ[:]\n",
        "        tempQ=[]\n",
        "        lvlOrderLeftRight.append(lvl)\n",
        "        lvl=[]\n",
        "      \n",
        "      ans=[]\n",
        "      for lvlVals in lvlOrderLeftRight:\n",
        "        ans.append(lvlVals[-1]) #lvlVals[0] for Left Side View\n",
        "      \n",
        "      return ans\n",
        "        \n",
        "          \n",
        "            \n",
        "        \n",
        "        \n",
        "        \n",
        "        "
      ],
      "execution_count": null,
      "outputs": []
    }
  ]
}