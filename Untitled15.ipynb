{
  "nbformat": 4,
  "nbformat_minor": 0,
  "metadata": {
    "colab": {
      "name": "Untitled15.ipynb",
      "provenance": [],
      "authorship_tag": "ABX9TyONEMko3QY5fe2isNU4Okmx",
      "include_colab_link": true
    },
    "kernelspec": {
      "name": "python3",
      "display_name": "Python 3"
    },
    "language_info": {
      "name": "python"
    }
  },
  "cells": [
    {
      "cell_type": "markdown",
      "metadata": {
        "id": "view-in-github",
        "colab_type": "text"
      },
      "source": [
        "<a href=\"https://colab.research.google.com/github/YaokunLin/Algorithms/blob/main/Untitled15.ipynb\" target=\"_parent\"><img src=\"https://colab.research.google.com/assets/colab-badge.svg\" alt=\"Open In Colab\"/></a>"
      ]
    },
    {
      "cell_type": "code",
      "metadata": {
        "colab": {
          "base_uri": "https://localhost:8080/"
        },
        "id": "_G6LMNl_F4D2",
        "outputId": "12ccc156-aac3-4ca2-cedc-b5b3a0827be7"
      },
      "source": [
        "class Solution(object):\n",
        "    def merge(self, intervals):\n",
        "      ans=[]\n",
        "      \n",
        "      def sortKey(interval):\n",
        "        return interval[0]   \n",
        "      intervals=sorted(intervals,key=sortKey) # sort it by start time\n",
        "      \n",
        "      #  |====|\n",
        "      #     |===|\n",
        "      \n",
        "      #  |====|\n",
        "      #             |===|\n",
        "      \n",
        "      #  |=======|\n",
        "      #    |===|\n",
        "      \n",
        "      ans.append(intervals[0])\n",
        "      \n",
        "      for itervl in intervals:\n",
        "        if itervl[0]<=ans[-1][1]:\n",
        "          ans[-1][1]=max(ans[-1][1],itervl[1])\n",
        "        else:\n",
        "          ans.append(itervl)\n",
        "          \n",
        "      return ans\n",
        "      \n",
        "      \n",
        "        "
      ],
      "execution_count": null,
      "outputs": [
        {
          "output_type": "stream",
          "text": [
            "11\n"
          ],
          "name": "stdout"
        }
      ]
    }
  ]
}