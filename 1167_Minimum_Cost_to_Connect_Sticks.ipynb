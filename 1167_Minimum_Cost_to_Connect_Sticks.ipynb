{
  "nbformat": 4,
  "nbformat_minor": 0,
  "metadata": {
    "colab": {
      "name": "1167. Minimum Cost to Connect Sticks.ipynb",
      "provenance": [],
      "authorship_tag": "ABX9TyM1087Lr8Nsfks15eUNlu1h",
      "include_colab_link": true
    },
    "kernelspec": {
      "name": "python3",
      "display_name": "Python 3"
    },
    "language_info": {
      "name": "python"
    }
  },
  "cells": [
    {
      "cell_type": "markdown",
      "metadata": {
        "id": "view-in-github",
        "colab_type": "text"
      },
      "source": [
        "<a href=\"https://colab.research.google.com/github/YaokunLin/Algorithms/blob/main/1167_Minimum_Cost_to_Connect_Sticks.ipynb\" target=\"_parent\"><img src=\"https://colab.research.google.com/assets/colab-badge.svg\" alt=\"Open In Colab\"/></a>"
      ]
    },
    {
      "cell_type": "code",
      "metadata": {
        "id": "BAgJt-IKd2Ur"
      },
      "source": [
        "class Solution(object):\n",
        "    def connectSticks(self, sticks):\n",
        "        if len(sticks)<=1: return 0\n",
        "        heapq.heapify(sticks) #O(N)\n",
        "        \n",
        "        cost=0\n",
        "        while len(sticks)>1: #N Times\n",
        "          shortestA =heapq.heappop(sticks) #O(logN)\n",
        "          shortestB = heapq.heappop(sticks) #O(logN)\n",
        "          newStick=shortestA+shortestB\n",
        "          cost+=newStick\n",
        "          heapq.heappush(sticks,newStick)#O(logN)\n",
        "          \n",
        "        return cost\n",
        "          \n",
        "          \n",
        "        "
      ],
      "execution_count": null,
      "outputs": []
    }
  ]
}