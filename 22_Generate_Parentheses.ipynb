{
  "nbformat": 4,
  "nbformat_minor": 0,
  "metadata": {
    "colab": {
      "name": "22. Generate Parentheses.ipynb",
      "provenance": [],
      "authorship_tag": "ABX9TyPVPgrjbFeJydVYQGj84u67",
      "include_colab_link": true
    },
    "kernelspec": {
      "name": "python3",
      "display_name": "Python 3"
    },
    "language_info": {
      "name": "python"
    }
  },
  "cells": [
    {
      "cell_type": "markdown",
      "metadata": {
        "id": "view-in-github",
        "colab_type": "text"
      },
      "source": [
        "<a href=\"https://colab.research.google.com/github/YaokunLin/Algorithms/blob/main/22_Generate_Parentheses.ipynb\" target=\"_parent\"><img src=\"https://colab.research.google.com/assets/colab-badge.svg\" alt=\"Open In Colab\"/></a>"
      ]
    },
    {
      "cell_type": "code",
      "metadata": {
        "id": "Tgj5zwQlLXUs"
      },
      "source": [
        "#)(\n",
        "#n=1, open=0,close = 0\n",
        "#() open=1,close = 1\n",
        "\n",
        "#when open<n, can add (\n",
        "#when close<open, can add)\n",
        "\n",
        "#n=2, open=0,close = 0\n",
        "#(, open=1,close = 0\n",
        "#------------------------\n",
        "#(), open=1,close = 1 \n",
        "#()(, open=2,close = 1 \n",
        "#()(), open=2,close = 2\n",
        "#------------------------\n",
        "#((, open=2,close = 0\n",
        "#((), open=2,close = 1\n",
        "#(()), open=2,close = 2\n",
        "\n",
        "class Solution(object):\n",
        "    def generateParenthesis(self, n):\n",
        "      \n",
        "      ans=[]\n",
        "   \n",
        "      def recursor(givenOpen,givenClose,givenStr):\n",
        "        if givenOpen==givenClose==n:\n",
        "          ans.append(givenStr)\n",
        "        \n",
        "        if givenOpen<=n-1:\n",
        "          recursor(givenOpen+1,givenClose,givenStr+\"(\")\n",
        "        if givenClose<givenOpen:\n",
        "          recursor(givenOpen,givenClose+1,givenStr+\")\")\n",
        "          \n",
        "      recursor(1,0,\"(\")\n",
        "      \n",
        "      return ans\n",
        "    \n",
        "    #Time/Space:O(2^2n)\n",
        "      \n",
        "\n",
        "\n",
        "\n",
        "\n",
        "\n"
      ],
      "execution_count": null,
      "outputs": []
    }
  ]
}