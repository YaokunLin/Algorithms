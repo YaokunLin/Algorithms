{
  "nbformat": 4,
  "nbformat_minor": 0,
  "metadata": {
    "colab": {
      "name": "102. Binary Tree Level Order Traversal.ipynb",
      "provenance": [],
      "authorship_tag": "ABX9TyP9y4AVZMXhD/Nn5b3y5+f6",
      "include_colab_link": true
    },
    "kernelspec": {
      "name": "python3",
      "display_name": "Python 3"
    },
    "language_info": {
      "name": "python"
    }
  },
  "cells": [
    {
      "cell_type": "markdown",
      "metadata": {
        "id": "view-in-github",
        "colab_type": "text"
      },
      "source": [
        "<a href=\"https://colab.research.google.com/github/YaokunLin/Algorithms/blob/main/102_Binary_Tree_Level_Order_Traversal.ipynb\" target=\"_parent\"><img src=\"https://colab.research.google.com/assets/colab-badge.svg\" alt=\"Open In Colab\"/></a>"
      ]
    },
    {
      "cell_type": "code",
      "metadata": {
        "colab": {
          "base_uri": "https://localhost:8080/"
        },
        "id": "z-TYqtkfYoUA",
        "outputId": "295b0f3e-fff7-4142-c00c-eef58f4e581e"
      },
      "source": [
        "# Definition for a binary tree node.\n",
        "# class TreeNode(object):\n",
        "#     def __init__(self, val=0, left=None, right=None):\n",
        "#         self.val = val\n",
        "#         self.left = left\n",
        "#         self.right = right\n",
        "class Solution(object):\n",
        "    def levelOrder(self, root):\n",
        "      if root==None: return []\n",
        "      \n",
        "      q1=[root]\n",
        "      q2=[]\n",
        "      ans=[]\n",
        "      lvl=[]\n",
        "      \n",
        "      while q1 or q2:\n",
        "        while q1:\n",
        "          tempRoot=q1.pop(0)\n",
        "          \n",
        "          if tempRoot.left!=None: q2.append(tempRoot.left)\n",
        "          if tempRoot.right!=None: q2.append(tempRoot.right)\n",
        "          lvl.append(tempRoot.val)\n",
        "          \n",
        "        q1=q2\n",
        "        q2=[]\n",
        "        ans.append(lvl)\n",
        "        lvl=[]\n",
        "        \n",
        "      return ans\n",
        "        \n",
        "     \n",
        "      \n"
      ],
      "execution_count": null,
      "outputs": [
        {
          "output_type": "stream",
          "text": [
            "((1, 7), (2, 8), (3, 9), (4, 10))\n"
          ],
          "name": "stdout"
        }
      ]
    },
    {
      "cell_type": "code",
      "metadata": {
        "id": "Ynq9gaKImzwe"
      },
      "source": [
        "class Solution(object):\n",
        "    def levelOrder(self, root):\n",
        "      if root==None: return []\n",
        "      ans=[]\n",
        "      def recursor(root,lvl):\n",
        "        if len(ans)==lvl:\n",
        "          ans.append([])\n",
        "        ans[lvl].append(root.val)\n",
        "        \n",
        "        if root.left!=None:\n",
        "          recursor(root.left,lvl+1)\n",
        "       \n",
        "        if root.right!=None:\n",
        "          recursor(root.right,lvl+1)\n",
        "      \n",
        "      recursor(root,0)\n",
        "      return ans"
      ],
      "execution_count": null,
      "outputs": []
    }
  ]
}