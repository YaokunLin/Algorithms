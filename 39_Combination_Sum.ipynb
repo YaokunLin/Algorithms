{
  "nbformat": 4,
  "nbformat_minor": 0,
  "metadata": {
    "colab": {
      "name": "39. Combination Sum.ipynb",
      "provenance": [],
      "authorship_tag": "ABX9TyO8LtK4wqwyUmkUm+rwxcnW",
      "include_colab_link": true
    },
    "kernelspec": {
      "name": "python3",
      "display_name": "Python 3"
    },
    "language_info": {
      "name": "python"
    }
  },
  "cells": [
    {
      "cell_type": "markdown",
      "metadata": {
        "id": "view-in-github",
        "colab_type": "text"
      },
      "source": [
        "<a href=\"https://colab.research.google.com/github/YaokunLin/Algorithms/blob/main/39_Combination_Sum.ipynb\" target=\"_parent\"><img src=\"https://colab.research.google.com/assets/colab-badge.svg\" alt=\"Open In Colab\"/></a>"
      ]
    },
    {
      "cell_type": "code",
      "metadata": {
        "id": "qAILDg0cphcZ"
      },
      "source": [
        "class Solution:\n",
        "    def combinationSum(self, candidates: List[int], target: int) -> List[List[int]]:\n",
        "      \n",
        "      candidates=sorted(candidates)\n",
        "      seen={}\n",
        "      minCan,maxCan=candidates[0],candidates[-1]\n",
        "      \n",
        "      \n",
        "      def recursor(needed,aList):\n",
        "        if needed==0:\n",
        "          aCount=collections.Counter(sorted(aList))\n",
        "          aKey=str(aCount)\n",
        "          print(aKey)\n",
        "          if not seen.get(aKey):\n",
        "            seen[aKey]=aList\n",
        "          return\n",
        "        \n",
        "        elif needed<0:return\n",
        "        \n",
        "        else:#needed>0\n",
        "          if needed<minCan: return #not possible\n",
        "          else:\n",
        "            for n in candidates:\n",
        "              if n>needed: return\n",
        "              temp=aList[:]\n",
        "              temp.append(n)\n",
        "              recursor(needed-n,temp)\n",
        "          \n",
        "      \n",
        "      for n in candidates:\n",
        "        if n>target: continue\n",
        "        else:\n",
        "          recursor(needed=target-n,aList=[n])\n",
        "          \n",
        "      print(seen)\n",
        "      return seen.values()\n",
        "        "
      ],
      "execution_count": null,
      "outputs": []
    }
  ]
}