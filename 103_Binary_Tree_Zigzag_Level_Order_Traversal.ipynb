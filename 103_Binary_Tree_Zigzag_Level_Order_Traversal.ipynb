{
  "nbformat": 4,
  "nbformat_minor": 0,
  "metadata": {
    "colab": {
      "name": "103. Binary Tree Zigzag Level Order Traversal.ipynb",
      "provenance": [],
      "authorship_tag": "ABX9TyOtjAj3VsDawOYxwKihatb0",
      "include_colab_link": true
    },
    "kernelspec": {
      "name": "python3",
      "display_name": "Python 3"
    },
    "language_info": {
      "name": "python"
    }
  },
  "cells": [
    {
      "cell_type": "markdown",
      "metadata": {
        "id": "view-in-github",
        "colab_type": "text"
      },
      "source": [
        "<a href=\"https://colab.research.google.com/github/YaokunLin/Algorithms/blob/main/103_Binary_Tree_Zigzag_Level_Order_Traversal.ipynb\" target=\"_parent\"><img src=\"https://colab.research.google.com/assets/colab-badge.svg\" alt=\"Open In Colab\"/></a>"
      ]
    },
    {
      "cell_type": "code",
      "metadata": {
        "id": "NTJeYv_DdBN-"
      },
      "source": [
        "# Definition for a binary tree node.\n",
        "# class TreeNode(object):\n",
        "#     def __init__(self, val=0, left=None, right=None):\n",
        "#         self.val = val\n",
        "#         self.left = left\n",
        "#         self.right = right\n",
        "#\n",
        "#               1\n",
        "#             /   \\\n",
        "#            2     3\n",
        "#           / \\   / \\\n",
        "#          4   5  6  7\n",
        "#\n",
        "#[[1],[3,2],[4,5,6,7]]\n",
        "\n",
        "\n",
        "class Solution(object):\n",
        "    def zigzagLevelOrder(self, root):\n",
        "      if root==None: return []\n",
        "      stack1=[root]\n",
        "      stack2=[]\n",
        "      ans=[]\n",
        "\n",
        "\n",
        "      while stack1 or stack2:\n",
        "        tempList=[]\n",
        "        while stack1:\n",
        "          tempRoot=stack1.pop()\n",
        "          if tempRoot.left!=None: stack2.append(tempRoot.left)\n",
        "          if tempRoot.right!=None: stack2.append(tempRoot.right)\n",
        "          tempList.append(tempRoot.val)\n",
        "        if tempList!=[]:ans.append(tempList)  \n",
        "\n",
        "        tempList=[]\n",
        "        while stack2:\n",
        "          tempRoot=stack2.pop()\n",
        "          if tempRoot.right!=None: stack1.append(tempRoot.right)\n",
        "          if tempRoot.left!=None: stack1.append(tempRoot.left)\n",
        "          tempList.append(tempRoot.val)\n",
        "        if tempList!=[]:ans.append(tempList)  \n",
        "\n",
        "      return ans\n",
        "            \n",
        "                       \n",
        "            \n",
        "            \n",
        "          \n",
        "          \n",
        "          \n",
        "          \n",
        "          \n",
        "            \n",
        "        \n",
        "        "
      ],
      "execution_count": null,
      "outputs": []
    }
  ]
}