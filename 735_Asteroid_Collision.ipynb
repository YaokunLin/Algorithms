{
  "nbformat": 4,
  "nbformat_minor": 0,
  "metadata": {
    "colab": {
      "name": "735. Asteroid Collision.ipynb",
      "provenance": [],
      "authorship_tag": "ABX9TyNdbeSae7m5a5HTgatLTZZq",
      "include_colab_link": true
    },
    "kernelspec": {
      "name": "python3",
      "display_name": "Python 3"
    },
    "language_info": {
      "name": "python"
    }
  },
  "cells": [
    {
      "cell_type": "markdown",
      "metadata": {
        "id": "view-in-github",
        "colab_type": "text"
      },
      "source": [
        "<a href=\"https://colab.research.google.com/github/YaokunLin/Algorithms/blob/main/735_Asteroid_Collision.ipynb\" target=\"_parent\"><img src=\"https://colab.research.google.com/assets/colab-badge.svg\" alt=\"Open In Colab\"/></a>"
      ]
    },
    {
      "cell_type": "code",
      "metadata": {
        "id": "e9B1U8eTdYbJ"
      },
      "source": [
        "class Solution(object):\n",
        "    def asteroidCollision(self, asteroids):\n",
        "        \"\"\"\n",
        "        :type asteroids: List[int]\n",
        "        :rtype: List[int]\n",
        "        \"\"\"\n",
        "        \n",
        "        stack=[]#LIFO\n",
        "        tempList=[]\n",
        "        for a in asteroids:\n",
        "          if a<0 and stack==[]: #stack: []  new aster: -a, left\n",
        "            tempList.append(a) #toward right with an empty stack\n",
        "            continue\n",
        "          \n",
        "          if a>0: stack.append(a) #stack: []  new aster: +a, right\n",
        "          \n",
        "          else: #stack: [...]  new aster: -a, right\n",
        "            left=a\n",
        "            if  stack!=[]: temp=stack.pop()\n",
        "            \n",
        "            while temp:\n",
        "              \n",
        "              if temp>0: #temp=+a, right\n",
        "                right=temp\n",
        "                if right>-left:\n",
        "                  stack.append(right) #+a wins, put +a back in\n",
        "                  break\n",
        "                elif right<-left:\n",
        "                  if stack!=[]:temp=stack.pop() #+a loses, get 1 new +a, right (back to the loop)\n",
        "                  else: \n",
        "                    stack.append(left) #stack:[], all +a right's are dead\n",
        "                    break\n",
        "                elif right == -left:\n",
        "                  break\n",
        "              \n",
        "              else: #temp<0, all +a right's are dead\n",
        "                stack.append(temp)\n",
        "                stack.append(left)\n",
        "                break\n",
        "                \n",
        "             \n",
        "\n",
        "        return tempList+stack\n",
        "              \n",
        "        "
      ],
      "execution_count": null,
      "outputs": []
    }
  ]
}