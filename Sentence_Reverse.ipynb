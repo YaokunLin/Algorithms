{
  "nbformat": 4,
  "nbformat_minor": 0,
  "metadata": {
    "colab": {
      "name": "Sentence Reverse.ipynb",
      "provenance": [],
      "authorship_tag": "ABX9TyNxBBEScuj9WrwYY1nfvfb+",
      "include_colab_link": true
    },
    "kernelspec": {
      "name": "python3",
      "display_name": "Python 3"
    },
    "language_info": {
      "name": "python"
    }
  },
  "cells": [
    {
      "cell_type": "markdown",
      "metadata": {
        "id": "view-in-github",
        "colab_type": "text"
      },
      "source": [
        "<a href=\"https://colab.research.google.com/github/YaokunLin/Algorithms/blob/main/Sentence_Reverse.ipynb\" target=\"_parent\"><img src=\"https://colab.research.google.com/assets/colab-badge.svg\" alt=\"Open In Colab\"/></a>"
      ]
    },
    {
      "cell_type": "code",
      "metadata": {
        "id": "AzwJPxxNlrMj"
      },
      "source": [
        "'''\n",
        "given: ['a','b','c',' ','d','e']\n",
        "step1 ['e','d',' ','c','b','a']\n",
        "step2 ['e','d',' ','c','b','a',' ']\n",
        "step3 ['d','e',' ','a','b','c',' ']\n",
        "return ['d','e',' ','a','b','c']\n",
        "\n",
        "'''\n",
        "def reverse_words(arr):\n",
        "\n",
        "  arr=arr[::-1]\n",
        "  arr=arr+[' ']\n",
        "  \n",
        "  \n",
        "  def swap(a,b):\n",
        "    while a<b:\n",
        "      arr[a],arr[b]=arr[b],arr[a]\n",
        "      a+=1\n",
        "      b-=1\n",
        "  \n",
        "  L,R=0,0\n",
        "  while R<=len(arr)-1:\n",
        "    if arr[R]==\" \":\n",
        "      swap(L,R-1)\n",
        "      L=R+1\n",
        "    R=R+1\n",
        "\n",
        "  return arr[:-1]"
      ],
      "execution_count": null,
      "outputs": []
    }
  ]
}