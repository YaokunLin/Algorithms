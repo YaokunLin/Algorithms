{
  "nbformat": 4,
  "nbformat_minor": 0,
  "metadata": {
    "colab": {
      "name": "Amazon OOD [Design Unix File Search API].ipynb",
      "provenance": [],
      "authorship_tag": "ABX9TyM1hIOw9JbO7HhAFPB+ft7s",
      "include_colab_link": true
    },
    "kernelspec": {
      "name": "python3",
      "display_name": "Python 3"
    },
    "language_info": {
      "name": "python"
    }
  },
  "cells": [
    {
      "cell_type": "markdown",
      "metadata": {
        "id": "view-in-github",
        "colab_type": "text"
      },
      "source": [
        "<a href=\"https://colab.research.google.com/github/YaokunLin/Algorithms/blob/main/Amazon_OOD_%5BDesign_Unix_File_Search_API%5D.ipynb\" target=\"_parent\"><img src=\"https://colab.research.google.com/assets/colab-badge.svg\" alt=\"Open In Colab\"/></a>"
      ]
    },
    {
      "cell_type": "code",
      "metadata": {
        "id": "nQ9k0RBxjx2j"
      },
      "source": [
        "class File():\n",
        "  def __init__(self,name,size):\n",
        "    self.name=name\n",
        "    self.size=size\n",
        "    self.children=[]\n",
        "    self.isDirectory = False if '.' in name else True\n",
        "    self.children = []\n",
        "    self.extension = name.split(\".\")[1] if '.' in name else \"\"\n",
        "  \n",
        "  def __repr__(self):\n",
        "    return \"{\"+self.name+\"}\"\n",
        "\n",
        "class filter():\n",
        "  def __init__(self):\n",
        "    pass\n",
        "  def apply(self,file):\n",
        "    pass\n",
        "\n",
        "class minSizeFilter(filter):\n",
        "  def __init__(self,size):\n",
        "    self.size=size\n",
        "  def apply(self,file):\n",
        "    return file.size>self.size\n",
        "\n",
        "class extensionFilter(filter):\n",
        "  def __init__(self,extension):\n",
        "    self.extension=extension\n",
        "  def apply(self,file):\n",
        "    return file.extension==self.extension\n",
        "\n",
        "class fileSystem():\n",
        "  def __init__(self):\n",
        "    self.filters=[]\n",
        "  def addFilter(self,givenFilter):\n",
        "    if  isinstance(givenFilter,filter):self.filters.append(givenFilter) \n",
        "\n",
        "\n",
        "  def applyORFiltering(self,root):\n",
        "    \n",
        "    def dfs(root,result):  \n",
        "      if root.isDirectory:\n",
        "        for child in root.children: dfs(child,result)\n",
        "      else:\n",
        "        for filter in self.filters:\n",
        "          if filter.apply(root):\n",
        "            result.append(root)\n",
        "            print(result)\n",
        "            return\n",
        "\n",
        "    result=[]\n",
        "    dfs(root,result)\n",
        "    return result\n",
        "\n",
        "  def applyANDFiltering(self,root):\n",
        "    \n",
        "    def dfs(root,result):  \n",
        "      if root.isDirectory:\n",
        "        for child in root.children: dfs(child,result)\n",
        "      else:\n",
        "        for filter in self.filters:\n",
        "          if not filter.apply(root):\n",
        "            return  \n",
        "        result.append(root)\n",
        "        print(result)\n",
        "            \n",
        "\n",
        "\n",
        "    result=[]\n",
        "    dfs(root,result)\n",
        "    return result\n",
        "\n",
        "f1 = File(\"root_300\", 300)\n",
        "\n",
        "f2 = File(\"fiction_100\", 100)\n",
        "f3 = File(\"action_100\", 100)\n",
        "f4 = File(\"comedy_100\", 100)\n",
        "f1.children=[f2,f3,f4]\n",
        "\n",
        "f5= File(\"StarTrek_4.txt\", 4)\n",
        "f6=File(\"StarWars_10.xml\", 10)\n",
        "f7= File(\"JusticeLeague_15.txt\", 15)\n",
        "f8= File(\"Spock_1.jpg\", 1)\n",
        "f2.children=[f5,f6,f7,f8]\n",
        "\n",
        "f9= File(\"IronMan_9.txt\", 9)\n",
        "f10= File(\"MissionImpossible_10.rar\", 10)\n",
        "f11= File(\"TheLordOfRings_3.zip\", 3)\n",
        "f3.children=[f9,f10,f11]\n",
        "\n",
        "f11= File(\"BigBangTheory_4.txt\", 4)\n",
        "f12= File(\"AmericanPie_6.mp3\", 6)\n",
        "f4.children=[f11,f12]\n",
        "\n",
        "\n",
        "greater5=minSizeFilter(5)\n",
        "txtFilter=extensionFilter(\"txt\")\n",
        "\n",
        "myFileSystem=fileSystem()\n",
        "myFileSystem.addFilter(greater5)\n",
        "myFileSystem.addFilter(txtFilter)\n",
        "\n"
      ],
      "execution_count": 23,
      "outputs": []
    },
    {
      "cell_type": "code",
      "metadata": {
        "colab": {
          "base_uri": "https://localhost:8080/"
        },
        "id": "n2wuLE3P6Tj_",
        "outputId": "761a5e3f-5d34-4b78-e88d-9dd99654e7be"
      },
      "source": [
        "print(myFileSystem.applyORFiltering(f1))"
      ],
      "execution_count": 25,
      "outputs": [
        {
          "output_type": "stream",
          "text": [
            "[{StarTrek_4.txt}]\n",
            "[{StarTrek_4.txt}, {StarWars_10.xml}]\n",
            "[{StarTrek_4.txt}, {StarWars_10.xml}, {JusticeLeague_15.txt}]\n",
            "[{StarTrek_4.txt}, {StarWars_10.xml}, {JusticeLeague_15.txt}, {IronMan_9.txt}]\n",
            "[{StarTrek_4.txt}, {StarWars_10.xml}, {JusticeLeague_15.txt}, {IronMan_9.txt}, {MissionImpossible_10.rar}]\n",
            "[{StarTrek_4.txt}, {StarWars_10.xml}, {JusticeLeague_15.txt}, {IronMan_9.txt}, {MissionImpossible_10.rar}, {BigBangTheory_4.txt}]\n",
            "[{StarTrek_4.txt}, {StarWars_10.xml}, {JusticeLeague_15.txt}, {IronMan_9.txt}, {MissionImpossible_10.rar}, {BigBangTheory_4.txt}, {AmericanPie_6.mp3}]\n",
            "[{StarTrek_4.txt}, {StarWars_10.xml}, {JusticeLeague_15.txt}, {IronMan_9.txt}, {MissionImpossible_10.rar}, {BigBangTheory_4.txt}, {AmericanPie_6.mp3}]\n"
          ],
          "name": "stdout"
        }
      ]
    },
    {
      "cell_type": "code",
      "metadata": {
        "colab": {
          "base_uri": "https://localhost:8080/"
        },
        "id": "WqX3rTJB7M8D",
        "outputId": "b5705b8a-0e34-427f-fd82-19cecda848a7"
      },
      "source": [
        "print(myFileSystem.applyANDFiltering(f1))"
      ],
      "execution_count": 24,
      "outputs": [
        {
          "output_type": "stream",
          "text": [
            "[{JusticeLeague_15.txt}]\n",
            "[{JusticeLeague_15.txt}, {IronMan_9.txt}]\n",
            "[{JusticeLeague_15.txt}, {IronMan_9.txt}]\n"
          ],
          "name": "stdout"
        }
      ]
    }
  ]
}