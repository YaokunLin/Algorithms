{
  "nbformat": 4,
  "nbformat_minor": 0,
  "metadata": {
    "colab": {
      "name": "LeetCode 695. Max Area of Island.ipynb",
      "provenance": [],
      "collapsed_sections": [],
      "authorship_tag": "ABX9TyM4Q2bhZmxZJmJmwYftU0tJ",
      "include_colab_link": true
    },
    "kernelspec": {
      "name": "python3",
      "display_name": "Python 3"
    },
    "language_info": {
      "name": "python"
    }
  },
  "cells": [
    {
      "cell_type": "markdown",
      "metadata": {
        "id": "view-in-github",
        "colab_type": "text"
      },
      "source": [
        "<a href=\"https://colab.research.google.com/github/YaokunLin/Algorithms/blob/main/LeetCode_695_Max_Area_of_Island.ipynb\" target=\"_parent\"><img src=\"https://colab.research.google.com/assets/colab-badge.svg\" alt=\"Open In Colab\"/></a>"
      ]
    },
    {
      "cell_type": "code",
      "metadata": {
        "id": "sUTw5JTzsJb3"
      },
      "source": [
        "#PythonApproach1 \n",
        "class Solution(object):\n",
        "    def maxAreaOfIsland(self, grid):\n",
        "      \n",
        "      totalRow = len(grid)\n",
        "      totalCol = len(grid[0])\n",
        "      \n",
        "      seen=set()\n",
        "      def fourDirectionArea(row,col):\n",
        "        if 0<=row<=totalRow-1 and 0<=col<=totalCol-1 and grid[row][col]==1 and (row,col) not in seen :\n",
        "          seen.add((row,col))\n",
        "          return (1 + fourDirectionArea(row-1,col)+ fourDirectionArea(row+1,col)+ fourDirectionArea(row,col-1)+ fourDirectionArea(row,col+1)) #look at 4 adjacent cells\n",
        "        else: return 0\n",
        "        \n",
        "        \n",
        "      maxArea=0\n",
        "      for eachR in range(totalRow):\n",
        "        for eachC in range(totalCol):\n",
        "          maxArea=max(maxArea,fourDirectionArea(eachR,eachC)) \n",
        "      \n",
        "      return  maxArea"
      ],
      "execution_count": null,
      "outputs": []
    },
    {
      "cell_type": "code",
      "metadata": {
        "id": "o0isDkC7sObj"
      },
      "source": [
        "#PythonApproach2DepthFirstSearch\n",
        "class Solution(object):\n",
        "    def maxAreaOfIsland(self, grid):\n",
        "      \n",
        "      totalRow = len(grid)\n",
        "      totalCol = len(grid[0])\n",
        "      maxArea=0\n",
        "      seen=set()\n",
        "      \n",
        "      for rIdx,entireR in enumerate(grid):\n",
        "        for cIdx, eachElement in enumerate(entireR):\n",
        "          if (rIdx,cIdx) not in seen:\n",
        "            seen.add((rIdx,cIdx)) \n",
        "            if eachElement ==1:\n",
        "              stack=[(rIdx,cIdx)]\n",
        "              area=0\n",
        "              while stack:\n",
        "                item=stack.pop()\n",
        "                r=item[0]\n",
        "                c=item[1]\n",
        "                area = area + grid[r][c]\n",
        "                for (r_nei,c_nei) in [(r-1,c),(r+1,c),(r,c-1),(r,c+1)]:\n",
        "                  if 0<= r_nei<=totalRow-1  and 0<=c_nei<=totalCol-1 and (r_nei,c_nei) not in seen and grid[r_nei][c_nei]==1:\n",
        "                    stack.append((r_nei,c_nei))\n",
        "                    seen.add((r_nei,c_nei))\n",
        "                    \n",
        "              maxArea=max(maxArea,area)\n",
        "      \n",
        "      return  maxArea"
      ],
      "execution_count": null,
      "outputs": []
    }
  ]
}