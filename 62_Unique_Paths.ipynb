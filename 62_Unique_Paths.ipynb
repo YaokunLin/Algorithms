{
  "nbformat": 4,
  "nbformat_minor": 0,
  "metadata": {
    "colab": {
      "name": "62. Unique Paths.ipynb",
      "provenance": [],
      "collapsed_sections": [],
      "authorship_tag": "ABX9TyOiMqQ/kkNEPq/Jm6HTqpmq",
      "include_colab_link": true
    },
    "kernelspec": {
      "name": "python3",
      "display_name": "Python 3"
    },
    "language_info": {
      "name": "python"
    }
  },
  "cells": [
    {
      "cell_type": "markdown",
      "metadata": {
        "id": "view-in-github",
        "colab_type": "text"
      },
      "source": [
        "<a href=\"https://colab.research.google.com/github/YaokunLin/Algorithms/blob/main/62_Unique_Paths.ipynb\" target=\"_parent\"><img src=\"https://colab.research.google.com/assets/colab-badge.svg\" alt=\"Open In Colab\"/></a>"
      ]
    },
    {
      "cell_type": "code",
      "metadata": {
        "id": "GlNJVTLqH2rO"
      },
      "source": [
        "class Solution(object):\n",
        "    #def uniquePaths(self, m, n):\n",
        "    #  if m==1 or n==1: return 1\n",
        "    #  return self.uniquePaths(m,n-1) + self.uniquePaths(m-1,n)\n",
        "\n",
        "    def uniquePaths(self, m, n):\n",
        "      dp=[[1]*n]*m\n",
        "      \n",
        "      for r in range(m-1-1,-1,-1):\n",
        "        for c in range(n-1-1,-1,-1):\n",
        "          dp[r][c] = dp[r+1][c]+dp[r][c+1]\n",
        "\n",
        "      \n",
        "      return dp[0][0]\n",
        "      \n",
        "      "
      ],
      "execution_count": null,
      "outputs": []
    }
  ]
}