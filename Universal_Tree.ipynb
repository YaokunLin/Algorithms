{
  "nbformat": 4,
  "nbformat_minor": 0,
  "metadata": {
    "colab": {
      "name": "Universal Tree.ipynb",
      "provenance": [],
      "authorship_tag": "ABX9TyO+w+C7fM5VUeLcQsJb5nkD",
      "include_colab_link": true
    },
    "kernelspec": {
      "name": "python3",
      "display_name": "Python 3"
    },
    "language_info": {
      "name": "python"
    }
  },
  "cells": [
    {
      "cell_type": "markdown",
      "metadata": {
        "id": "view-in-github",
        "colab_type": "text"
      },
      "source": [
        "<a href=\"https://colab.research.google.com/github/YaokunLin/Algorithms/blob/main/Universal_Tree.ipynb\" target=\"_parent\"><img src=\"https://colab.research.google.com/assets/colab-badge.svg\" alt=\"Open In Colab\"/></a>"
      ]
    },
    {
      "cell_type": "code",
      "metadata": {
        "id": "IwvJ8vf2jEnI"
      },
      "source": [
        "class Node:\n",
        "  def __init__(self, val, left=None,right=None):\n",
        "    self.val = val\n",
        "    self.left = left\n",
        "    self.right = right\n"
      ],
      "execution_count": null,
      "outputs": []
    },
    {
      "cell_type": "code",
      "metadata": {
        "colab": {
          "base_uri": "https://localhost:8080/"
        },
        "id": "lXZmjX2_j-g8",
        "outputId": "d61da4b1-9486-44a7-c590-ebd2b53a5760"
      },
      "source": [
        "root=Node(val=0)\n",
        "L=Node(val=1)\n",
        "R=Node(val=0)\n",
        "RL=Node(val=1)\n",
        "RLL=Node(val=1)\n",
        "RLR=Node(val=1)\n",
        "RR=Node(val=0)\n",
        "root.left=L\n",
        "root.right=R\n",
        "R.left=RL\n",
        "R.right=RR\n",
        "RL.left=RLL\n",
        "RL.right=RLR\n",
        "\n",
        "print(root.left.val)"
      ],
      "execution_count": null,
      "outputs": [
        {
          "output_type": "stream",
          "text": [
            "1\n"
          ],
          "name": "stdout"
        }
      ]
    },
    {
      "cell_type": "code",
      "metadata": {
        "id": "k3NwpxFDl3ye"
      },
      "source": [
        "def printNodes(root):\n",
        "  if root==None:\n",
        "    return\n",
        "  print(root.val)\n",
        "  printNodes(root.left)\n",
        "  printNodes(root.right)"
      ],
      "execution_count": null,
      "outputs": []
    },
    {
      "cell_type": "code",
      "metadata": {
        "id": "dKfeRMEtmqsI"
      },
      "source": [
        "def is_unival(root):\n",
        "  if root==None:\n",
        "    return True #single element, no left, no right\n",
        "  if root.left!=None and root.left.val !=root.val:\n",
        "    return False\n",
        "  if root.right!=None and root.right.val !=root.val:\n",
        "    return False\n",
        "  if is_unival(root.left) and is_unival(root.right):\n",
        "    return True \n",
        "  return False"
      ],
      "execution_count": null,
      "outputs": []
    },
    {
      "cell_type": "code",
      "metadata": {
        "colab": {
          "base_uri": "https://localhost:8080/"
        },
        "id": "Ig3LdbapmM8p",
        "outputId": "5c902cc2-4c89-4a1e-c786-2d2026a798f8"
      },
      "source": [
        "printNodes(root)"
      ],
      "execution_count": null,
      "outputs": [
        {
          "output_type": "stream",
          "text": [
            "0\n",
            "1\n",
            "0\n",
            "1\n",
            "1\n",
            "1\n",
            "0\n"
          ],
          "name": "stdout"
        }
      ]
    },
    {
      "cell_type": "code",
      "metadata": {
        "id": "006ZjG4x6ob7"
      },
      "source": [
        "def count_univ (root):\n",
        "  if root.left==None and root.right==None:\n",
        "    return(1,True)\n",
        "  \n",
        "  if root == None:\n",
        "    return (0, True)\n",
        "  \n",
        "  if count_univ(root.left)[1] and count_univ(root.right)[1] and root.val == root.left.val and root.val == root.right.val:\n",
        "    return (1+count_univ(root.left)[0] + count_univ(root.right)[0], True)\n",
        "  \n",
        "  return (count_univ(root.left)[0] + count_univ(root.right)[0], False)"
      ],
      "execution_count": null,
      "outputs": []
    },
    {
      "cell_type": "code",
      "metadata": {
        "colab": {
          "base_uri": "https://localhost:8080/"
        },
        "id": "tUjGTjqI64gr",
        "outputId": "71da31ba-ba44-493c-848a-bfe268240de0"
      },
      "source": [
        "count_univ(root)"
      ],
      "execution_count": null,
      "outputs": [
        {
          "output_type": "execute_result",
          "data": {
            "text/plain": [
              "(5, False)"
            ]
          },
          "metadata": {
            "tags": []
          },
          "execution_count": 27
        }
      ]
    },
    {
      "cell_type": "code",
      "metadata": {
        "colab": {
          "base_uri": "https://localhost:8080/"
        },
        "id": "_5yvkvNE8zr1",
        "outputId": "3cbfc055-bb64-41a6-a3de-0d9e522b3d65"
      },
      "source": [
        "count_univ(RR)"
      ],
      "execution_count": null,
      "outputs": [
        {
          "output_type": "execute_result",
          "data": {
            "text/plain": [
              "(1, True)"
            ]
          },
          "metadata": {
            "tags": []
          },
          "execution_count": 21
        }
      ]
    },
    {
      "cell_type": "code",
      "metadata": {
        "colab": {
          "base_uri": "https://localhost:8080/"
        },
        "id": "E44DK6p382Iv",
        "outputId": "8e53f807-00ac-4308-c472-bf9d73c2e8ab"
      },
      "source": [
        "count_univ(R)"
      ],
      "execution_count": null,
      "outputs": [
        {
          "output_type": "execute_result",
          "data": {
            "text/plain": [
              "(4, False)"
            ]
          },
          "metadata": {
            "tags": []
          },
          "execution_count": 28
        }
      ]
    },
    {
      "cell_type": "code",
      "metadata": {
        "id": "MK4OsZPImq_n"
      },
      "source": [
        "mydictionary={'a':1,'b':2,'c':3}"
      ],
      "execution_count": null,
      "outputs": []
    },
    {
      "cell_type": "code",
      "metadata": {
        "colab": {
          "base_uri": "https://localhost:8080/"
        },
        "id": "hbMdUAJ2mxQL",
        "outputId": "690e90c6-f8e8-4f14-f53f-88f638957bb8"
      },
      "source": [
        "for item in mydictionary:\n",
        "  print(item)"
      ],
      "execution_count": null,
      "outputs": [
        {
          "output_type": "stream",
          "text": [
            "a\n",
            "b\n",
            "c\n"
          ],
          "name": "stdout"
        }
      ]
    },
    {
      "cell_type": "code",
      "metadata": {
        "colab": {
          "base_uri": "https://localhost:8080/"
        },
        "id": "74INoEPqnWm3",
        "outputId": "f572588d-dd63-4579-d866-044c2303f357"
      },
      "source": [
        "['sdfsdfdef']"
      ],
      "execution_count": null,
      "outputs": [
        {
          "output_type": "execute_result",
          "data": {
            "text/plain": [
              "['sdfsdfdef']"
            ]
          },
          "metadata": {
            "tags": []
          },
          "execution_count": 4
        }
      ]
    },
    {
      "cell_type": "code",
      "metadata": {
        "id": "f26dM9Vx1-ph"
      },
      "source": [
        "aTupe=(1,2)"
      ],
      "execution_count": null,
      "outputs": []
    },
    {
      "cell_type": "code",
      "metadata": {
        "colab": {
          "base_uri": "https://localhost:8080/"
        },
        "id": "SSSNjwEN2CYk",
        "outputId": "6423b050-e82e-4e00-91bf-fbac9d28935b"
      },
      "source": [
        "aTupe[1]"
      ],
      "execution_count": null,
      "outputs": [
        {
          "output_type": "execute_result",
          "data": {
            "text/plain": [
              "2"
            ]
          },
          "metadata": {
            "tags": []
          },
          "execution_count": 7
        }
      ]
    }
  ]
}