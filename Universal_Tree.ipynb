{
  "nbformat": 4,
  "nbformat_minor": 0,
  "metadata": {
    "colab": {
      "name": "Universal Tree.ipynb",
      "provenance": [],
      "authorship_tag": "ABX9TyM6nlKcDlKsVxbV/9j49GWy",
      "include_colab_link": true
    },
    "kernelspec": {
      "name": "python3",
      "display_name": "Python 3"
    },
    "language_info": {
      "name": "python"
    }
  },
  "cells": [
    {
      "cell_type": "markdown",
      "metadata": {
        "id": "view-in-github",
        "colab_type": "text"
      },
      "source": [
        "<a href=\"https://colab.research.google.com/github/YaokunLin/Algorithms/blob/main/Universal_Tree.ipynb\" target=\"_parent\"><img src=\"https://colab.research.google.com/assets/colab-badge.svg\" alt=\"Open In Colab\"/></a>"
      ]
    },
    {
      "cell_type": "code",
      "metadata": {
        "id": "IwvJ8vf2jEnI"
      },
      "source": [
        "class Node:\n",
        "  def __init__(self, val, left=None,right=None):\n",
        "    self.val = val\n",
        "    self.left = left\n",
        "    self.right = right\n"
      ],
      "execution_count": null,
      "outputs": []
    },
    {
      "cell_type": "code",
      "metadata": {
        "colab": {
          "base_uri": "https://localhost:8080/"
        },
        "id": "lXZmjX2_j-g8",
        "outputId": "338e3fde-e6f6-4b52-b087-79a3ae3431cd"
      },
      "source": [
        "root=Node(val=2)\n",
        "L=Node(val=5)\n",
        "R=Node(val=10)\n",
        "LL=Node(val=5)\n",
        "LR=Node(val=5)\n",
        "RL=Node(val=6)\n",
        "RR=Node(val=7)\n",
        "L.left=LL\n",
        "L.right=LR\n",
        "R.left=RL\n",
        "R.right=RR\n",
        "root.left=L\n",
        "root.right=R\n",
        "print(root.left.left.val)"
      ],
      "execution_count": null,
      "outputs": [
        {
          "output_type": "stream",
          "text": [
            "5\n"
          ],
          "name": "stdout"
        }
      ]
    },
    {
      "cell_type": "code",
      "metadata": {
        "id": "k3NwpxFDl3ye"
      },
      "source": [
        "def printNodes(root):\n",
        "  if root==None:\n",
        "    return\n",
        "  print(root.val)\n",
        "  printNodes(root.left)\n",
        "  printNodes(root.right)"
      ],
      "execution_count": null,
      "outputs": []
    },
    {
      "cell_type": "code",
      "metadata": {
        "id": "dKfeRMEtmqsI"
      },
      "source": [
        "def is_unival(root):\n",
        "  if root==None:\n",
        "    return True #single element, no left, no right\n",
        "  if root.left!=None and root.left.val !=root.val:\n",
        "    return False\n",
        "  if root.right!=None and root.right.val !=root.val:\n",
        "    return False\n",
        "  if is_unival(root.left) and is_unival(root.right):\n",
        "    return True \n",
        "  return False"
      ],
      "execution_count": null,
      "outputs": []
    },
    {
      "cell_type": "code",
      "metadata": {
        "colab": {
          "base_uri": "https://localhost:8080/"
        },
        "id": "Ig3LdbapmM8p",
        "outputId": "40413b95-2512-4bb0-c6dd-e58b9a447780"
      },
      "source": [
        "printNodes(root)"
      ],
      "execution_count": null,
      "outputs": [
        {
          "output_type": "stream",
          "text": [
            "2\n",
            "5\n",
            "5\n",
            "5\n",
            "10\n",
            "6\n",
            "7\n"
          ],
          "name": "stdout"
        }
      ]
    },
    {
      "cell_type": "code",
      "metadata": {
        "id": "MK4OsZPImq_n"
      },
      "source": [
        "mydictionary={'a':1,'b':2,'c':3}"
      ],
      "execution_count": null,
      "outputs": []
    },
    {
      "cell_type": "code",
      "metadata": {
        "colab": {
          "base_uri": "https://localhost:8080/"
        },
        "id": "hbMdUAJ2mxQL",
        "outputId": "690e90c6-f8e8-4f14-f53f-88f638957bb8"
      },
      "source": [
        "for item in mydictionary:\n",
        "  print(item)"
      ],
      "execution_count": null,
      "outputs": [
        {
          "output_type": "stream",
          "text": [
            "a\n",
            "b\n",
            "c\n"
          ],
          "name": "stdout"
        }
      ]
    },
    {
      "cell_type": "code",
      "metadata": {
        "colab": {
          "base_uri": "https://localhost:8080/"
        },
        "id": "74INoEPqnWm3",
        "outputId": "f572588d-dd63-4579-d866-044c2303f357"
      },
      "source": [
        "['sdfsdfdef']"
      ],
      "execution_count": null,
      "outputs": [
        {
          "output_type": "execute_result",
          "data": {
            "text/plain": [
              "['sdfsdfdef']"
            ]
          },
          "metadata": {
            "tags": []
          },
          "execution_count": 4
        }
      ]
    }
  ]
}