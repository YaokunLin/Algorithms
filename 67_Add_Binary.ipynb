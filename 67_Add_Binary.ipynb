{
  "nbformat": 4,
  "nbformat_minor": 0,
  "metadata": {
    "colab": {
      "name": "67. Add Binary.ipynb",
      "provenance": [],
      "authorship_tag": "ABX9TyNLzoxzUsLi/zHl2kM0LZwX",
      "include_colab_link": true
    },
    "kernelspec": {
      "name": "python3",
      "display_name": "Python 3"
    },
    "language_info": {
      "name": "python"
    }
  },
  "cells": [
    {
      "cell_type": "markdown",
      "metadata": {
        "id": "view-in-github",
        "colab_type": "text"
      },
      "source": [
        "<a href=\"https://colab.research.google.com/github/YaokunLin/Algorithms/blob/main/67_Add_Binary.ipynb\" target=\"_parent\"><img src=\"https://colab.research.google.com/assets/colab-badge.svg\" alt=\"Open In Colab\"/></a>"
      ]
    },
    {
      "cell_type": "code",
      "metadata": {
        "id": "Ovqix9Fo5c3P"
      },
      "source": [
        "class Solution:\n",
        "    def addBinary(self, a: str, b: str) -> str:\n",
        "      \n",
        "      if a==\"0\" and b=='0': return '0'\n",
        "      \n",
        "      carry=0\n",
        "      res=''\n",
        "      while a or b or carry:\n",
        "        if a:\n",
        "          aDigit=int(a[-1]) #grab the last digit and convert to integer\n",
        "          a=a[:-1]\n",
        "        else:aDigit=0\n",
        "          \n",
        "        if b:\n",
        "          bDigit=int(b[-1])\n",
        "          b=b[:-1]\n",
        "        else:bDigit=0\n",
        "          \n",
        "        curr=aDigit+bDigit+carry\n",
        "        carry=0\n",
        "        \n",
        "        if curr==0: res='0'+res\n",
        "        if curr==1: res='1'+res\n",
        "        if curr==2:\n",
        "          res='0'+res\n",
        "          carry=1\n",
        "        if curr==3:\n",
        "          res='1'+res\n",
        "          carry=1\n",
        "        \n",
        "      return res\n",
        "          \n",
        "        \n",
        "      \n",
        "        "
      ],
      "execution_count": null,
      "outputs": []
    }
  ]
}