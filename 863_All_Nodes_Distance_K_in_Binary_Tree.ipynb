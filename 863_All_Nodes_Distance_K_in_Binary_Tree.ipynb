{
  "nbformat": 4,
  "nbformat_minor": 0,
  "metadata": {
    "colab": {
      "name": "863. All Nodes Distance K in Binary Tree.ipynb",
      "provenance": [],
      "authorship_tag": "ABX9TyPCVapDO54UECESxfCU2SNH",
      "include_colab_link": true
    },
    "kernelspec": {
      "name": "python3",
      "display_name": "Python 3"
    },
    "language_info": {
      "name": "python"
    }
  },
  "cells": [
    {
      "cell_type": "markdown",
      "metadata": {
        "id": "view-in-github",
        "colab_type": "text"
      },
      "source": [
        "<a href=\"https://colab.research.google.com/github/YaokunLin/Algorithms/blob/main/863_All_Nodes_Distance_K_in_Binary_Tree.ipynb\" target=\"_parent\"><img src=\"https://colab.research.google.com/assets/colab-badge.svg\" alt=\"Open In Colab\"/></a>"
      ]
    },
    {
      "cell_type": "code",
      "metadata": {
        "id": "lJ76zmSX4jng"
      },
      "source": [
        "# Definition for a binary tree node.\n",
        "# class TreeNode:\n",
        "#     def __init__(self, x):\n",
        "#         self.val = x\n",
        "#         self.left = None\n",
        "#         self.right = None\n",
        "\n",
        "\n",
        "class Solution:\n",
        "    def distanceK(self, root: TreeNode, target: TreeNode, k: int) -> List[int]:\n",
        "      \n",
        "      nei=collections.defaultdict(dict)\n",
        "      nei[root.val]['parent']=None\n",
        "      if root.left: nei[root.val]['left']=root.left.val\n",
        "      if root.right: nei[root.val]['right']=root.right.val\n",
        "      \n",
        "      stack=[]\n",
        "      if root.left: stack.append([root,root.left])\n",
        "      if root.right: stack.append([root,root.right])\n",
        "      \n",
        "      while stack:\n",
        "        [parent,child]=stack.pop()\n",
        "        nei[child.val]['parent'] = parent.val\n",
        "        if child.left:\n",
        "          nei[child.val]['left']=child.left.val\n",
        "          stack.append([child,child.left])\n",
        "        if child.right:\n",
        "          nei[child.val]['right']=child.right.val\n",
        "          stack.append([child,child.right])\n",
        "              \n",
        "      \n",
        "      res=[]\n",
        "      seen=set()\n",
        "      #print(nei)\n",
        "      \n",
        "      \n",
        "      def dfs(aVal,remain):\n",
        "        seen.add(aVal)\n",
        "        if remain==0: \n",
        "          res.append(aVal)\n",
        "          return\n",
        "        curNei=nei[aVal]\n",
        "        \n",
        "        if curNei.get('parent')!=None:\n",
        "          if curNei['parent'] not in seen: dfs(curNei['parent'],remain-1)     \n",
        "        if curNei.get('left')!=None:\n",
        "          if curNei['left'] not in seen: dfs(curNei['left'],remain-1)\n",
        "        if curNei.get('right')!=None:\n",
        "          if curNei['right'] not in seen: dfs(curNei['right'],remain-1)\n",
        "      \n",
        "      seen.add(target.val)\n",
        "      dfs(target.val,k)\n",
        "      \n",
        "      \n",
        "      \n",
        "      return res\n",
        "      \n",
        "          \n",
        "        "
      ],
      "execution_count": null,
      "outputs": []
    }
  ]
}