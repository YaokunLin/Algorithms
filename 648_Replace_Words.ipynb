{
  "nbformat": 4,
  "nbformat_minor": 0,
  "metadata": {
    "colab": {
      "name": "648. Replace Words.ipynb",
      "provenance": [],
      "authorship_tag": "ABX9TyPenEVFl1sQCokidTNEXEVJ",
      "include_colab_link": true
    },
    "kernelspec": {
      "name": "python3",
      "display_name": "Python 3"
    },
    "language_info": {
      "name": "python"
    }
  },
  "cells": [
    {
      "cell_type": "markdown",
      "metadata": {
        "id": "view-in-github",
        "colab_type": "text"
      },
      "source": [
        "<a href=\"https://colab.research.google.com/github/YaokunLin/Algorithms/blob/main/648_Replace_Words.ipynb\" target=\"_parent\"><img src=\"https://colab.research.google.com/assets/colab-badge.svg\" alt=\"Open In Colab\"/></a>"
      ]
    },
    {
      "cell_type": "code",
      "metadata": {
        "id": "qeVn4kyxY1sC"
      },
      "source": [
        "class Solution(object):\n",
        "  \n",
        "    def findRoot(self,word, dictSet):\n",
        "      for head in range(1,len(word)):\n",
        "        if word[:head] in dictSet:\n",
        "          return word[:head]\n",
        "      return word\n",
        "      \n",
        "    def replaceWords(self, dictionary, sentence):\n",
        "      setDict=set(dictionary)\n",
        "      print(setDict)\n",
        "      sentenceInList=sentence.split(\" \")\n",
        "      \n",
        "      returnList = [self.findRoot(w,setDict) for w in sentenceInList]\n",
        "      \n",
        "      return \" \".join(returnList)"
      ],
      "execution_count": null,
      "outputs": []
    },
    {
      "cell_type": "code",
      "metadata": {
        "id": "Pb9Dxk5h4Syq"
      },
      "source": [
        "#brute force\n",
        "class Solution(object):\n",
        "    def replaceWords(self, dictionary, sentence):\n",
        "      if sentence==\"\": return \"\"\n",
        "      if dictionary==[]: return sentence\n",
        "      \n",
        "      rootToRemove=[]\n",
        "      for longRoot in dictionary:\n",
        "        for shortRoot in dictionary:\n",
        "          if len(longRoot)>len(shortRoot) and longRoot.find(shortRoot) ==0: \n",
        "            rootToRemove.append(longRoot)\n",
        "            \n",
        "      if rootToRemove!=[]:\n",
        "        for root in dictionary[:]: \n",
        "          if root in set(rootToRemove):dictionary.remove(root)\n",
        "            \n",
        "      \n",
        " \n",
        "      firstLetterRoot=[]\n",
        "      maxLenRoot=len(dictionary[0])\n",
        "      minLenRoot=len(dictionary[0])\n",
        "      for root in dictionary:\n",
        "        firstLetterRoot.append(root[0])\n",
        "        maxLenRoot=max(maxLenRoot,len(root))\n",
        "        minLenRoot=min(minLenRoot,len(root))\n",
        "        \n",
        "      \n",
        "      senList=sentence.rsplit(\" \")\n",
        "      \n",
        "\n",
        "      \n",
        "      returnList=[]\n",
        "      for word in senList:\n",
        "        appendedRoot=False\n",
        "        if word[0] in set(firstLetterRoot):\n",
        "          maxLength = max(maxLenRoot,len(word))      \n",
        "          for head in range(minLenRoot,maxLength):\n",
        "                              if word[:head] in set(dictionary):               \n",
        "                                returnList.append(word[:head])\n",
        "                                appendedRoot= True\n",
        "                                break\n",
        "        \n",
        "        if not appendedRoot: returnList.append(word)\n",
        "              \n",
        "  \n",
        "          \n",
        "      return (\" \").join(returnList)   \n",
        "      \n",
        "          \n",
        "      \n",
        "\n",
        "        "
      ],
      "execution_count": null,
      "outputs": []
    }
  ]
}