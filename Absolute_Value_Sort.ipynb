{
  "nbformat": 4,
  "nbformat_minor": 0,
  "metadata": {
    "colab": {
      "name": "Absolute Value Sort.ipynb",
      "provenance": [],
      "authorship_tag": "ABX9TyMGRsyCnOVBHWUijikAuoxf",
      "include_colab_link": true
    },
    "kernelspec": {
      "name": "python3",
      "display_name": "Python 3"
    },
    "language_info": {
      "name": "python"
    }
  },
  "cells": [
    {
      "cell_type": "markdown",
      "metadata": {
        "id": "view-in-github",
        "colab_type": "text"
      },
      "source": [
        "<a href=\"https://colab.research.google.com/github/YaokunLin/Algorithms/blob/main/Absolute_Value_Sort.ipynb\" target=\"_parent\"><img src=\"https://colab.research.google.com/assets/colab-badge.svg\" alt=\"Open In Colab\"/></a>"
      ]
    },
    {
      "cell_type": "code",
      "metadata": {
        "id": "IXxLvX81vgzP"
      },
      "source": [
        "from collections import defaultdict\n",
        "def absSort(arr):\n",
        "  \n",
        "  '''\n",
        "  def merge(A,B):\n",
        "    res=[]\n",
        "    i=j=0\n",
        "    \n",
        "    while i<=len(A)-1 and j<=len(B)-1:\n",
        "      if A[i]<=B[j]: \n",
        "        res.append(A[i])\n",
        "        i=i+1\n",
        "      else: \n",
        "        res.append(B[j])\n",
        "        j=j+1\n",
        "\n",
        "    while i<=len(A)-1:\n",
        "      res.append(A[i])\n",
        "      i=i+1\n",
        "      \n",
        "    while j<=len(B)-1:\n",
        "      res.append(B[j])\n",
        "      j=j+1\n",
        "    \n",
        "    return res\n",
        "  \n",
        " \n",
        "  def mergeSort(arr):\n",
        "    if len(arr)<=1: return arr\n",
        "    midPt=len(arr)//2\n",
        "    leftH,rightH=arr[:midPt],arr[midPt:]\n",
        "    leftH,rightH=mergeSort(leftH),mergeSort(rightH)\n",
        "    return merge(leftH,rightH)\n",
        "  '''\n",
        "  def quickSort(aList):\n",
        "    if len(aList)<=1: return aList\n",
        "    Less,Equ,Greater=[],[],[]\n",
        "    pivot=aList[len(aList)//2]\n",
        "    for n in aList:\n",
        "      if n<pivot:Less.append(n)\n",
        "      elif n==pivot:Equ.append(n)\n",
        "      else:Greater.append(n)\n",
        "    \n",
        "    return quickSort(Less)+Equ+quickSort(Greater)\n",
        "    \n",
        "  \n",
        " \n",
        "    \n",
        "  negs=defaultdict(int)\n",
        "  for n in arr:\n",
        "    if n<0:\n",
        "      negs[abs(n)]+=1\n",
        "      \n",
        "  print negs #defaultdict(<type 'int'>, {2: 2, 7: 1})\n",
        "  \n",
        "  absArr=[abs(x) for x in arr] #[2,7,2,2,0]\n",
        "  absSorted=quickSort(absArr) #absSorted=mergeSort(absArr) #[0,2,2,2,7]\n",
        "  \n",
        "  res=[]\n",
        "  for k in absSorted:\n",
        "    if negs[k]>0: \n",
        "      res.append(-k)\n",
        "      negs[k]-=1\n",
        "    else:\n",
        "      res.append(k)\n",
        "\n",
        "  \n",
        "  return res\n",
        "\n",
        "'''\n",
        "\n",
        "\n",
        "'''\n",
        "\n"
      ],
      "execution_count": null,
      "outputs": []
    }
  ]
}