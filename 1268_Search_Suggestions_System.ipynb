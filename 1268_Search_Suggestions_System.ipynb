{
  "nbformat": 4,
  "nbformat_minor": 0,
  "metadata": {
    "colab": {
      "name": "1268. Search Suggestions System.ipynb",
      "provenance": [],
      "authorship_tag": "ABX9TyN+XMIcoDKEr9eJOx953hHw",
      "include_colab_link": true
    },
    "kernelspec": {
      "name": "python3",
      "display_name": "Python 3"
    },
    "language_info": {
      "name": "python"
    }
  },
  "cells": [
    {
      "cell_type": "markdown",
      "metadata": {
        "id": "view-in-github",
        "colab_type": "text"
      },
      "source": [
        "<a href=\"https://colab.research.google.com/github/YaokunLin/Algorithms/blob/main/1268_Search_Suggestions_System.ipynb\" target=\"_parent\"><img src=\"https://colab.research.google.com/assets/colab-badge.svg\" alt=\"Open In Colab\"/></a>"
      ]
    },
    {
      "cell_type": "code",
      "metadata": {
        "id": "H4nCnMciki7m"
      },
      "source": [
        "class Solution(object):\n",
        "    def suggestedProducts(self, products, searchWord):\n",
        "      products=sorted(products)#O(NlongN)\n",
        "      print(products)\n",
        "      \n",
        "      \n",
        "      prefix=\"\"\n",
        "      res=[]\n",
        "      for searchChar in searchWord: #len(searchWord)*logN\n",
        "        prefix=prefix+searchChar\n",
        "        insertPos=bisect.bisect_left(products,prefix) #logN\n",
        "        print(prefix,insertPos)\n",
        "        temp=[]\n",
        "        for p in products[insertPos:insertPos+3]:\n",
        "          if p.startswith(prefix): temp.append(p)\n",
        "        res.append(temp)\n",
        "        \n",
        "      return res"
      ],
      "execution_count": null,
      "outputs": []
    },
    {
      "cell_type": "code",
      "metadata": {
        "id": "adu1HjA3kmCt"
      },
      "source": [
        "class Solution(object):\n",
        "    def suggestedProducts(self, products, searchWord):\n",
        "      \n",
        "      class trieNode():\n",
        "        def __init__(self):\n",
        "          self.children=collections.defaultdict(trieNode)\n",
        "          #Nested Dict: {key is char: val is another dict}\n",
        "          #\"mobile\"  {\"m\":{\"o\":{\"b\":{\"i\":{\"l\":\"e\":{}}}}}}\n",
        "          self.suggestions=[]\n",
        "        def addSuggestion(self,suggestedWord):\n",
        "          if len(self.suggestions)<3:self.suggestions.append(suggestedWord)\n",
        "          \n",
        "      root=trieNode() #root of all words\n",
        "      \n",
        "      products=sorted(products) #O(N)=NlogN\n",
        "      \n",
        "      for p in products: #O(total number of chars)\n",
        "        curNode=root\n",
        "        for char in p:\n",
        "          curNode=curNode.children[char]\n",
        "          #curNode=root.children[\"m\"]\n",
        "          #curNode=root.children[\"m\"].children[\"o\"]\n",
        "          #curNode=root.children[\"m\"].children[\"o\"].children[\"b\"]\n",
        "          curNode.addSuggestion(p)\n",
        "          print(char,curNode.suggestions)\n",
        "      \n",
        "      \n",
        "      curNode=root\n",
        "      res=[]\n",
        "      for searChar in searchWord: #O(len(searchWord))\n",
        "        curNode=curNode.children[searChar]\n",
        "        res.append(curNode.suggestions)\n",
        "        \n",
        "      return res\n",
        "        \n",
        "        \n",
        "          \n",
        "\n",
        "        "
      ],
      "execution_count": null,
      "outputs": []
    }
  ]
}