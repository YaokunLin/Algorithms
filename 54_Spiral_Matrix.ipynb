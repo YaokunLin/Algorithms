{
  "nbformat": 4,
  "nbformat_minor": 0,
  "metadata": {
    "colab": {
      "name": "54. Spiral Matrix.ipynb",
      "provenance": [],
      "authorship_tag": "ABX9TyOd01lwtwV/27UfaaJOY08R",
      "include_colab_link": true
    },
    "kernelspec": {
      "name": "python3",
      "display_name": "Python 3"
    },
    "language_info": {
      "name": "python"
    }
  },
  "cells": [
    {
      "cell_type": "markdown",
      "metadata": {
        "id": "view-in-github",
        "colab_type": "text"
      },
      "source": [
        "<a href=\"https://colab.research.google.com/github/YaokunLin/Algorithms/blob/main/54_Spiral_Matrix.ipynb\" target=\"_parent\"><img src=\"https://colab.research.google.com/assets/colab-badge.svg\" alt=\"Open In Colab\"/></a>"
      ]
    },
    {
      "cell_type": "code",
      "metadata": {
        "id": "l3RU6a6KHZK6"
      },
      "source": [
        "class Solution(object):\n",
        "    def spiralOrder(self, matrix):\n",
        "      direction=[(0,1),(1,0),(0,-1),(-1,0)]\n",
        "      directionPointer=0\n",
        "      visited=set()\n",
        "      nR=len(matrix)\n",
        "      nC=len(matrix[0])\n",
        "      result=[]\n",
        "      result.append(matrix[0][0])\n",
        "      visited.add((0,0))\n",
        "      \n",
        "      cr,cc = 0,0\n",
        "      \n",
        "      while len(visited)<nR*nC:\n",
        "        cDirX,cDirY=direction[directionPointer%4][0],direction[directionPointer%4][1]\n",
        "        nr,nc=cr+cDirX,cc+cDirY\n",
        "        \n",
        "        if 0<=nr<=nR-1 and 0<=nc<=nC-1 and (nr,nc) not in visited:\n",
        "          cr,cc=nr,nc\n",
        "          visited.add((cr,cc))\n",
        "          result.append(matrix[cr][cc])\n",
        "        else:\n",
        "          nr,nc=cr-cDirX,cc-cDirY\n",
        "          directionPointer+=1 #change direction \n",
        "          \n",
        "      return result\n",
        " "
      ],
      "execution_count": null,
      "outputs": []
    }
  ]
}