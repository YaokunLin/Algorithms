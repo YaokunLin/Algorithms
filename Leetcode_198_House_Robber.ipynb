{
  "nbformat": 4,
  "nbformat_minor": 0,
  "metadata": {
    "colab": {
      "name": "Leetcode 198. House Robber.ipynb",
      "provenance": [],
      "authorship_tag": "ABX9TyOYfSNDyssWsN/uVk38tMkX",
      "include_colab_link": true
    },
    "kernelspec": {
      "name": "python3",
      "display_name": "Python 3"
    },
    "language_info": {
      "name": "python"
    }
  },
  "cells": [
    {
      "cell_type": "markdown",
      "metadata": {
        "id": "view-in-github",
        "colab_type": "text"
      },
      "source": [
        "<a href=\"https://colab.research.google.com/github/YaokunLin/Algorithms/blob/main/Leetcode_198_House_Robber.ipynb\" target=\"_parent\"><img src=\"https://colab.research.google.com/assets/colab-badge.svg\" alt=\"Open In Colab\"/></a>"
      ]
    },
    {
      "cell_type": "code",
      "metadata": {
        "id": "pFVxOhNJSrXc"
      },
      "source": [
        "class Solution(object):\n",
        "    '''\n",
        "    def rob(self, nums):\n",
        "      \n",
        "      def recursor(startPt):\n",
        "        if startPt==len(nums)-1: return nums[startPt]\n",
        "        if startPt>len(nums)-1: return 0\n",
        "        \n",
        "        return max(nums[startPt]+recursor(startPt+2),recursor(startPt+1))   \n",
        "        \n",
        "      return recursor(0)\n",
        "    \n",
        "    \n",
        "    rec(0)=max(nums[0]+rec[2],rec[1])\n",
        "    \n",
        "    rec[1]=max(nums[1]+rec[3],rec[2])\n",
        "    \n",
        "    rec[2]= max(nums[2]+rec[4],rec[3])\n",
        "    \n",
        "    rec[3]=1\n",
        "    \n",
        "    rec[2]= max(3+rec[4],1)\n",
        "          =max(3+0,1)=3\n",
        "      \n",
        "    rec[1]=max(2+1,3)=3\n",
        "    \n",
        "    rec[0]=max(1+3,3)=4\n",
        "    '''\n",
        "    def rob(self, nums):\n",
        "      if len(nums)==1: return nums[0]\n",
        "      memoDict={}\n",
        "      \n",
        "      for i in range(len(nums)+1):\n",
        "        memoDict[i]=None\n",
        "      \n",
        "      def recursor(startPt):\n",
        "        if memoDict[startPt]!=None: return memoDict[startPt]\n",
        "        if startPt==len(nums)-1: return nums[-1]\n",
        "        if startPt>len(nums)-1: return 0\n",
        "        \n",
        "        memoDict[startPt]=max(nums[startPt]+recursor(startPt+2),recursor(startPt+1))\n",
        "        return memoDict[startPt]\n",
        "      \n",
        "      recursor(0)\n",
        "      return memoDict[0]          \n",
        "      \n",
        "        "
      ],
      "execution_count": null,
      "outputs": []
    }
  ]
}