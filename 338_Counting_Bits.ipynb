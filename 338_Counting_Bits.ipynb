{
  "nbformat": 4,
  "nbformat_minor": 0,
  "metadata": {
    "colab": {
      "name": "338. Counting Bits.ipynb",
      "provenance": [],
      "authorship_tag": "ABX9TyPifAjKqvpInh3DY/arWHg3",
      "include_colab_link": true
    },
    "kernelspec": {
      "name": "python3",
      "display_name": "Python 3"
    },
    "language_info": {
      "name": "python"
    }
  },
  "cells": [
    {
      "cell_type": "markdown",
      "metadata": {
        "id": "view-in-github",
        "colab_type": "text"
      },
      "source": [
        "<a href=\"https://colab.research.google.com/github/YaokunLin/Algorithms/blob/main/338_Counting_Bits.ipynb\" target=\"_parent\"><img src=\"https://colab.research.google.com/assets/colab-badge.svg\" alt=\"Open In Colab\"/></a>"
      ]
    },
    {
      "cell_type": "code",
      "metadata": {
        "id": "XMpqb5jPMfgD"
      },
      "source": [
        "'''\n",
        " 0 --> 00000    dp[0]=0          dp[0]\n",
        " \n",
        " 1 --> 00001    dp[1]=1  2^0     dp[1]\n",
        " \n",
        " 2 --> 00010    dp[2]=1  2^1+0   dp[2]\n",
        " 3 --> 00011    dp[3]=2  2^2+1   dp[2]+dp[1]\n",
        " \n",
        " 4 --> 00100    dp[4]=1  2^2+0   dp[4]\n",
        " 5 --> 00101    dp[5]=2  2^2+1   dp[4]+dp[1]\n",
        " 6 --> 00110    dp[6]=2  2^2+2   dp[4]+dp[2]\n",
        " 7 --> 00111    dp[7]=3  2^2+3   dp[4]+dp[3]\n",
        " \n",
        " 8 --> 01000    dp[8]=1  2^3+0   dp[8]\n",
        " 9 --> 01001    dp[9]=2  2^3+1   dp[8]+dp[1]\n",
        "10 --> 01010   dp[10]=2  2^3+2   dp[8]+dp[2]\n",
        "11 --> 01011   dp[11]=3  2^3+3   dp[8]+dp[3]\n",
        "12 --> 01100   dp[12]=2  2^3+4   dp[8]+dp[4]\n",
        "13 --> 01101   dp[13]=3  2^3+5   dp[8]+dp[5]\n",
        "14 --> 01110   dp[14]=3  2^3+6   dp[8]+dp[6]\n",
        "15 --> 01111   dp[15]=4  2^3+7   dp[8]+dp[7]\n",
        "\n",
        "16 --> 10000   dp[16]=1  2^4     dp[16]\n",
        "'''\n",
        "\n",
        "\n",
        "class Solution:\n",
        "    def countBits(self, n: int) -> List[int]:\n",
        "      if n==0: return [0]\n",
        "      if n==1: return [0,1]\n",
        "      \n",
        "      dp=[None]*(n+1)\n",
        "      dp[0]=0\n",
        "      dp[1]=1\n",
        "      \n",
        "      sBit=2**1 #cur=2,4,8,16,...\n",
        "      \n",
        "      for i in range(2,n+1):\n",
        "        if 2*sBit<=i:sBit=2*sBit #check if still current\n",
        "        \n",
        "        remain=i-sBit #i = 2 parts = sBit + remain \n",
        "        \n",
        "        if remain==0: dp[i]=1\n",
        "        else: dp[i]=dp[sBit]+dp[remain]\n",
        "      \n",
        "      return dp\n",
        "        \n",
        "      \n",
        "        "
      ],
      "execution_count": null,
      "outputs": []
    }
  ]
}