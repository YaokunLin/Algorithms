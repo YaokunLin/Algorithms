{
  "nbformat": 4,
  "nbformat_minor": 0,
  "metadata": {
    "colab": {
      "name": "953. Verifying an Alien Dictionary.ipynb",
      "provenance": [],
      "authorship_tag": "ABX9TyN90yCIe0gYvbMlej1OshyV",
      "include_colab_link": true
    },
    "kernelspec": {
      "name": "python3",
      "display_name": "Python 3"
    },
    "language_info": {
      "name": "python"
    }
  },
  "cells": [
    {
      "cell_type": "markdown",
      "metadata": {
        "id": "view-in-github",
        "colab_type": "text"
      },
      "source": [
        "<a href=\"https://colab.research.google.com/github/YaokunLin/Algorithms/blob/main/953_Verifying_an_Alien_Dictionary.ipynb\" target=\"_parent\"><img src=\"https://colab.research.google.com/assets/colab-badge.svg\" alt=\"Open In Colab\"/></a>"
      ]
    },
    {
      "cell_type": "code",
      "metadata": {
        "id": "w7B6lGai2AyX"
      },
      "source": [
        "class Solution:\n",
        "    def isAlienSorted(self, words: List[str], order: str) -> bool:\n",
        "      orderDict={}\n",
        "      for idx,c in enumerate(order):\n",
        "        orderDict[c]=idx\n",
        "\n",
        "        \n",
        "      for i in range(len(words)-1):\n",
        "        w1,w2=words[i],words[i+1]\n",
        "\n",
        "        if w1==w2: continue\n",
        "          \n",
        "        j=0\n",
        "        while j<min(len(w1)-1,len(w2)-1) and w1[j]==w2[j]:j=j+1\n",
        "    \n",
        "        if j==len(w2)-1 and w1[:j+1]==w2[:j+1]:return False #Example 3\n",
        "      \n",
        "        idx1,idx2=orderDict[w1[j]],orderDict[w2[j]]\n",
        "        if idx1>idx2: return False\n",
        "        \n",
        "        \n",
        "        \n",
        "      return True\n",
        "        "
      ],
      "execution_count": null,
      "outputs": []
    }
  ]
}