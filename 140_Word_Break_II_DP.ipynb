{
  "nbformat": 4,
  "nbformat_minor": 0,
  "metadata": {
    "colab": {
      "name": "140. Word Break II DP.ipynb",
      "provenance": [],
      "authorship_tag": "ABX9TyP1pI1kWSmlEIyL0Ty/4Jzw",
      "include_colab_link": true
    },
    "kernelspec": {
      "name": "python3",
      "display_name": "Python 3"
    },
    "language_info": {
      "name": "python"
    }
  },
  "cells": [
    {
      "cell_type": "markdown",
      "metadata": {
        "id": "view-in-github",
        "colab_type": "text"
      },
      "source": [
        "<a href=\"https://colab.research.google.com/github/YaokunLin/Algorithms/blob/main/140_Word_Break_II_DP.ipynb\" target=\"_parent\"><img src=\"https://colab.research.google.com/assets/colab-badge.svg\" alt=\"Open In Colab\"/></a>"
      ]
    },
    {
      "cell_type": "code",
      "metadata": {
        "id": "R29AoNgbVNwa"
      },
      "source": [
        "class Solution(object):\n",
        "    def wordBreak(self, s, wordDict):\n",
        "        lenWordsMap=collections.defaultdict(set)\n",
        "        minLen=float('inf')\n",
        "        for w in wordDict:\n",
        "          lenWordsMap[len(w)].add(w)\n",
        "          minLen=min(minLen,len(w))\n",
        " \n",
        "        #print(lenWordsMap)\n",
        "        \n",
        "        memo=collections.defaultdict(list)\n",
        "        # key is the sub string, val is the possible sentences\n",
        "        def recursor(aStr):\n",
        "          if aStr==\"\": return \"END\" # we have a complete sentense here\n",
        "          \n",
        "          if len(aStr) < minLen: return None\n",
        "          \n",
        "          if aStr in memo: return memo[aStr]\n",
        "          \n",
        "          tempSet=set()\n",
        "          for  wordLen in lenWordsMap:\n",
        "            if aStr[:wordLen] in lenWordsMap[wordLen]:\n",
        "              tempStr=aStr[:wordLen]\n",
        "              phrases=recursor(aStr[wordLen:])\n",
        "              if phrases==\"END\": tempSet.add(tempStr)\n",
        "              elif phrases:\n",
        "                for phrase in phrases: tempSet.add(tempStr+\" \"+phrase)\n",
        "          memo[aStr]=list(tempSet)\n",
        "          #print(aStr,memo[aStr])\n",
        "          return memo[aStr]\n",
        "          \n",
        "      \n",
        "        \n",
        "        return recursor(s)\n",
        "      \n",
        "      \n",
        "              \n",
        "              \n",
        "          \n",
        "        \n",
        "        \n",
        "        \n",
        "        "
      ],
      "execution_count": null,
      "outputs": []
    }
  ]
}