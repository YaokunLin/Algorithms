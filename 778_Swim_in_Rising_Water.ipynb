{
  "nbformat": 4,
  "nbformat_minor": 0,
  "metadata": {
    "colab": {
      "name": "778. Swim in Rising Water.ipynb",
      "provenance": [],
      "authorship_tag": "ABX9TyPf6xt2BlwReeL0LCuepioq",
      "include_colab_link": true
    },
    "kernelspec": {
      "name": "python3",
      "display_name": "Python 3"
    },
    "language_info": {
      "name": "python"
    }
  },
  "cells": [
    {
      "cell_type": "markdown",
      "metadata": {
        "id": "view-in-github",
        "colab_type": "text"
      },
      "source": [
        "<a href=\"https://colab.research.google.com/github/YaokunLin/Algorithms/blob/main/778_Swim_in_Rising_Water.ipynb\" target=\"_parent\"><img src=\"https://colab.research.google.com/assets/colab-badge.svg\" alt=\"Open In Colab\"/></a>"
      ]
    },
    {
      "cell_type": "code",
      "metadata": {
        "id": "I1UHyMfGMlfy"
      },
      "source": [
        "class Solution:\n",
        "    def swimInWater(self, grid: List[List[int]]) -> int:\n",
        "        nR,nC=len(grid),len(grid[0])\n",
        "        myHeap=[[grid[0][0],(0,0)]]\n",
        "        dirs=[(-1,0),(+1,0),(0,+1),(0,-1)]\n",
        "        maxCost=0\n",
        "        seen=set([(0,0)])\n",
        "\n",
        "        while myHeap:\n",
        "            tempCost,(tempR,tempC)=heapq.heappop(myHeap)\n",
        "            maxCost=max(maxCost,tempCost)\n",
        "            if (tempR,tempC)==(nR-1,nC-1): return maxCost\n",
        "            for dr,dc in dirs:\n",
        "                nxtR,nxtC=tempR+dr,tempC+dc\n",
        "                if 0<=nxtR<=nR-1 and 0<=nxtC<=nC-1 and (nxtR,nxtC) not in seen:\n",
        "                    heapq.heappush(myHeap,[grid[nxtR][nxtC],(nxtR,nxtC)])\n",
        "                    seen.add((nxtR,nxtC))\n",
        "        "
      ],
      "execution_count": null,
      "outputs": []
    }
  ]
}