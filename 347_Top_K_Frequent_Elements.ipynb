{
  "nbformat": 4,
  "nbformat_minor": 0,
  "metadata": {
    "colab": {
      "name": "347. Top K Frequent Elements.ipynb",
      "provenance": [],
      "authorship_tag": "ABX9TyPXZhGasUwNc0gZV9BLNDof",
      "include_colab_link": true
    },
    "kernelspec": {
      "name": "python3",
      "display_name": "Python 3"
    },
    "language_info": {
      "name": "python"
    }
  },
  "cells": [
    {
      "cell_type": "markdown",
      "metadata": {
        "id": "view-in-github",
        "colab_type": "text"
      },
      "source": [
        "<a href=\"https://colab.research.google.com/github/YaokunLin/Algorithms/blob/main/347_Top_K_Frequent_Elements.ipynb\" target=\"_parent\"><img src=\"https://colab.research.google.com/assets/colab-badge.svg\" alt=\"Open In Colab\"/></a>"
      ]
    },
    {
      "cell_type": "code",
      "metadata": {
        "id": "7Sp3uRL7Kt8b"
      },
      "source": [
        "from collections import Counter\n",
        "import heapq\n",
        "class Solution(object):\n",
        "    def topKFrequent(self, nums, k):\n",
        "        freqDict=Counter(nums)#{2:2}\n",
        "        print(freqDict)\n",
        "        print(freqDict.keys())\n",
        "        print(freqDict.get)\n",
        "        \n",
        "        return heapq.nlargest(k,freqDict.keys(),key=freqDict.get)\n",
        "    '''\n",
        "    def topKFrequent(self, nums, k):\n",
        "        freqDict=Counter(nums)#{2:2}\n",
        "        keyList=list(freqDict.keys())\n",
        "        valList=list(freqDict.values())\n",
        "        ans=[]\n",
        "        \n",
        "        while k!=0:\n",
        "          maxFreq=max(valList) #valList=[3,2,1]\n",
        "          maxFreqIdx=valList.index(maxFreq)\n",
        "          mostFreqKey=keyList[maxFreqIdx]\n",
        "          ans.append(mostFreqKey)\n",
        "          valList.pop(maxFreqIdx)\n",
        "          keyList.pop(maxFreqIdx)\n",
        "          k=k-1\n",
        "          \n",
        "        return ans\n",
        "      '''  \n",
        "        \n",
        "        "
      ],
      "execution_count": null,
      "outputs": []
    }
  ]
}