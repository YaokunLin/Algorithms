{
  "nbformat": 4,
  "nbformat_minor": 0,
  "metadata": {
    "colab": {
      "name": "128. Longest Consecutive Sequence.ipynb",
      "provenance": [],
      "authorship_tag": "ABX9TyPE1Rm9jmAUFG9LQsURx+yd",
      "include_colab_link": true
    },
    "kernelspec": {
      "name": "python3",
      "display_name": "Python 3"
    },
    "language_info": {
      "name": "python"
    }
  },
  "cells": [
    {
      "cell_type": "markdown",
      "metadata": {
        "id": "view-in-github",
        "colab_type": "text"
      },
      "source": [
        "<a href=\"https://colab.research.google.com/github/YaokunLin/Algorithms/blob/main/128_Longest_Consecutive_Sequence.ipynb\" target=\"_parent\"><img src=\"https://colab.research.google.com/assets/colab-badge.svg\" alt=\"Open In Colab\"/></a>"
      ]
    },
    {
      "cell_type": "code",
      "metadata": {
        "id": "UsYfBXeqrI_L"
      },
      "source": [
        "class Solution(object):\n",
        "    def longestConsecutive(self, nums):\n",
        "      \n",
        "        numSet=set(nums)\n",
        "        \n",
        "        maxLen=0\n",
        "        \n",
        "        #{100,99,101,  1,2,3,4,  200,201,  10}\n",
        "        \n",
        "        #{1 3 9 11 20}\n",
        "        \n",
        "        #{0 1 2 3 4 5 }\n",
        "        \n",
        "        for n in numSet:\n",
        "          if n-1 not in numSet:\n",
        "            curPter=n+1\n",
        "            curLen=1\n",
        "            while curPter in numSet:              \n",
        "              curLen=curLen+1\n",
        "              curPter +=1\n",
        "\n",
        "            maxLen=max(maxLen,curLen)\n",
        "            \n",
        "        return maxLen\n",
        "          \n",
        "          \n",
        "        "
      ],
      "execution_count": null,
      "outputs": []
    }
  ]
}