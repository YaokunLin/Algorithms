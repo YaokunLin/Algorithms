{
  "nbformat": 4,
  "nbformat_minor": 0,
  "metadata": {
    "colab": {
      "name": "10. Regular Expression Matching.ipynb",
      "provenance": [],
      "authorship_tag": "ABX9TyOO4IIA7Ad6rOu3y85OnYA6",
      "include_colab_link": true
    },
    "kernelspec": {
      "name": "python3",
      "display_name": "Python 3"
    },
    "language_info": {
      "name": "python"
    }
  },
  "cells": [
    {
      "cell_type": "markdown",
      "metadata": {
        "id": "view-in-github",
        "colab_type": "text"
      },
      "source": [
        "<a href=\"https://colab.research.google.com/github/YaokunLin/Algorithms/blob/main/10_Regular_Expression_Matching.ipynb\" target=\"_parent\"><img src=\"https://colab.research.google.com/assets/colab-badge.svg\" alt=\"Open In Colab\"/></a>"
      ]
    },
    {
      "cell_type": "code",
      "metadata": {
        "id": "yJpWxfgVK-t1"
      },
      "source": [
        "from functools import lru_cache\n",
        "class Solution:\n",
        "    def isMatch(self, s: str, p: str) -> bool:\n",
        "      lenS=len(s)\n",
        "      lenP=len(p)\n",
        "      \n",
        "      @lru_cache()\n",
        "      def rec(i,j):\n",
        "        #exit conditions\n",
        "        if i>(lenS-1) and j>(lenP-1): return True\n",
        "        if i<=(lenS-1) and j>(lenP-1): return False\n",
        "        if i>(lenS-1) and j<=(lenP-1): \n",
        "          if j+1<=(lenP-1) and p[j+1]==\"*\":return rec(i,j+2)\n",
        "          elif j+1<=(lenP-1) and p[j+1]!=\"*\": return False\n",
        "          elif j+1>(lenP-1): return False\n",
        "            \n",
        "        if i<=(lenS-1) and j<=(lenP-1):\n",
        "          matchOne=p[j] in [s[i],\".\"]\n",
        "          \n",
        "          if matchOne and j+1<=(lenP-1):\n",
        "            if p[j+1]==\"*\": return (rec(i+1,j) #use \"*\"\n",
        "                               or (j+2<=(lenP-1) and rec(i,j+2))) #not use \"*\"\n",
        "            \n",
        "            else: return rec(i+1,j+1)\n",
        "        \n",
        "          elif not matchOne and j+1<=(lenP-1):\n",
        "            if p[j+1]==\"*\": return (j+2<=(lenP-1) and rec(i,j+2))\n",
        "            else: return False\n",
        "          \n",
        "          elif matchOne and j+1>(lenP-1):\n",
        "            if i+1>(lenS-1): return True\n",
        "            else:return False\n",
        "          else: return False #not matchOne and j+1>(lenP-1)\n",
        "          \n",
        "      return rec(0,0)\n",
        "            \n",
        "            \n",
        "        \n",
        "        "
      ],
      "execution_count": null,
      "outputs": []
    }
  ]
}