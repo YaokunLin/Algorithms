{
  "nbformat": 4,
  "nbformat_minor": 0,
  "metadata": {
    "colab": {
      "name": "1509. Minimum Difference Between Largest and Smallest Value in Three Moves.ipynb",
      "provenance": [],
      "authorship_tag": "ABX9TyOWyViNQFyuYfNjGDfhRHfa",
      "include_colab_link": true
    },
    "kernelspec": {
      "name": "python3",
      "display_name": "Python 3"
    },
    "language_info": {
      "name": "python"
    }
  },
  "cells": [
    {
      "cell_type": "markdown",
      "metadata": {
        "id": "view-in-github",
        "colab_type": "text"
      },
      "source": [
        "<a href=\"https://colab.research.google.com/github/YaokunLin/Algorithms/blob/main/1509_Minimum_Difference_Between_Largest_and_Smallest_Value_in_Three_Moves.ipynb\" target=\"_parent\"><img src=\"https://colab.research.google.com/assets/colab-badge.svg\" alt=\"Open In Colab\"/></a>"
      ]
    },
    {
      "cell_type": "code",
      "metadata": {
        "id": "3wjCt81RUrVD"
      },
      "source": [
        "import heapq\n",
        "class Solution(object):\n",
        "    def minDifference(self, nums):\n",
        "      if len(nums)<=4: return 0\n",
        "      \n",
        "      nums=sorted(nums)\n",
        "      minDif=float('inf')\n",
        "      minDif=min(nums[-1]-nums[3],minDif)\n",
        "      minDif=min(nums[-4]-nums[0],minDif)\n",
        "      minDif=min(nums[-2]-nums[2],minDif)\n",
        "      minDif=min(nums[-3]-nums[1],minDif)\n",
        "      \n",
        "      \n",
        "      \n",
        "      \n",
        "      \n",
        "      return minDif\n",
        "      \n",
        "        "
      ],
      "execution_count": null,
      "outputs": []
    }
  ]
}