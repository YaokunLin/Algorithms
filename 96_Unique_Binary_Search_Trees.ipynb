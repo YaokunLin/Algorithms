{
  "nbformat": 4,
  "nbformat_minor": 0,
  "metadata": {
    "colab": {
      "name": "96. Unique Binary Search Trees.ipynb",
      "provenance": [],
      "collapsed_sections": [],
      "authorship_tag": "ABX9TyPD/nNP4RYvUeBDZMjEwEUU",
      "include_colab_link": true
    },
    "kernelspec": {
      "name": "python3",
      "display_name": "Python 3"
    },
    "language_info": {
      "name": "python"
    }
  },
  "cells": [
    {
      "cell_type": "markdown",
      "metadata": {
        "id": "view-in-github",
        "colab_type": "text"
      },
      "source": [
        "<a href=\"https://colab.research.google.com/github/YaokunLin/Algorithms/blob/main/96_Unique_Binary_Search_Trees.ipynb\" target=\"_parent\"><img src=\"https://colab.research.google.com/assets/colab-badge.svg\" alt=\"Open In Colab\"/></a>"
      ]
    },
    {
      "cell_type": "code",
      "metadata": {
        "id": "Bc2l27ltGnUu"
      },
      "source": [
        "'''\n",
        "n = 0, dp = 1\n",
        "n = 1, dp = 1\n",
        "n = 2, dp = 2 = dp[1] + dp[1]\n",
        "n = 3, dp = 2 + 1 + 2 = dp[2] + dp[1] + dp[2]\n",
        "'''\n",
        "class Solution:\n",
        "    def numTrees(self, n: int) -> int:\n",
        "      \n",
        "      dp = [1 for _ in range(n+1)] #base case\n",
        "      \n",
        "      for i in range(2, n+1):\n",
        "        dp[i] = 0\n",
        "        for k in range(1, i+1):\n",
        "          dp[i] += dp[k - 1] * dp[i - k]\n",
        "          \n",
        "          #i = 2, k = 1\n",
        "          #dp[2] += dp[0] * dp[1]\n",
        "          #i = 2, k = 2\n",
        "          #dp[2] += dp[1] * dp[0]\n",
        "          \n",
        "          #i = 3, k = 1\n",
        "          #dp[3] += dp[0] * dp[2]\n",
        "          #i = 3, k = 2\n",
        "          #dp[3] += dp[1] * dp[1]\n",
        "          #i = 3, k = 3\n",
        "          #dp[3] += dp[2] * dp[0]\n",
        "          \n",
        "      return dp[-1]\n",
        "          \n",
        "          \n",
        "        "
      ],
      "execution_count": null,
      "outputs": []
    }
  ]
}