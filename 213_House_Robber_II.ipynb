{
  "nbformat": 4,
  "nbformat_minor": 0,
  "metadata": {
    "colab": {
      "name": "213. House Robber II.ipynb",
      "provenance": [],
      "authorship_tag": "ABX9TyOXBD+sZIcmrppSy1CS149J",
      "include_colab_link": true
    },
    "kernelspec": {
      "name": "python3",
      "display_name": "Python 3"
    },
    "language_info": {
      "name": "python"
    }
  },
  "cells": [
    {
      "cell_type": "markdown",
      "metadata": {
        "id": "view-in-github",
        "colab_type": "text"
      },
      "source": [
        "<a href=\"https://colab.research.google.com/github/YaokunLin/Algorithms/blob/main/213_House_Robber_II.ipynb\" target=\"_parent\"><img src=\"https://colab.research.google.com/assets/colab-badge.svg\" alt=\"Open In Colab\"/></a>"
      ]
    },
    {
      "cell_type": "code",
      "metadata": {
        "id": "-ZEdYwPnz3I3"
      },
      "source": [
        "class Solution:\n",
        "    def HouRobI(self,nums):\n",
        "      dp=[None]*len(nums)\n",
        "      dp[len(nums)-1]=nums[-1]\n",
        "      \n",
        "      def recursor(startPt): #0-base\n",
        "        if startPt>len(nums)-1: return 0\n",
        "        if dp[startPt]: return dp[startPt]\n",
        "        \n",
        "        Amt=max(nums[startPt]+recursor(startPt+2),recursor(startPt+1))\n",
        "        dp[startPt]=Amt\n",
        "        return Amt\n",
        "      return recursor(0)\n",
        "        \n",
        "        \n",
        "    def rob(self, nums: List[int]) -> int:\n",
        "      if sum(nums)==0: return 0\n",
        "      if len(nums)==1: return nums[0]\n",
        "      return max(self.HouRobI(nums[:-1]),self.HouRobI(nums[1:]))\n",
        "    \n",
        "    \n",
        "      \n",
        "        "
      ],
      "execution_count": null,
      "outputs": []
    }
  ]
}