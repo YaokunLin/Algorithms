{
  "nbformat": 4,
  "nbformat_minor": 0,
  "metadata": {
    "colab": {
      "name": "1465. Maximum Area of a Piece of Cake After Horizontal and Vertical Cuts.ipynb",
      "provenance": [],
      "authorship_tag": "ABX9TyOIDNLMT0w7hA3jVE59U4D3",
      "include_colab_link": true
    },
    "kernelspec": {
      "name": "python3",
      "display_name": "Python 3"
    },
    "language_info": {
      "name": "python"
    }
  },
  "cells": [
    {
      "cell_type": "markdown",
      "metadata": {
        "id": "view-in-github",
        "colab_type": "text"
      },
      "source": [
        "<a href=\"https://colab.research.google.com/github/YaokunLin/Algorithms/blob/main/1465_Maximum_Area_of_a_Piece_of_Cake_After_Horizontal_and_Vertical_Cuts.ipynb\" target=\"_parent\"><img src=\"https://colab.research.google.com/assets/colab-badge.svg\" alt=\"Open In Colab\"/></a>"
      ]
    },
    {
      "cell_type": "code",
      "metadata": {
        "id": "Cq4eNrJG5OAN"
      },
      "source": [
        "class Solution(object):\n",
        "    def maxArea(self, h, w, horizontalCuts, verticalCuts):\n",
        "        hCuts=sorted(horizontalCuts)\n",
        "        hEdges=[0]+hCuts+[h]\n",
        "        \n",
        "        vCuts = sorted(verticalCuts)\n",
        "        vEdges=[0]+vCuts+[w]\n",
        "        \n",
        "        maxHDistance=0\n",
        "        for idx in range(1, len(hEdges)):\n",
        "          curHDistanceh=hEdges[idx]-hEdges[idx-1]\n",
        "          maxHDistance=max(maxHDistance,curHDistanceh)\n",
        "         \n",
        "        maxVDistance = 0\n",
        "        for idx in range(1, len(vEdges)):\n",
        "          curVDistance = vEdges[idx] -  vEdges[idx-1]\n",
        "          maxVDistance=max(maxVDistance,curVDistance)\n",
        "          \n",
        "        return (maxHDistance*maxVDistance)%(10**9+7)"
      ],
      "execution_count": null,
      "outputs": []
    }
  ]
}