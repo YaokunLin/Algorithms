{
  "nbformat": 4,
  "nbformat_minor": 0,
  "metadata": {
    "colab": {
      "name": "94. Binary Tree Inorder Traversal.ipynb",
      "provenance": [],
      "authorship_tag": "ABX9TyPm4CUXyyawJEd+47rKfvr9",
      "include_colab_link": true
    },
    "kernelspec": {
      "name": "python3",
      "display_name": "Python 3"
    },
    "language_info": {
      "name": "python"
    }
  },
  "cells": [
    {
      "cell_type": "markdown",
      "metadata": {
        "id": "view-in-github",
        "colab_type": "text"
      },
      "source": [
        "<a href=\"https://colab.research.google.com/github/YaokunLin/Algorithms/blob/main/94_Binary_Tree_Inorder_Traversal.ipynb\" target=\"_parent\"><img src=\"https://colab.research.google.com/assets/colab-badge.svg\" alt=\"Open In Colab\"/></a>"
      ]
    },
    {
      "cell_type": "code",
      "metadata": {
        "id": "f902kER1GtAU"
      },
      "source": [
        "# Definition for a binary tree node.\n",
        "# class TreeNode(object):\n",
        "#     def __init__(self, val=0, left=None, right=None):\n",
        "#         self.val = val\n",
        "#         self.left = left\n",
        "#         self.right = right\n",
        "\n",
        "'''\n",
        "             1\n",
        "            /  \\\n",
        "           2    3\n",
        "          / \\  / \\\n",
        "         4  5  6  7\n",
        "      [4,2,5,1,6,3,7]\n",
        "'''\n",
        "class Solution(object):\n",
        "    def inorderTraversal(self, root):\n",
        "        if root==None: return []\n",
        "        ans=[]     \n",
        "        stack = []\n",
        "        temp=root\n",
        "        \n",
        "        #ans:[4,2,5,1,6,3,7]\n",
        "        #stack:[3]\n",
        "        #root=3\n",
        "        #temp=None\n",
        "        while root:\n",
        "          while temp!=None:\n",
        "            stack.append(temp)\n",
        "            temp = temp.left\n",
        "\n",
        "          if stack==[]: break\n",
        "          else: root=stack.pop() \n",
        "          ans.append(root.val)\n",
        "\n",
        "          temp=root.right\n",
        "        \n",
        "        return ans\n",
        "        \n",
        "        \n",
        "        \n",
        "          \n",
        "        \n",
        "          \n",
        "        "
      ],
      "execution_count": null,
      "outputs": []
    }
  ]
}