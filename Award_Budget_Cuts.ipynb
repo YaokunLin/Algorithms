{
  "nbformat": 4,
  "nbformat_minor": 0,
  "metadata": {
    "colab": {
      "name": "Award Budget Cuts.ipynb",
      "provenance": [],
      "authorship_tag": "ABX9TyOJ0TAaig+RH5/E6qHgS9mj",
      "include_colab_link": true
    },
    "kernelspec": {
      "name": "python3",
      "display_name": "Python 3"
    },
    "language_info": {
      "name": "python"
    }
  },
  "cells": [
    {
      "cell_type": "markdown",
      "metadata": {
        "id": "view-in-github",
        "colab_type": "text"
      },
      "source": [
        "<a href=\"https://colab.research.google.com/github/YaokunLin/Algorithms/blob/main/Award_Budget_Cuts.ipynb\" target=\"_parent\"><img src=\"https://colab.research.google.com/assets/colab-badge.svg\" alt=\"Open In Colab\"/></a>"
      ]
    },
    {
      "cell_type": "code",
      "metadata": {
        "id": "kHnMDbMWvvkq"
      },
      "source": [
        "def find_grants_cap(grantsArray, newBudget):\n",
        "  grantsArray=sorted(grantsArray,reverse=True)\n",
        "  #[1000,120,100,50,2]\n",
        "  aSum=sum(grantsArray) #1272\n",
        "  if aSum<newBudget: return grantsArray[0]\n",
        "  \n",
        "  oldCap=grantsArray[0] #1000\n",
        "  newCap=grantsArray[0] #1000\n",
        "  i=1\n",
        "  \n",
        "  for g in grantsArray[1:]:#g=120,100\n",
        "    if aSum>newBudget: #1272>190,392>190\n",
        "      newCap=g #120,100\n",
        "      aSum=aSum-(oldCap-newCap)*i #1272-(1000-120)*1=392,392-(120-100)*2=352\n",
        "      oldCap=newCap #120,100\n",
        "      i+=1 #2,3\n",
        "    else: break #aSum<newBudget\n",
        "  \n",
        "  if aSum>newBudget: return (newBudget+0.0)/len(grantsArray)\n",
        "  \n",
        "  bSum=0\n",
        "  for g in grantsArray:\n",
        "    if g<grantsArray[i-2]:\n",
        "      bSum=bSum+g\n",
        "  return (newBudget-bSum+0.0)/(i-1)\n",
        "  \n",
        "\n",
        "print(find_grants_cap(grantsArray=[2, 100, 50, 120, 1000], newBudget=190))\n",
        "  \n",
        "   \n",
        "  \n",
        "\n",
        "\n",
        "\n",
        "'''\n",
        "grantsArray = [2, 50, 100, 120, 1000]\n",
        "sum=1272\n",
        "\n",
        "try:\n",
        "cap=1000,\n",
        "sum=1272>190\n",
        "i=0\n",
        "\n",
        "try:\n",
        "cap=120\n",
        "sum=1272-1000+120=392>190\n",
        "i=1\n",
        "\n",
        "try:\n",
        "cap=100\n",
        "sum=392-120-120+100*2=392-2*(120-100)=352>190\n",
        "i=2\n",
        "\n",
        "try:\n",
        "cap=50\n",
        "sum=352-3*(100-50)=202>190\n",
        "i=3\n",
        "\n",
        "try:\n",
        "cap=2\n",
        "sum=202-4*48=10<190\n",
        "i=4\n",
        "\n",
        "cap between 2 and 50\n",
        "cap=(190-2)/4=47\n",
        "i=5\n",
        "\n",
        "oldCap=50\n",
        "newCap=2\n",
        "aSum=10\n",
        "i=5\n",
        "cap*(5-1)+sum_pts_less_than_50=190=budget\n",
        "\n",
        "\n",
        "\n",
        "\n",
        "\n",
        "'''"
      ],
      "execution_count": null,
      "outputs": []
    }
  ]
}