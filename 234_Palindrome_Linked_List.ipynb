{
  "nbformat": 4,
  "nbformat_minor": 0,
  "metadata": {
    "colab": {
      "name": "234. Palindrome Linked List.ipynb",
      "provenance": [],
      "authorship_tag": "ABX9TyNJCqjkWuAA53N/YyVv1+Dk",
      "include_colab_link": true
    },
    "kernelspec": {
      "name": "python3",
      "display_name": "Python 3"
    },
    "language_info": {
      "name": "python"
    }
  },
  "cells": [
    {
      "cell_type": "markdown",
      "metadata": {
        "id": "view-in-github",
        "colab_type": "text"
      },
      "source": [
        "<a href=\"https://colab.research.google.com/github/YaokunLin/Algorithms/blob/main/234_Palindrome_Linked_List.ipynb\" target=\"_parent\"><img src=\"https://colab.research.google.com/assets/colab-badge.svg\" alt=\"Open In Colab\"/></a>"
      ]
    },
    {
      "cell_type": "code",
      "metadata": {
        "id": "LsNLpVIObDvD"
      },
      "source": [
        "# Definition for singly-linked list.\n",
        "# class ListNode:\n",
        "#     def __init__(self, val=0, next=None):\n",
        "#         self.val = val\n",
        "#         self.next = next\n",
        "'''\n",
        "1 > 2 > 2 > 1\n",
        "\n",
        "\n",
        "1 > 2 >   2 > 1 > none\n",
        "\n",
        "         slow    fast\n",
        "\n",
        "reverse the 2nd half\n",
        "\n",
        "1 > 2 | 1 > 2 \n",
        "\n",
        "compare 1 > 2 with 1 > 2\n",
        "'''\n",
        "class Solution:\n",
        "    def isPalindrome(self, head: Optional[ListNode]) -> bool:\n",
        "      dummyHead=ListNode(-1)\n",
        "      dummyHead.next=head\n",
        "      fast=slow=head\n",
        "      while fast and fast.next:\n",
        "        slow=slow.next\n",
        "        fast=fast.next.next\n",
        "        \n",
        "      #slow now is the head of the 2nd linked list\n",
        "      prev=None\n",
        "      cur=slow\n",
        "      while cur:\n",
        "        nxt=cur.next\n",
        "        cur.next=prev\n",
        "        prev=cur\n",
        "        cur=nxt\n",
        "      \n",
        "      firstCur=dummyHead.next\n",
        "      secondCur=prev\n",
        "      while secondCur:\n",
        "        if firstCur.val!=secondCur.val: return False\n",
        "        firstCur=firstCur.next\n",
        "        secondCur=secondCur.next\n",
        "      \n",
        "      return True\n",
        "        \n",
        "      \n",
        "      \n",
        "      \n",
        "      \n",
        "        \n",
        "        \n",
        "      \n",
        "      \n",
        "      \n",
        "        "
      ],
      "execution_count": null,
      "outputs": []
    }
  ]
}