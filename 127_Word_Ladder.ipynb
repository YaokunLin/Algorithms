{
  "nbformat": 4,
  "nbformat_minor": 0,
  "metadata": {
    "colab": {
      "name": "127. Word Ladder.ipynb",
      "provenance": [],
      "authorship_tag": "ABX9TyMTgkoVqrdNMxBEfyH9upHE",
      "include_colab_link": true
    },
    "kernelspec": {
      "name": "python3",
      "display_name": "Python 3"
    },
    "language_info": {
      "name": "python"
    }
  },
  "cells": [
    {
      "cell_type": "markdown",
      "metadata": {
        "id": "view-in-github",
        "colab_type": "text"
      },
      "source": [
        "<a href=\"https://colab.research.google.com/github/YaokunLin/Algorithms/blob/main/127_Word_Ladder.ipynb\" target=\"_parent\"><img src=\"https://colab.research.google.com/assets/colab-badge.svg\" alt=\"Open In Colab\"/></a>"
      ]
    },
    {
      "cell_type": "code",
      "metadata": {
        "id": "DrLfAYgvso7o"
      },
      "source": [
        "from collections import defaultdict\n",
        "class Solution(object):\n",
        "    def ladderLength(self, beginWord, endWord, wordList):\n",
        "        wordSet=set(wordList)\n",
        "        if endWord not in wordSet: return 0\n",
        "        all_combo_dict=defaultdict(set)\n",
        "        \n",
        "        wordLen=len(beginWord) # all words are same length\n",
        "        \n",
        "        for i in range(wordLen):\n",
        "          all_combo_dict[beginWord[:i]+'*'+beginWord[i+1:]].add(beginWord)\n",
        "          \n",
        "          \n",
        "        #{'*it':(\"hit\"),\n",
        "        #'h*t':[\"hit\"],\n",
        "        #'hi*':[\"hit\"]}        \n",
        "      \n",
        "        \n",
        "        for word in wordSet:\n",
        "          for i in range(wordLen):\n",
        "            all_combo_dict[word[:i]+'*'+word[i+1:]].add(word)\n",
        "        \n",
        "        q=[]\n",
        "        seen=set()\n",
        "        seen.add(beginWord)\n",
        "        for i in range(wordLen):\n",
        "          intermedia=beginWord[:i]+'*'+beginWord[i+1:]\n",
        "          for neighbour in all_combo_dict[intermedia]:\n",
        "            if neighbour!=beginWord:q.append((neighbour,2))\n",
        "              \n",
        "        print(all_combo_dict)\n",
        "        lvlOutput=[]\n",
        "        \n",
        "        while q:\n",
        "          tempW,lvl=q.pop(0)\n",
        "          print(tempW)\n",
        "          if tempW==endWord:  lvlOutput.append(lvl)\n",
        "            \n",
        "          for i in range(wordLen):\n",
        "            intermedia=tempW[:i]+'*'+tempW[i+1:]\n",
        "            for neighbour in all_combo_dict[intermedia]:\n",
        "              if neighbour==endWord:  lvlOutput.append(lvl+1)\n",
        "              if neighbour!=tempW and neighbour not in seen:\n",
        "                q.append((neighbour,lvl+1))\n",
        "                seen.add(neighbour)\n",
        "              \n",
        "        if len(lvlOutput)==0: return 0\n",
        "        return min(lvlOutput)\n",
        "          \n",
        "          \n",
        "          \n",
        "\n",
        "        \n",
        "            \n",
        "          \n",
        "          \n",
        "          \n",
        "        \n",
        "        \n",
        "        "
      ],
      "execution_count": null,
      "outputs": []
    }
  ]
}