{
  "nbformat": 4,
  "nbformat_minor": 0,
  "metadata": {
    "colab": {
      "name": "Iterator Demo.ipynb",
      "provenance": [],
      "collapsed_sections": [],
      "authorship_tag": "ABX9TyOusQL0Hx9MBOxgRc8ejZkX",
      "include_colab_link": true
    },
    "kernelspec": {
      "name": "python3",
      "display_name": "Python 3"
    },
    "language_info": {
      "name": "python"
    }
  },
  "cells": [
    {
      "cell_type": "markdown",
      "metadata": {
        "id": "view-in-github",
        "colab_type": "text"
      },
      "source": [
        "<a href=\"https://colab.research.google.com/github/YaokunLin/Algorithms/blob/main/Iterator_Demo.ipynb\" target=\"_parent\"><img src=\"https://colab.research.google.com/assets/colab-badge.svg\" alt=\"Open In Colab\"/></a>"
      ]
    },
    {
      "cell_type": "code",
      "metadata": {
        "colab": {
          "base_uri": "https://localhost:8080/",
          "height": 252
        },
        "id": "ba-FT-sQ4tjP",
        "outputId": "eb123f38-9be7-4528-b25b-ae15bf532d43"
      },
      "source": [
        "aList=[1,2,3]\n",
        "aIter=iter(aList) #same as aList.__iter__() \n",
        "print(next(aIter))\n",
        "print(next(aIter))\n",
        "print(next(aIter))\n",
        "print(next(aIter))"
      ],
      "execution_count": 24,
      "outputs": [
        {
          "output_type": "stream",
          "name": "stdout",
          "text": [
            "1\n",
            "2\n",
            "3\n"
          ]
        },
        {
          "output_type": "error",
          "ename": "StopIteration",
          "evalue": "ignored",
          "traceback": [
            "\u001b[0;31m---------------------------------------------------------------------------\u001b[0m",
            "\u001b[0;31mStopIteration\u001b[0m                             Traceback (most recent call last)",
            "\u001b[0;32m<ipython-input-24-ae18babc3a24>\u001b[0m in \u001b[0;36m<module>\u001b[0;34m()\u001b[0m\n\u001b[1;32m      4\u001b[0m \u001b[0mprint\u001b[0m\u001b[0;34m(\u001b[0m\u001b[0mnext\u001b[0m\u001b[0;34m(\u001b[0m\u001b[0maIter\u001b[0m\u001b[0;34m)\u001b[0m\u001b[0;34m)\u001b[0m\u001b[0;34m\u001b[0m\u001b[0;34m\u001b[0m\u001b[0m\n\u001b[1;32m      5\u001b[0m \u001b[0mprint\u001b[0m\u001b[0;34m(\u001b[0m\u001b[0mnext\u001b[0m\u001b[0;34m(\u001b[0m\u001b[0maIter\u001b[0m\u001b[0;34m)\u001b[0m\u001b[0;34m)\u001b[0m\u001b[0;34m\u001b[0m\u001b[0;34m\u001b[0m\u001b[0m\n\u001b[0;32m----> 6\u001b[0;31m \u001b[0mprint\u001b[0m\u001b[0;34m(\u001b[0m\u001b[0mnext\u001b[0m\u001b[0;34m(\u001b[0m\u001b[0maIter\u001b[0m\u001b[0;34m)\u001b[0m\u001b[0;34m)\u001b[0m\u001b[0;34m\u001b[0m\u001b[0;34m\u001b[0m\u001b[0m\n\u001b[0m",
            "\u001b[0;31mStopIteration\u001b[0m: "
          ]
        }
      ]
    },
    {
      "cell_type": "code",
      "metadata": {
        "colab": {
          "base_uri": "https://localhost:8080/"
        },
        "id": "cEkKhKvr7Iog",
        "outputId": "640ef998-e1d4-40ec-f319-d10d90bae728"
      },
      "source": [
        "aList=[1,2,3]\n",
        "aIter=aList.__iter__() \n",
        "print(next(aIter))"
      ],
      "execution_count": 25,
      "outputs": [
        {
          "output_type": "stream",
          "name": "stdout",
          "text": [
            "1\n"
          ]
        }
      ]
    },
    {
      "cell_type": "code",
      "metadata": {
        "colab": {
          "base_uri": "https://localhost:8080/"
        },
        "id": "gSq6XF-Z4Hme",
        "outputId": "2d8a0de9-0818-4829-dbe0-2987d241821f"
      },
      "source": [
        "aList=[1,2,3]\n",
        "aIter=iter(aList)\n",
        "print(next(aIter,\"$\"))\n",
        "print(next(aIter,\"$\"))\n",
        "print(next(aIter,\"$\"))\n",
        "print(next(aIter,\"$\"))\n",
        "print(next(aIter,\"$\"))"
      ],
      "execution_count": 26,
      "outputs": [
        {
          "output_type": "stream",
          "name": "stdout",
          "text": [
            "1\n",
            "2\n",
            "3\n",
            "$\n",
            "$\n"
          ]
        }
      ]
    },
    {
      "cell_type": "code",
      "metadata": {
        "id": "loAljAdn18vZ"
      },
      "source": [
        "class RangeIter():\n",
        "  def __init__(self,start,end):\n",
        "    self.start=start\n",
        "    self.end=end\n",
        "    self.curr=self.start\n",
        "\n",
        "  def __iter__(self):\n",
        "    return self\n",
        "\n",
        "  def __next__(self):\n",
        "    if self.curr<=self.end:\n",
        "      current=self.curr\n",
        "      self.curr=self.curr+1\n",
        "      return current\n",
        "    else:\n",
        "      #raise StopIteration\n",
        "      return \"END OF RANGE\" "
      ],
      "execution_count": null,
      "outputs": []
    },
    {
      "cell_type": "code",
      "metadata": {
        "colab": {
          "base_uri": "https://localhost:8080/"
        },
        "id": "x1c7ljC65cNk",
        "outputId": "d2d40792-bd5c-48ad-b7fd-dcf9fdac452d"
      },
      "source": [
        "myRange=RangeIter(1,3)\n",
        "print(next(myRange))\n",
        "print(next(myRange))\n",
        "print(next(myRange))\n",
        "print(next(myRange))\n",
        "print(next(myRange))\n",
        "print(next(myRange))\n",
        "print(next(myRange))"
      ],
      "execution_count": null,
      "outputs": [
        {
          "output_type": "stream",
          "name": "stdout",
          "text": [
            "1\n",
            "2\n",
            "3\n",
            "END OF RANGE\n",
            "END OF RANGE\n",
            "END OF RANGE\n",
            "END OF RANGE\n"
          ]
        }
      ]
    },
    {
      "cell_type": "code",
      "metadata": {
        "id": "kea7NARK6kbs"
      },
      "source": [
        "class PrimeGenerator:\n",
        "  def __init__(self, n):\n",
        "    self.n=n\n",
        "    self.count=1\n",
        "\n",
        "  def __iter__(self):\n",
        "    return self\n",
        "  \n",
        "  def __next__(self):\n",
        "    #prime numbers:[2,3,...,6k+1 for k's being natural numbers]\n",
        "    if self.count==1:\n",
        "      self.count+=1\n",
        "      return 2\n",
        "    if self.count==2: \n",
        "      self.count+=1\n",
        "      return 3\n",
        "    if self.count<=self.n: #self.count>=3\n",
        "      prime=(self.count-2)*6+1\n",
        "      self.count+=1\n",
        "      return prime\n",
        "    else:\n",
        "      #raise StopIteration\n",
        "      return \"Limit Reached\"\n"
      ],
      "execution_count": null,
      "outputs": []
    },
    {
      "cell_type": "code",
      "metadata": {
        "colab": {
          "base_uri": "https://localhost:8080/"
        },
        "id": "g_myG-nU-l5U",
        "outputId": "447942bc-8818-40d2-eb39-99078d564032"
      },
      "source": [
        "myGen=PrimeGenerator(10)\n",
        "print(next(myGen))\n",
        "print(next(myGen))\n",
        "print(next(myGen))\n",
        "print(next(myGen))\n",
        "print(next(myGen))\n",
        "print(next(myGen))\n",
        "print(next(myGen))\n",
        "print(next(myGen))\n",
        "print(next(myGen))\n",
        "print(next(myGen))\n",
        "print(next(myGen))"
      ],
      "execution_count": null,
      "outputs": [
        {
          "output_type": "stream",
          "name": "stdout",
          "text": [
            "2\n",
            "3\n",
            "7\n",
            "13\n",
            "19\n",
            "25\n",
            "31\n",
            "37\n",
            "43\n",
            "49\n",
            "Limit Reached\n"
          ]
        }
      ]
    },
    {
      "cell_type": "code",
      "metadata": {
        "id": "G684TR5fAOms"
      },
      "source": [
        "class WordSeprator:\n",
        "  def __init__(self, aSen):\n",
        "    self.aSen=aSen\n",
        "    self.Len=len(aSen)\n",
        "    self.i=0\n",
        "    self.word=''\n",
        "\n",
        "  def __iter__(self):\n",
        "    return self\n",
        "\n",
        "  def __next__(self):\n",
        "    if self.i==self.Len:\n",
        "      return \"END OF SENTENCE!\"\n",
        "      #raise StopIteration\n",
        "    else:\n",
        "      if self.aSen[self.i]==\" \" or self.aSen[self.i]==\".\": \n",
        "        aWord=self.word\n",
        "        self.i=self.i+1\n",
        "        self.word=\"\"\n",
        "        return aWord \n",
        "      else:\n",
        "        self.word=self.word+self.aSen[self.i]\n",
        "        self.i=self.i+1\n",
        "        return \"*\"\n",
        "    \n"
      ],
      "execution_count": null,
      "outputs": []
    },
    {
      "cell_type": "code",
      "metadata": {
        "colab": {
          "base_uri": "https://localhost:8080/"
        },
        "id": "WMQB9IbwCewW",
        "outputId": "538ca65d-0972-42c3-9d60-f8a3f63557e8"
      },
      "source": [
        "a=WordSeprator(\"Hi Tom.\")\n",
        "print(next(a))\n",
        "print(next(a))\n",
        "print(next(a))\n",
        "print(next(a))\n",
        "print(next(a))\n",
        "print(next(a))\n",
        "print(next(a))\n",
        "print(next(a))\n",
        "print(next(a))"
      ],
      "execution_count": null,
      "outputs": [
        {
          "output_type": "stream",
          "name": "stdout",
          "text": [
            "*\n",
            "*\n",
            "Hi\n",
            "*\n",
            "*\n",
            "*\n",
            "Tom\n",
            "END OF SENTENCE!\n",
            "END OF SENTENCE!\n"
          ]
        }
      ]
    }
  ]
}