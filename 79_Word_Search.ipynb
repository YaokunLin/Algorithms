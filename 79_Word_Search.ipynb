{
  "nbformat": 4,
  "nbformat_minor": 0,
  "metadata": {
    "colab": {
      "name": "79. Word Search.ipynb",
      "provenance": [],
      "authorship_tag": "ABX9TyPXCUg9B6IQK0yL2+KlJiAR",
      "include_colab_link": true
    },
    "kernelspec": {
      "name": "python3",
      "display_name": "Python 3"
    },
    "language_info": {
      "name": "python"
    }
  },
  "cells": [
    {
      "cell_type": "markdown",
      "metadata": {
        "id": "view-in-github",
        "colab_type": "text"
      },
      "source": [
        "<a href=\"https://colab.research.google.com/github/YaokunLin/Algorithms/blob/main/79_Word_Search.ipynb\" target=\"_parent\"><img src=\"https://colab.research.google.com/assets/colab-badge.svg\" alt=\"Open In Colab\"/></a>"
      ]
    },
    {
      "cell_type": "code",
      "metadata": {
        "id": "J-PP7qV8knkl"
      },
      "source": [
        "class Solution(object):\n",
        "    def exist(self, board, word):\n",
        "              \n",
        "        nRow=len(board)\n",
        "        nCol=len(board[0])\n",
        "        \n",
        "        \n",
        "        directions=[(-1,0),(+1,0),(0,-1),(0,+1)]\n",
        "        \n",
        "        exploring=set()\n",
        "                      \n",
        "        \n",
        "        def dfs(r,c,pter):\n",
        "          if pter == len(word): return True\n",
        "          procced=(0<=r<=nRow-1 and 0<=c<=nCol-1 and (r,c) not in exploring and board[r][c] == word[pter])\n",
        "          if not procced: return False\n",
        "          \n",
        "        \n",
        "          exploring.add((r,c))\n",
        "          \n",
        "          for dr,dc in directions:\n",
        "            if dfs(r+dr,c+dc,pter+1): return True\n",
        "         \n",
        "          \n",
        "          #None of dfs(r+dr,c+dc,pter+1) works, so remove from the exploration\n",
        "          exploring.remove((r,c))\n",
        "            \n",
        "          return False\n",
        "          \n",
        "         \n",
        "        for r in range(nRow):\n",
        "          for c in range(nCol):\n",
        "            if dfs(r,c,0): return True\n",
        "            \n",
        "                \n",
        "        \n",
        "        return False\n",
        "\n",
        "    "
      ],
      "execution_count": null,
      "outputs": []
    }
  ]
}