{
  "nbformat": 4,
  "nbformat_minor": 0,
  "metadata": {
    "colab": {
      "name": "79. Word Search.ipynb",
      "provenance": [],
      "authorship_tag": "ABX9TyOe9o1AfZoyMzcxUJCm3sAR",
      "include_colab_link": true
    },
    "kernelspec": {
      "name": "python3",
      "display_name": "Python 3"
    },
    "language_info": {
      "name": "python"
    }
  },
  "cells": [
    {
      "cell_type": "markdown",
      "metadata": {
        "id": "view-in-github",
        "colab_type": "text"
      },
      "source": [
        "<a href=\"https://colab.research.google.com/github/YaokunLin/Algorithms/blob/main/79_Word_Search.ipynb\" target=\"_parent\"><img src=\"https://colab.research.google.com/assets/colab-badge.svg\" alt=\"Open In Colab\"/></a>"
      ]
    },
    {
      "cell_type": "code",
      "metadata": {
        "id": "Ngnez6crqJZ8"
      },
      "source": [
        "class Solution:\n",
        "    def exist(self, board: List[List[str]], word: str) -> bool:\n",
        "      nR,nC=len(board),len(board[0])\n",
        "      exploring=set()\n",
        "      dirs=[(+1,0),(-1,0),(0,-1),(0,+1)]\n",
        "      \n",
        "      def dfs(curR,curC,idx):\n",
        "        if idx==len(word)-1: return True\n",
        "        \n",
        "        exploring.add((curR,curC))\n",
        "        \n",
        "        for dr,dc in dirs:\n",
        "          nxtR,nxtC=curR+dr,curC+dc\n",
        "          if (nxtR,nxtC) not in exploring and 0<=nxtR<=nR-1 and 0<=nxtC<=nC-1 and board[nxtR][nxtC]==word[idx+1]:\n",
        "            if dfs(nxtR,nxtC,idx+1): return True\n",
        "          \n",
        "        exploring.remove((curR,curC))  \n",
        "        return False    \n",
        "      \n",
        "      for r in range(nR):\n",
        "        for c in range(nC):\n",
        "          if board[r][c]==word[0]:\n",
        "            if dfs(r,c,0): return True\n",
        "            \n",
        "      return False"
      ],
      "execution_count": null,
      "outputs": []
    }
  ]
}