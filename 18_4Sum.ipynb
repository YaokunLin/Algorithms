{
  "nbformat": 4,
  "nbformat_minor": 0,
  "metadata": {
    "colab": {
      "name": "18. 4Sum.ipynb",
      "provenance": [],
      "authorship_tag": "ABX9TyOF+aIHdXpEeoJX1Ecc0XQf",
      "include_colab_link": true
    },
    "kernelspec": {
      "name": "python3",
      "display_name": "Python 3"
    },
    "language_info": {
      "name": "python"
    }
  },
  "cells": [
    {
      "cell_type": "markdown",
      "metadata": {
        "id": "view-in-github",
        "colab_type": "text"
      },
      "source": [
        "<a href=\"https://colab.research.google.com/github/YaokunLin/Algorithms/blob/main/18_4Sum.ipynb\" target=\"_parent\"><img src=\"https://colab.research.google.com/assets/colab-badge.svg\" alt=\"Open In Colab\"/></a>"
      ]
    },
    {
      "cell_type": "code",
      "metadata": {
        "id": "X-Uh_DM1skLk"
      },
      "source": [
        "'''\n",
        "given: [5,1,3,6,0,-1], target=3\n",
        "sort:  [-1,0,1,3,5,6]\n",
        "\n",
        "         i j  [L,   R]\n",
        "4pters:[-1,0, 1,3,5,6]\n",
        "'''\n",
        "\n",
        "class Solution:\n",
        "    def fourSum(self, nums: List[int], target: int) -> List[List[int]]:\n",
        "      if len(nums)<=3: return []\n",
        "      nums=sorted(nums)\n",
        "      res=[]\n",
        "      n=len(nums)\n",
        "      \n",
        "      for i in range(0,n-3):\n",
        "        for j in range(i+1,n-2):\n",
        "          curMax=nums[i]+nums[j]+nums[-2]+nums[-1] # max possible with current pters combination\n",
        "          curMin=nums[i]+nums[j]+nums[j+1]+nums[j+2] #min possible\n",
        "          if not curMin<=target<=curMax: continue#not in range\n",
        "          \n",
        "          L,R=j+1,n-1\n",
        "          while L<R:\n",
        "            curSum=nums[i]+nums[j]+nums[L]+nums[R]\n",
        "            if curSum<target:L+=1\n",
        "            elif curSum>target:R-=1\n",
        "            else:\n",
        "              if not [nums[i],nums[j],nums[L],nums[R]] in res:\n",
        "                res.append([nums[i],nums[j],nums[L],nums[R]])\n",
        "              L+=1\n",
        "              R-=1\n",
        "              \n",
        "      return res\n",
        "          \n",
        "      \n",
        "        "
      ],
      "execution_count": null,
      "outputs": []
    }
  ]
}