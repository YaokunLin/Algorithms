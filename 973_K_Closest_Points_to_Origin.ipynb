{
  "nbformat": 4,
  "nbformat_minor": 0,
  "metadata": {
    "colab": {
      "name": "973. K Closest Points to Origin.ipynb",
      "provenance": [],
      "collapsed_sections": [],
      "authorship_tag": "ABX9TyOLfoqZcZc6wqG7GTXzW1la",
      "include_colab_link": true
    },
    "kernelspec": {
      "name": "python3",
      "display_name": "Python 3"
    },
    "language_info": {
      "name": "python"
    }
  },
  "cells": [
    {
      "cell_type": "markdown",
      "metadata": {
        "id": "view-in-github",
        "colab_type": "text"
      },
      "source": [
        "<a href=\"https://colab.research.google.com/github/YaokunLin/Algorithms/blob/main/973_K_Closest_Points_to_Origin.ipynb\" target=\"_parent\"><img src=\"https://colab.research.google.com/assets/colab-badge.svg\" alt=\"Open In Colab\"/></a>"
      ]
    },
    {
      "cell_type": "code",
      "metadata": {
        "id": "mEj41nvJy_Et"
      },
      "source": [
        "import heapq\n",
        "class Solution(object):\n",
        "    def kClosest(self, points, k):\n",
        "\n",
        "        temp=[]\n",
        "        \n",
        "        for x,y in points:\n",
        "          temp.append([x*x+y*y,x,y])\n",
        "          \n",
        "        heapq.heapify(temp) #O(1)\n",
        "        \n",
        "        ans=[]\n",
        "        \n",
        "        i=1\n",
        "        while i<=k: #O(k*logN)\n",
        "          _,x,y=heapq.heappop(temp) #O(logN)\n",
        "          ans.append([x,y])\n",
        "          i+=1\n",
        "          \n",
        "        return ans\n",
        "        \n",
        "          \n",
        "        \n",
        "        "
      ],
      "execution_count": null,
      "outputs": []
    }
  ]
}