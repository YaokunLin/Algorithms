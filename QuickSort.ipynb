{
  "nbformat": 4,
  "nbformat_minor": 0,
  "metadata": {
    "colab": {
      "name": "QuickSort.ipynb",
      "provenance": [],
      "authorship_tag": "ABX9TyOTuDAWMkbQUSlj5rMgNGdt",
      "include_colab_link": true
    },
    "kernelspec": {
      "name": "python3",
      "display_name": "Python 3"
    },
    "language_info": {
      "name": "python"
    }
  },
  "cells": [
    {
      "cell_type": "markdown",
      "metadata": {
        "id": "view-in-github",
        "colab_type": "text"
      },
      "source": [
        "<a href=\"https://colab.research.google.com/github/YaokunLin/Algorithms/blob/main/QuickSort.ipynb\" target=\"_parent\"><img src=\"https://colab.research.google.com/assets/colab-badge.svg\" alt=\"Open In Colab\"/></a>"
      ]
    },
    {
      "cell_type": "code",
      "metadata": {
        "id": "27q08GzPqnuE"
      },
      "source": [
        "def QuickSort(aList):\n",
        "  Length=len(aList)\n",
        "  if Length<=1: return aList\n",
        "  L,M,R=[],[],[]\n",
        "  pivot=aList[Length//2] #middle of the list\n",
        "\n",
        "  for n in aList:\n",
        "    if n<pivot: L.append(n)\n",
        "    if n==pivot: M.append(n)\n",
        "    if n>pivot: R.append(n) \n",
        "  \n",
        "  return QuickSort(L)+M+QuickSort(R)\n"
      ],
      "execution_count": 6,
      "outputs": []
    },
    {
      "cell_type": "code",
      "metadata": {
        "colab": {
          "base_uri": "https://localhost:8080/"
        },
        "id": "BsAZS11lrdm1",
        "outputId": "884b7d5e-8e5d-433b-cb13-c92a60bafc86"
      },
      "source": [
        "QuickSort(aList=[9,8,5,2,6,5])\n"
      ],
      "execution_count": 7,
      "outputs": [
        {
          "output_type": "execute_result",
          "data": {
            "text/plain": [
              "[2, 5, 5, 6, 8, 9]"
            ]
          },
          "metadata": {},
          "execution_count": 7
        }
      ]
    }
  ]
}