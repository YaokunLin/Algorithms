{
  "nbformat": 4,
  "nbformat_minor": 0,
  "metadata": {
    "colab": {
      "name": "49. Group Anagrams.ipynb",
      "provenance": [],
      "authorship_tag": "ABX9TyPefeOxHu/lFzGHEX5oROJN",
      "include_colab_link": true
    },
    "kernelspec": {
      "name": "python3",
      "display_name": "Python 3"
    },
    "language_info": {
      "name": "python"
    }
  },
  "cells": [
    {
      "cell_type": "markdown",
      "metadata": {
        "id": "view-in-github",
        "colab_type": "text"
      },
      "source": [
        "<a href=\"https://colab.research.google.com/github/YaokunLin/Algorithms/blob/main/49_Group_Anagrams.ipynb\" target=\"_parent\"><img src=\"https://colab.research.google.com/assets/colab-badge.svg\" alt=\"Open In Colab\"/></a>"
      ]
    },
    {
      "cell_type": "code",
      "metadata": {
        "colab": {
          "base_uri": "https://localhost:8080/"
        },
        "id": "-lA8siyqxF_O",
        "outputId": "bb6f1c05-d3dd-4ae9-c16d-fa524c4eef6d"
      },
      "source": [
        "class Solution(object):\n",
        "    def groupAnagrams(self, strs):\n",
        "        dict={}\n",
        "        ans=[]\n",
        "        \n",
        "        for s in strs:\n",
        "          tempS=\"\".join(sorted(s))\n",
        "          \n",
        "          if tempS in dict:\n",
        "            dict[tempS].append(s)\n",
        "          else:\n",
        "            dict[tempS]=[s]\n",
        "            \n",
        "       \n",
        "          \n",
        "        return dict.values()"
      ],
      "execution_count": 1,
      "outputs": [
        {
          "output_type": "execute_result",
          "data": {
            "text/plain": [
              "['x', 's', 'x', 'c', 'd', 'c']"
            ]
          },
          "metadata": {
            "tags": []
          },
          "execution_count": 1
        }
      ]
    }
  ]
}