{
  "nbformat": 4,
  "nbformat_minor": 0,
  "metadata": {
    "colab": {
      "name": "472. Concatenated Words.ipynb",
      "provenance": [],
      "authorship_tag": "ABX9TyPAMg1gv9z6KVUntqOZ8ZLF",
      "include_colab_link": true
    },
    "kernelspec": {
      "name": "python3",
      "display_name": "Python 3"
    },
    "language_info": {
      "name": "python"
    }
  },
  "cells": [
    {
      "cell_type": "markdown",
      "metadata": {
        "id": "view-in-github",
        "colab_type": "text"
      },
      "source": [
        "<a href=\"https://colab.research.google.com/github/YaokunLin/Algorithms/blob/main/472_Concatenated_Words.ipynb\" target=\"_parent\"><img src=\"https://colab.research.google.com/assets/colab-badge.svg\" alt=\"Open In Colab\"/></a>"
      ]
    },
    {
      "cell_type": "code",
      "metadata": {
        "id": "Q68jhEQPSMfK"
      },
      "source": [
        "class Solution:\n",
        "    def findAllConcatenatedWordsInADict(self, words: List[str]) -> List[str]:\n",
        "        mem = {}\n",
        "        words_set = set(words)\n",
        "   \n",
        "        def check( aWord):\n",
        "            if len(aWord)==1: return False\n",
        "            if aWord in mem:\n",
        "                return mem[aWord]\n",
        "            mem[aWord] = False\n",
        "            for i in range(1, len(aWord)):\n",
        "                prefix,suffix =aWord[:i],aWord[i:]\n",
        "                if prefix in words_set and (suffix in words_set or check(suffix)):\n",
        "                    mem[aWord] = True\n",
        "                    break\n",
        "            return mem[aWord]\n",
        "          \n",
        "        return [w for w in words if check(w)]"
      ],
      "execution_count": null,
      "outputs": []
    }
  ]
}