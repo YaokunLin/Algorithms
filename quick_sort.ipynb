{
  "nbformat": 4,
  "nbformat_minor": 0,
  "metadata": {
    "colab": {
      "name": "quick sort.ipynb",
      "provenance": [],
      "authorship_tag": "ABX9TyNMqjC0k5EvJkLy2B7wMd3O",
      "include_colab_link": true
    },
    "kernelspec": {
      "name": "python3",
      "display_name": "Python 3"
    },
    "language_info": {
      "name": "python"
    }
  },
  "cells": [
    {
      "cell_type": "markdown",
      "metadata": {
        "id": "view-in-github",
        "colab_type": "text"
      },
      "source": [
        "<a href=\"https://colab.research.google.com/github/YaokunLin/Algorithms/blob/main/quick_sort.ipynb\" target=\"_parent\"><img src=\"https://colab.research.google.com/assets/colab-badge.svg\" alt=\"Open In Colab\"/></a>"
      ]
    },
    {
      "cell_type": "code",
      "metadata": {
        "id": "Q-W8-KQWtidY"
      },
      "source": [
        "#https://www.youtube.com/watch?v=MZaf_9IZCrc&t=181s\n",
        "\n",
        "#PythonSolution\n",
        "def partition(given_list,L,R):\n",
        "  p=given_list[R]\n",
        "  i=L-1\n",
        "  j=i+1\n",
        "  while j<R:\t\n",
        "    if given_list[j] > p:\n",
        "      j=j+1\n",
        "    else:\t\n",
        "      i=i+1\n",
        "      given_list[j],given_list[i]=given_list[i],given_list[j]\n",
        "      j=i+1\n",
        "\n",
        "  given_list[i+1],given_list[R]=given_list[R],given_list[i+1]\n",
        "  return given_list,(i+1)"
      ],
      "execution_count": 81,
      "outputs": []
    },
    {
      "cell_type": "code",
      "metadata": {
        "id": "PNZSafTkGIS2"
      },
      "source": [
        "def QuickSort(given_list,L,R):\n",
        "  if L>R:\n",
        "      return\n",
        "  else:\n",
        "    _,P=partition(given_list,L,R)\n",
        "\n",
        "    QuickSort(given_list,L,P-1)\n",
        "    QuickSort(given_list,P+1,R)"
      ],
      "execution_count": 82,
      "outputs": []
    },
    {
      "cell_type": "code",
      "metadata": {
        "colab": {
          "base_uri": "https://localhost:8080/"
        },
        "id": "hxYMgnzWP9ki",
        "outputId": "aaef2f0c-edf0-4e9e-a0e0-65777976200d"
      },
      "source": [
        "given_list=[7,2,1,8,6,3,5,4,4]\n",
        "QuickSort(given_list,0,len(given_list)-1)\n",
        "given_list"
      ],
      "execution_count": 88,
      "outputs": [
        {
          "output_type": "execute_result",
          "data": {
            "text/plain": [
              "[1, 2, 3, 4, 4, 5, 6, 7, 8]"
            ]
          },
          "metadata": {
            "tags": []
          },
          "execution_count": 88
        }
      ]
    },
    {
      "cell_type": "code",
      "metadata": {
        "colab": {
          "base_uri": "https://localhost:8080/"
        },
        "id": "DlbHnmIEX2mT",
        "outputId": "9a323595-9429-4ec7-cd61-0d209d8b31a7"
      },
      "source": [
        "[7,2,1,8,6,3,5,4][:-1]"
      ],
      "execution_count": 76,
      "outputs": [
        {
          "output_type": "execute_result",
          "data": {
            "text/plain": [
              "[7, 2, 1, 8, 6, 3, 5]"
            ]
          },
          "metadata": {
            "tags": []
          },
          "execution_count": 76
        }
      ]
    },
    {
      "cell_type": "code",
      "metadata": {
        "id": "UBOaDvGuuLfr"
      },
      "source": [
        "given_list=[7,2,1,8,6,3,5,4]\n",
        "returnList,idx=partition(given_list,0,7)"
      ],
      "execution_count": 31,
      "outputs": []
    },
    {
      "cell_type": "code",
      "metadata": {
        "id": "zetgS-uPMzVE"
      },
      "source": [
        "leftPartition,rightPartition=QuickSort(given_list)"
      ],
      "execution_count": 29,
      "outputs": []
    },
    {
      "cell_type": "code",
      "metadata": {
        "colab": {
          "base_uri": "https://localhost:8080/"
        },
        "id": "4aI_1klBM2In",
        "outputId": "e856eabd-6d32-42de-f240-e790188eadd2"
      },
      "source": [
        "leftPartition,rightPartition"
      ],
      "execution_count": 32,
      "outputs": [
        {
          "output_type": "execute_result",
          "data": {
            "text/plain": [
              "([2, 1, 3, 4, 4, 4, 4, 4, 4, 4, 8, 6, 7, 5, 4],\n",
              " [2, 1, 3, 4, 4, 4, 4, 4, 4, 4, 8, 6, 7, 5, 4])"
            ]
          },
          "metadata": {
            "tags": []
          },
          "execution_count": 32
        }
      ]
    },
    {
      "cell_type": "code",
      "metadata": {
        "colab": {
          "base_uri": "https://localhost:8080/"
        },
        "id": "8hCzdSt-HEo7",
        "outputId": "8adfe0ab-e8f7-4218-e644-83fd21d0b43f"
      },
      "source": [
        "returnList,idx"
      ],
      "execution_count": 23,
      "outputs": [
        {
          "output_type": "execute_result",
          "data": {
            "text/plain": [
              "([2, 1, 3, 4, 8, 6, 7, 5, 4], 3)"
            ]
          },
          "metadata": {
            "tags": []
          },
          "execution_count": 23
        }
      ]
    }
  ]
}