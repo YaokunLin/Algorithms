{
  "nbformat": 4,
  "nbformat_minor": 0,
  "metadata": {
    "colab": {
      "name": "341. Flatten Nested List Iterator.ipynb",
      "provenance": [],
      "authorship_tag": "ABX9TyNr0Jq4J7H/Ep5sHs7KfEAH",
      "include_colab_link": true
    },
    "kernelspec": {
      "name": "python3",
      "display_name": "Python 3"
    },
    "language_info": {
      "name": "python"
    }
  },
  "cells": [
    {
      "cell_type": "markdown",
      "metadata": {
        "id": "view-in-github",
        "colab_type": "text"
      },
      "source": [
        "<a href=\"https://colab.research.google.com/github/YaokunLin/Algorithms/blob/main/341_Flatten_Nested_List_Iterator.ipynb\" target=\"_parent\"><img src=\"https://colab.research.google.com/assets/colab-badge.svg\" alt=\"Open In Colab\"/></a>"
      ]
    },
    {
      "cell_type": "code",
      "metadata": {
        "id": "bd3Zzj4hTh5L"
      },
      "source": [
        "# \"\"\"\n",
        "# This is the interface that allows for creating nested lists.\n",
        "# You should not implement it, or speculate about its implementation\n",
        "# \"\"\"\n",
        "#class NestedInteger(object):\n",
        "#    def isInteger(self):\n",
        "#        \"\"\"\n",
        "#        @return True if this NestedInteger holds a single integer, rather than a nested list.\n",
        "#        :rtype bool\n",
        "#        \"\"\"\n",
        "#\n",
        "#    def getInteger(self):\n",
        "#        \"\"\"\n",
        "#        @return the single integer that this NestedInteger holds, if it holds a single integer\n",
        "#        Return None if this NestedInteger holds a nested list\n",
        "#        :rtype int\n",
        "#        \"\"\"\n",
        "#\n",
        "#    def getList(self):\n",
        "#        \"\"\"\n",
        "#        @return the nested list that this NestedInteger holds, if it holds a nested list\n",
        "#        Return None if this NestedInteger holds a single integer\n",
        "#        :rtype List[NestedInteger]\n",
        "#        \"\"\"\n",
        "\n",
        "class NestedIterator(object):\n",
        "\n",
        "    def __init__(self, nestedList):\n",
        "        self.flattenedList=[]\n",
        "        \n",
        "        def flattener(givenList):\n",
        "          for intOrList in givenList:\n",
        "            if intOrList.isInteger():\n",
        "              self.flattenedList.append(intOrList.getInteger())\n",
        "            else: #this is a list\n",
        "              flattener(intOrList.getList())\n",
        "            \n",
        "        flattener(nestedList)\n",
        "        self.Position = 0\n",
        "\n",
        "        \n",
        "\n",
        "    def next(self):\n",
        "      returnItem=self.flattenedList[self.Position]\n",
        "      self.Position=self.Position+1 #roll to the next position\n",
        "      \n",
        "      return returnItem\n",
        "        \n",
        "\n",
        "    def hasNext(self):\n",
        "      return self.Position<=len(self.flattenedList)-1\n",
        "      \n",
        " \n",
        "        \n",
        "\n",
        "# Your NestedIterator object will be instantiated and called as such:\n",
        "# i, v = NestedIterator(nestedList), []\n",
        "# while i.hasNext(): v.append(i.next())"
      ],
      "execution_count": null,
      "outputs": []
    }
  ]
}