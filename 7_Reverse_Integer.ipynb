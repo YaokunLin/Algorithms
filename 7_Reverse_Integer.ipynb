{
  "nbformat": 4,
  "nbformat_minor": 0,
  "metadata": {
    "colab": {
      "name": "7. Reverse Integer.ipynb",
      "provenance": [],
      "authorship_tag": "ABX9TyNswC0MjQKD0ZZbOFiVII4T",
      "include_colab_link": true
    },
    "kernelspec": {
      "name": "python3",
      "display_name": "Python 3"
    },
    "language_info": {
      "name": "python"
    }
  },
  "cells": [
    {
      "cell_type": "markdown",
      "metadata": {
        "id": "view-in-github",
        "colab_type": "text"
      },
      "source": [
        "<a href=\"https://colab.research.google.com/github/YaokunLin/Algorithms/blob/main/7_Reverse_Integer.ipynb\" target=\"_parent\"><img src=\"https://colab.research.google.com/assets/colab-badge.svg\" alt=\"Open In Colab\"/></a>"
      ]
    },
    {
      "cell_type": "code",
      "metadata": {
        "id": "oKGDnVB1L_0P"
      },
      "source": [
        "'''\n",
        "class Solution(object):\n",
        "    def reverse(self, x):\n",
        "      isNegative=False\n",
        "      if x<0: \n",
        "        isNegative=True\n",
        "        x=-x\n",
        "        \n",
        "      string=str(x)\n",
        "      revStr=string[::-1]\n",
        "      if isNegative: return -int(revStr) if -int(revStr)>=-2**31 else 0\n",
        "      else: return int(revStr) if int(revStr)<2**31-1 else 0\n",
        "'''\n",
        "# 123=120+3\n",
        "# 12=123//10 next x\n",
        "# 3=123%10 curDigit\n",
        "\n",
        "# 12//10=1 next x\n",
        "# 2=12%10 curDigit\n",
        "# 12=1x10+2\n",
        "\n",
        "# 3x10+2=32\n",
        "\n",
        "# 1//10=0, next x==0,end loop\n",
        "# 1=1%10 curDigit\n",
        "# 32x10+1=321\n",
        "\n",
        "\n",
        "\n",
        "class Solution(object):\n",
        "    def reverse(self, x):\n",
        "      isNegative=False\n",
        "      if x<0: \n",
        "        isNegative=True\n",
        "        x=-x\n",
        "      \n",
        "      \n",
        "      curDigit=x%10\n",
        "      x=x//10\n",
        "      ans=curDigit\n",
        "      \n",
        "      \n",
        "      while x>0:\n",
        "        curDigit=x%10\n",
        "        ans=ans*10+curDigit\n",
        "        x=x//10\n",
        "        \n",
        "      if isNegative: return -ans if -ans>=-2**31 else 0\n",
        "      else: return ans if ans<2**31-1 else 0\n",
        "\n"
      ],
      "execution_count": null,
      "outputs": []
    }
  ]
}