{
  "nbformat": 4,
  "nbformat_minor": 0,
  "metadata": {
    "colab": {
      "name": "2007. Find Original Array From Doubled Array.ipynb",
      "provenance": [],
      "authorship_tag": "ABX9TyMfr04sOYdksKNPhUvEufKx",
      "include_colab_link": true
    },
    "kernelspec": {
      "name": "python3",
      "display_name": "Python 3"
    },
    "language_info": {
      "name": "python"
    }
  },
  "cells": [
    {
      "cell_type": "markdown",
      "metadata": {
        "id": "view-in-github",
        "colab_type": "text"
      },
      "source": [
        "<a href=\"https://colab.research.google.com/github/YaokunLin/Algorithms/blob/main/2007_Find_Original_Array_From_Doubled_Array.ipynb\" target=\"_parent\"><img src=\"https://colab.research.google.com/assets/colab-badge.svg\" alt=\"Open In Colab\"/></a>"
      ]
    },
    {
      "cell_type": "code",
      "metadata": {
        "id": "V3ZCLhZdIuI4"
      },
      "source": [
        "'''\n",
        "Brute Force:\n",
        "scan the list\n",
        "for x, find if (x/2) or (x*2) in list\n",
        "  - if found, append the smaller to result, remove x and counterpart\n",
        "  - if not found, return []\n",
        "Time:O(N^2)\n",
        "\n",
        "Use set/hash map:\n",
        "Time: O(N)+O(KLogK)\n",
        "'''\n",
        "\n",
        "class Solution:\n",
        "    def findOriginalArray(self, changed: List[int]) -> List[int]:\n",
        "      if len(changed)==0 or len(changed)%2!=0 : return [] \n",
        "      \n",
        "      res=[]\n",
        "      counts=collections.Counter(changed)\n",
        "\n",
        "      \n",
        "      if counts.get(0):\n",
        "        if counts[0]%2==0:\n",
        "          res.extend([0]*(int(counts[0]/2)))\n",
        "          counts[0]=0\n",
        "        else: return []\n",
        "      \n",
        "      \n",
        "      \n",
        "      for x in sorted(counts): #O(klogk), k = unique integers\n",
        "        if counts[x]>0:\n",
        "          if x/2 in counts and counts[x/2]>0: \n",
        "            minLen=min(counts[x],counts[x/2])\n",
        "            res.extend([int(x/2)]*minLen)\n",
        "            counts[x]-=minLen\n",
        "            counts[x/2]-=minLen\n",
        "          elif x*2 in counts and counts[x*2]>0:\n",
        "            minLen=min(counts[x],counts[x*2])\n",
        "            res.extend([x]*minLen)\n",
        "            counts[x]-=minLen\n",
        "            counts[x*2]-=minLen\n",
        "          else:\n",
        "            return []\n",
        "      \n",
        "      if sum(counts.values())==0: return res\n",
        "      else: return []\n",
        "          \n",
        "        "
      ],
      "execution_count": null,
      "outputs": []
    }
  ]
}