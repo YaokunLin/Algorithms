{
  "nbformat": 4,
  "nbformat_minor": 0,
  "metadata": {
    "colab": {
      "name": "76. Minimum Window Substring.ipynb",
      "provenance": [],
      "authorship_tag": "ABX9TyOkz/xPmbOs3Xpsda2IEjU+",
      "include_colab_link": true
    },
    "kernelspec": {
      "name": "python3",
      "display_name": "Python 3"
    },
    "language_info": {
      "name": "python"
    }
  },
  "cells": [
    {
      "cell_type": "markdown",
      "metadata": {
        "id": "view-in-github",
        "colab_type": "text"
      },
      "source": [
        "<a href=\"https://colab.research.google.com/github/YaokunLin/Algorithms/blob/main/76_Minimum_Window_Substring.ipynb\" target=\"_parent\"><img src=\"https://colab.research.google.com/assets/colab-badge.svg\" alt=\"Open In Colab\"/></a>"
      ]
    },
    {
      "cell_type": "code",
      "metadata": {
        "id": "vJptK5rlAwA0"
      },
      "source": [
        "class Solution:\n",
        "    def minWindow(self, s: str, t: str) -> str:\n",
        "      \n",
        "      \n",
        "    # Dictionary which keeps a count of all the unique characters in t.\n",
        "      dict_needed = Counter(t)\n",
        "      \n",
        "      windowCount=collections.defaultdict(int)\n",
        "      \n",
        "      def isASubset(aDict,bDict):\n",
        "        return all(aDict[x]<=bDict.get(x,0) for x in aDict)\n",
        "        \n",
        "            \n",
        "      L=R=0\n",
        "      \n",
        "      minLen=float('inf')\n",
        "      window=\"\"\n",
        "      \n",
        "      \n",
        "      while R<=len(s)-1:\n",
        "        \n",
        "        windowCount[s[R]]+=1\n",
        "        \n",
        "        while isASubset(dict_needed,windowCount):\n",
        "          \n",
        "          if R-L<minLen: \n",
        "            minLen=R-L+1\n",
        "            window=s[L:R+1]\n",
        "            if len(window)==len(t): return window #shortest length possible\n",
        "          \n",
        "          windowCount[s[L]]-=1\n",
        "          L=L+1\n",
        "        \n",
        "        R=R+1\n",
        "        \n",
        "      #s='aaaaaa', t='a'\n",
        "      return window\n",
        "          \n",
        "          \n",
        "          \n",
        "        \n",
        "      \n",
        "      \n",
        "      \n",
        "\n",
        "    \n",
        "        \n",
        "        \n",
        "        \n",
        "        \n",
        "        \n",
        "      \n",
        "      \n",
        "        "
      ],
      "execution_count": null,
      "outputs": []
    }
  ]
}