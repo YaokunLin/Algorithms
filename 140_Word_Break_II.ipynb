{
  "nbformat": 4,
  "nbformat_minor": 0,
  "metadata": {
    "colab": {
      "name": "140. Word Break II.ipynb",
      "provenance": [],
      "authorship_tag": "ABX9TyPdF5QTgCuJoWAFlfppesfH",
      "include_colab_link": true
    },
    "kernelspec": {
      "name": "python3",
      "display_name": "Python 3"
    },
    "language_info": {
      "name": "python"
    }
  },
  "cells": [
    {
      "cell_type": "markdown",
      "metadata": {
        "id": "view-in-github",
        "colab_type": "text"
      },
      "source": [
        "<a href=\"https://colab.research.google.com/github/YaokunLin/Algorithms/blob/main/140_Word_Break_II.ipynb\" target=\"_parent\"><img src=\"https://colab.research.google.com/assets/colab-badge.svg\" alt=\"Open In Colab\"/></a>"
      ]
    },
    {
      "cell_type": "code",
      "metadata": {
        "colab": {
          "base_uri": "https://localhost:8080/",
          "height": 34
        },
        "id": "uGL5WnIg1dRz",
        "outputId": "98905d61-f924-40d4-d885-a82e598694a7"
      },
      "source": [
        "class Solution(object):\n",
        "    def wordBreak(self, s, wordDict):\n",
        "        lenWordsMap=collections.defaultdict(set)\n",
        "        minLen=float('inf')\n",
        "        for w in wordDict:\n",
        "          lenWordsMap[len(w)].add(w)\n",
        "          minLen=min(minLen,len(w))\n",
        " \n",
        "        print(lenWordsMap)\n",
        "        res=set()\n",
        "        def recursor(aStr,aLst):\n",
        "          if aStr == \"\": res.add(\" \".join(aLst))\n",
        "          if len(aStr) < minLen:\n",
        "            return\n",
        "          \n",
        "          for wordLen in lenWordsMap:\n",
        "            if aStr[:wordLen] in lenWordsMap[wordLen]:\n",
        "              bLst=aLst[:]\n",
        "              bLst.append(aStr[:wordLen])\n",
        "              recursor(aStr[wordLen:],bLst)\n",
        "        \n",
        "        recursor(s,[])\n",
        "        \n",
        "        return list(res)\n",
        "      \n",
        "      \n",
        "              \n",
        "              \n",
        "          \n",
        "        \n",
        "        \n",
        "        \n",
        "        "
      ],
      "execution_count": 6,
      "outputs": [
        {
          "output_type": "execute_result",
          "data": {
            "application/vnd.google.colaboratory.intrinsic+json": {
              "type": "string"
            },
            "text/plain": [
              "'fefa fafawd fghsgs'"
            ]
          },
          "metadata": {},
          "execution_count": 6
        }
      ]
    }
  ]
}