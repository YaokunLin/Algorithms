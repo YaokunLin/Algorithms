{
  "nbformat": 4,
  "nbformat_minor": 0,
  "metadata": {
    "colab": {
      "name": "215. Kth Largest Element in an Array.ipynb",
      "provenance": [],
      "authorship_tag": "ABX9TyPMt8XoLTH/M8FnPddxdhWA",
      "include_colab_link": true
    },
    "kernelspec": {
      "name": "python3",
      "display_name": "Python 3"
    },
    "language_info": {
      "name": "python"
    }
  },
  "cells": [
    {
      "cell_type": "markdown",
      "metadata": {
        "id": "view-in-github",
        "colab_type": "text"
      },
      "source": [
        "<a href=\"https://colab.research.google.com/github/YaokunLin/Algorithms/blob/main/215_Kth_Largest_Element_in_an_Array.ipynb\" target=\"_parent\"><img src=\"https://colab.research.google.com/assets/colab-badge.svg\" alt=\"Open In Colab\"/></a>"
      ]
    },
    {
      "cell_type": "code",
      "metadata": {
        "id": "5RF0p-HktLFM"
      },
      "source": [
        "import heapq\n",
        "class Solution(object):\n",
        "    def findKthLargest(self, nums, k):\n",
        "        n=len(nums)\n",
        "        heapq.heapify(nums)\n",
        "        \n",
        "        \n",
        "        \n",
        "        #for _ in range(n-k):\n",
        "        #  heapq.heappop(nums)\n",
        "          \n",
        "        #return heapq.heappop(nums)\n",
        "        \n",
        "        return heapq.nlargest(k,nums)[-1]\n",
        "        "
      ],
      "execution_count": null,
      "outputs": []
    }
  ]
}