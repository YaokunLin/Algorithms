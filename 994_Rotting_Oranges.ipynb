{
  "nbformat": 4,
  "nbformat_minor": 0,
  "metadata": {
    "colab": {
      "name": "994. Rotting Oranges.ipynb",
      "provenance": [],
      "authorship_tag": "ABX9TyPGz0sMgA7JrCEarpEgJyLj",
      "include_colab_link": true
    },
    "kernelspec": {
      "name": "python3",
      "display_name": "Python 3"
    },
    "language_info": {
      "name": "python"
    }
  },
  "cells": [
    {
      "cell_type": "markdown",
      "metadata": {
        "id": "view-in-github",
        "colab_type": "text"
      },
      "source": [
        "<a href=\"https://colab.research.google.com/github/YaokunLin/Algorithms/blob/main/994_Rotting_Oranges.ipynb\" target=\"_parent\"><img src=\"https://colab.research.google.com/assets/colab-badge.svg\" alt=\"Open In Colab\"/></a>"
      ]
    },
    {
      "cell_type": "code",
      "metadata": {
        "id": "oYXPFcQZervN"
      },
      "source": [
        "class Solution(object):\n",
        "    def orangesRotting(self, grid):\n",
        "      nRow=len(grid) \n",
        "      nCol=len(grid[0])\n",
        "      \n",
        "      sumGrid=[sum(row) for row in grid]\n",
        "      sumGrid=sum(sumGrid)\n",
        "      if sumGrid==0: return 0\n",
        "      \n",
        "\n",
        "      directions=[(-1,0),(+1,0),(0,-1),(0,+1),]\n",
        "      \n",
        "\n",
        "      rotten=set()\n",
        "      fresh=set()\n",
        "      \n",
        "      def isIsolate(r,c):\n",
        "        if 0<=r-1<=nRow-1 and grid[r-1][c]!=0: return False\n",
        "        if 0<=r+1<=nRow-1 and grid[r+1][c]!=0: return False\n",
        "        if 0<=c-1<=nCol-1 and grid[r][c-1]!=0: return False\n",
        "        if 0<=c+1<=nCol-1 and grid[r][c+1]!=0: return False\n",
        "        return True\n",
        "      \n",
        "      def infect(r,c):\n",
        "        for dr,dc in directions:\n",
        "          if (r+dr,c+dc) in rotten: return True\n",
        "        return False\n",
        "\n",
        "      for r in range(nRow):\n",
        "        for c in range(nCol):\n",
        "          if isIsolate(r,c) and grid[r][c]==1: return -1\n",
        "          if grid[r][c]==2: rotten.add((r,c))\n",
        "          if grid[r][c]==1: fresh.add((r,c))\n",
        "      \n",
        "      nOranges=len(rotten)+len(fresh)\n",
        "      if len(rotten)==0: return -1\n",
        "      \n",
        "      \n",
        "      nInfecting=1\n",
        "      min=-1\n",
        "      while nInfecting>0:\n",
        "        \n",
        "        infecting=set()\n",
        "        for r in range(nRow):\n",
        "          for c in range(nCol):\n",
        "            if (r,c) in fresh and infect(r,c): \n",
        "              infecting.add((r,c))\n",
        "              fresh.remove((r,c))\n",
        "              \n",
        "        \n",
        "\n",
        "        nInfecting=len(infecting)\n",
        "        rotten=rotten.union(infecting)\n",
        "        \n",
        "        min=min+1\n",
        "      \n",
        "      if len(rotten)<nOranges: return -1\n",
        "      else:return min\n",
        "            \n",
        "        \n",
        "        \n",
        "        \n",
        "        "
      ],
      "execution_count": null,
      "outputs": []
    }
  ]
}