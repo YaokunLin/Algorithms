{
  "nbformat": 4,
  "nbformat_minor": 0,
  "metadata": {
    "colab": {
      "name": "875. Koko Eating Bananas.ipynb",
      "provenance": [],
      "authorship_tag": "ABX9TyPV07HUA8yeZGpVSAYq+qVL",
      "include_colab_link": true
    },
    "kernelspec": {
      "name": "python3",
      "display_name": "Python 3"
    },
    "language_info": {
      "name": "python"
    }
  },
  "cells": [
    {
      "cell_type": "markdown",
      "metadata": {
        "id": "view-in-github",
        "colab_type": "text"
      },
      "source": [
        "<a href=\"https://colab.research.google.com/github/YaokunLin/Algorithms/blob/main/875_Koko_Eating_Bananas.ipynb\" target=\"_parent\"><img src=\"https://colab.research.google.com/assets/colab-badge.svg\" alt=\"Open In Colab\"/></a>"
      ]
    },
    {
      "cell_type": "code",
      "metadata": {
        "id": "8IJ2V7_ydIrb"
      },
      "source": [
        "class Solution:\n",
        "    def hrsTakes(self, M, piles):\n",
        "        hr = 0\n",
        "        for p in piles:\n",
        "            if p % M == 0:\n",
        "                hr += p // M\n",
        "            else:\n",
        "                hr += p // M + 1\n",
        "        return hr\n",
        "\n",
        "    def minEatingSpeed(self, piles, h):\n",
        "\n",
        "        L, R = 1, max(piles)\n",
        "        minK = R\n",
        "\n",
        "        while L <= R:\n",
        "            M = (L + R) // 2\n",
        "            if self.hrsTakes(M, piles) > h:\n",
        "                L = M + 1\n",
        "            else:\n",
        "                minK = M\n",
        "                R = M - 1\n",
        "\n",
        "        return minK\n",
        "      \n",
        "      \n",
        "      O(log(R-L+1)*NumPiles)\n",
        "\n",
        "'''      \n",
        "      \n",
        "class Solution:\n",
        "    def minEatingSpeed(self, piles, h):\n",
        "      \n",
        "        def hrsTaken(k):\n",
        "            return sum(math.ceil(p / k) for p in piles)\n",
        "      \n",
        "        def lower_bound(lo, hi, key):\n",
        "            ans = hi\n",
        "            while lo <= hi:\n",
        "                mid = (lo + hi) // 2\n",
        "                if key(mid):\n",
        "                    ans = mid\n",
        "                    hi = mid - 1\n",
        "                else:\n",
        "                    lo = mid + 1\n",
        "            return ans\n",
        "        \n",
        "        return lower_bound(lo=1, hi=max(piles), key=lambda x: hrsTaken(x) <= h)\n",
        "'''        "
      ],
      "execution_count": null,
      "outputs": []
    }
  ]
}