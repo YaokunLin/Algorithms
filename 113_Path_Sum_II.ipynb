{
  "nbformat": 4,
  "nbformat_minor": 0,
  "metadata": {
    "colab": {
      "name": "113. Path Sum II.ipynb",
      "provenance": [],
      "authorship_tag": "ABX9TyPgLdqPZjmonN2lagAWr6wX",
      "include_colab_link": true
    },
    "kernelspec": {
      "name": "python3",
      "display_name": "Python 3"
    },
    "language_info": {
      "name": "python"
    }
  },
  "cells": [
    {
      "cell_type": "markdown",
      "metadata": {
        "id": "view-in-github",
        "colab_type": "text"
      },
      "source": [
        "<a href=\"https://colab.research.google.com/github/YaokunLin/Algorithms/blob/main/113_Path_Sum_II.ipynb\" target=\"_parent\"><img src=\"https://colab.research.google.com/assets/colab-badge.svg\" alt=\"Open In Colab\"/></a>"
      ]
    },
    {
      "cell_type": "code",
      "metadata": {
        "id": "n9Lq8GcSlkZF"
      },
      "source": [
        "# Definition for a binary tree node.\n",
        "# class TreeNode(object):\n",
        "#     def __init__(self, val=0, left=None, right=None):\n",
        "#         self.val = val\n",
        "#         self.left = left\n",
        "#         self.right = right\n",
        "class Solution(object):\n",
        "    def pathSum(self, root, targetSum):\n",
        "        if root==None: return []\n",
        "        stack=[]\n",
        "        stack.append([root,targetSum-root.val,[root.val]])\n",
        "        res=[]\n",
        "        \n",
        "        while stack:\n",
        "          tempNode, remain,tempList=stack.pop()\n",
        " \n",
        "          if tempNode.left==None and tempNode.right==None and remain == 0:\n",
        "            res.append(tempList)\n",
        "            continue\n",
        "        \n",
        "          if tempNode.left:\n",
        "            tempLeftNode=tempNode.left\n",
        "            remainLeft=remain-tempNode.left.val\n",
        "            tempListLeft=tempList+[tempNode.left.val]\n",
        "            stack.append([tempLeftNode,remainLeft,tempListLeft])\n",
        "\n",
        "          if tempNode.right:\n",
        "            tempRightNode=tempNode.right\n",
        "            remainRight=remain-tempNode.right.val\n",
        "            tempListRight=tempList+[tempNode.right.val]\n",
        "            stack.append([tempRightNode,remainRight,tempListRight])\n",
        "        \n",
        "        return res\n",
        "        "
      ],
      "execution_count": null,
      "outputs": []
    }
  ]
}