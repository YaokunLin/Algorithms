{
  "nbformat": 4,
  "nbformat_minor": 0,
  "metadata": {
    "colab": {
      "name": "24. Swap Nodes in Pairs.ipynb",
      "provenance": [],
      "authorship_tag": "ABX9TyM+ReXhQ9L9JostLSndAfFH",
      "include_colab_link": true
    },
    "kernelspec": {
      "name": "python3",
      "display_name": "Python 3"
    },
    "language_info": {
      "name": "python"
    }
  },
  "cells": [
    {
      "cell_type": "markdown",
      "metadata": {
        "id": "view-in-github",
        "colab_type": "text"
      },
      "source": [
        "<a href=\"https://colab.research.google.com/github/YaokunLin/Algorithms/blob/main/24_Swap_Nodes_in_Pairs.ipynb\" target=\"_parent\"><img src=\"https://colab.research.google.com/assets/colab-badge.svg\" alt=\"Open In Colab\"/></a>"
      ]
    },
    {
      "cell_type": "code",
      "metadata": {
        "id": "-tNLnxyoFIl8"
      },
      "source": [
        "# Definition for singly-linked list.\n",
        "# class ListNode:\n",
        "#     def __init__(self, val=0, next=None):\n",
        "#         self.val = val\n",
        "#         self.next = next\n",
        "'''\n",
        "prev   cur  nxt  nxtnxt\n",
        "dummy > 1 >  2 >    3     >  4\n",
        "  \n",
        "prev > cur > nxt > nxtnxt\n",
        "\n",
        "--------------------------\n",
        "prev> nxt > cur > nxtnxt |\n",
        "--------------------------\n",
        "\n",
        "\n",
        "  prev  cur   nxt    nxtnxt\n",
        "2 > 1 >  3 >   4   > None\n",
        "2 > 1 >  4 >   3   > None\n",
        "'''\n",
        "\n",
        "class Solution:\n",
        "    def swapPairs(self, head):\n",
        "      \n",
        "      dummyHead=ListNode(-1,head)\n",
        "      prev=dummyHead\n",
        "      cur=head\n",
        "      \n",
        "      while cur and cur.next: #make sure we have a pair\n",
        "        #save nodes\n",
        "        nxt=cur.next\n",
        "        nxtNxt=cur.next.next\n",
        "        #reverse\n",
        "        prev.next=nxt\n",
        "        nxt.next=cur\n",
        "        cur.next=nxtNxt\n",
        "        #move fwd\n",
        "        prev=cur\n",
        "        cur=nxtNxt\n",
        "        \n",
        "      return dummyHead.next\n",
        "        \n",
        "        \n",
        "       \n",
        "       "
      ],
      "execution_count": null,
      "outputs": []
    }
  ]
}