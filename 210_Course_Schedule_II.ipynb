{
  "nbformat": 4,
  "nbformat_minor": 0,
  "metadata": {
    "colab": {
      "name": "210. Course Schedule II.ipynb",
      "provenance": [],
      "authorship_tag": "ABX9TyP6mj+oRi/YScRJErd/f8K/",
      "include_colab_link": true
    },
    "kernelspec": {
      "name": "python3",
      "display_name": "Python 3"
    },
    "language_info": {
      "name": "python"
    }
  },
  "cells": [
    {
      "cell_type": "markdown",
      "metadata": {
        "id": "view-in-github",
        "colab_type": "text"
      },
      "source": [
        "<a href=\"https://colab.research.google.com/github/YaokunLin/Algorithms/blob/main/210_Course_Schedule_II.ipynb\" target=\"_parent\"><img src=\"https://colab.research.google.com/assets/colab-badge.svg\" alt=\"Open In Colab\"/></a>"
      ]
    },
    {
      "cell_type": "code",
      "metadata": {
        "id": "oG-d1m2d7JzN"
      },
      "source": [
        "class Solution(object):\n",
        "    def findOrder(self, numCourses, prerequisites):\n",
        "        preqDict={c:[] for c in range(numCourses)}\n",
        "        \n",
        "        for c,pre in prerequisites:\n",
        "          preqDict[c].append(pre)\n",
        "          \n",
        "        completed,cycle=set(),set()\n",
        "        ans=[]\n",
        "        \n",
        "        #[[1,0],[0,1]]\n",
        "        \n",
        "        def dfs(crs):\n",
        "          if crs in cycle: return False\n",
        "          if crs in completed: return True\n",
        "          \n",
        "          cycle.add(crs)\n",
        "          for pre in preqDict[crs]:\n",
        "            if dfs(pre)== False: return False\n",
        "          cycle.remove(crs)\n",
        "          completed.add(crs)\n",
        "          ans.append(crs)\n",
        "          \n",
        "          return True\n",
        "        \n",
        "        for c in range(numCourses):\n",
        "          if dfs(c)==False: return []\n",
        "          \n",
        "        return ans\n",
        "          \n",
        "          \n",
        "          \n",
        "        "
      ],
      "execution_count": null,
      "outputs": []
    }
  ]
}