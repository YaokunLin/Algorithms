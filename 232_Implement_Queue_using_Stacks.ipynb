{
  "nbformat": 4,
  "nbformat_minor": 0,
  "metadata": {
    "colab": {
      "name": " 232. Implement Queue using Stacks.ipynb",
      "provenance": [],
      "authorship_tag": "ABX9TyPGDtEgOeAV2N4wW1nvkrPg",
      "include_colab_link": true
    },
    "kernelspec": {
      "name": "python3",
      "display_name": "Python 3"
    },
    "language_info": {
      "name": "python"
    }
  },
  "cells": [
    {
      "cell_type": "markdown",
      "metadata": {
        "id": "view-in-github",
        "colab_type": "text"
      },
      "source": [
        "<a href=\"https://colab.research.google.com/github/YaokunLin/Algorithms/blob/main/232_Implement_Queue_using_Stacks.ipynb\" target=\"_parent\"><img src=\"https://colab.research.google.com/assets/colab-badge.svg\" alt=\"Open In Colab\"/></a>"
      ]
    },
    {
      "cell_type": "code",
      "metadata": {
        "id": "oaA1rcrDoOtG"
      },
      "source": [
        "class MyQueue:\n",
        "\n",
        "    def __init__(self):\n",
        "      self.s1=[]\n",
        "      self.s2=[]\n",
        "        \n",
        "    def AtoB(self,aStack,bStack):\n",
        "      while aStack:\n",
        "        bStack.append(aStack.pop())\n",
        "    \n",
        "    def push(self, x: int) -> None:\n",
        "      self.AtoB(self.s1,self.s2) #from s1 to s2 and reverse order\n",
        "      self.s1.append(x)\n",
        "      self.AtoB(self.s2,self.s1)\n",
        "        \n",
        "    def pop(self) -> int:\n",
        "      return self.s1.pop()\n",
        "\n",
        "    def peek(self) -> int:\n",
        "      return self.s1[-1]\n",
        "        \n",
        "    def empty(self) -> bool:\n",
        "      return len(self.s1)==0\n",
        "        \n",
        "\n",
        "\n",
        "# Your MyQueue object will be instantiated and called as such:\n",
        "# obj = MyQueue()\n",
        "# obj.push(x)\n",
        "# param_2 = obj.pop()\n",
        "# param_3 = obj.peek()\n",
        "# param_4 = obj.empty()"
      ],
      "execution_count": null,
      "outputs": []
    }
  ]
}