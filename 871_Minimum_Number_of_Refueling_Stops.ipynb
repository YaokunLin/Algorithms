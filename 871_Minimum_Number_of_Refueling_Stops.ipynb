{
  "nbformat": 4,
  "nbformat_minor": 0,
  "metadata": {
    "colab": {
      "name": "871. Minimum Number of Refueling Stops.ipynb",
      "provenance": [],
      "authorship_tag": "ABX9TyMLkhEsnxcDewT4G+uYJ03c",
      "include_colab_link": true
    },
    "kernelspec": {
      "name": "python3",
      "display_name": "Python 3"
    },
    "language_info": {
      "name": "python"
    }
  },
  "cells": [
    {
      "cell_type": "markdown",
      "metadata": {
        "id": "view-in-github",
        "colab_type": "text"
      },
      "source": [
        "<a href=\"https://colab.research.google.com/github/YaokunLin/Algorithms/blob/main/871_Minimum_Number_of_Refueling_Stops.ipynb\" target=\"_parent\"><img src=\"https://colab.research.google.com/assets/colab-badge.svg\" alt=\"Open In Colab\"/></a>"
      ]
    },
    {
      "cell_type": "code",
      "metadata": {
        "id": "UwjMC6Cz3J_s"
      },
      "source": [
        "class Solution(object):\n",
        "    def minRefuelStops(self, target, startFuel, stations):\n",
        "        maxH=[]\n",
        "        tank=startFuel\n",
        "        prevPos=0\n",
        "        visited=0\n",
        "        \n",
        "        for curPos,fuelAval in stations+[[target,0]]:\n",
        "          tank = tank-(curPos-prevPos)\n",
        "          while tank<0 and maxH:\n",
        "            tank=tank+(-heappop(maxH))\n",
        "            visited=visited+1\n",
        "          if tank<0: return -1\n",
        "          \n",
        "          heappush(maxH,-fuelAval)\n",
        "          \n",
        "            \n",
        "          prevPos=curPos\n",
        "          \n",
        "        return visited\n",
        "          \n",
        "        "
      ],
      "execution_count": null,
      "outputs": []
    }
  ]
}