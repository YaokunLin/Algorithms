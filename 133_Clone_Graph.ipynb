{
  "nbformat": 4,
  "nbformat_minor": 0,
  "metadata": {
    "colab": {
      "name": "133. Clone Graph.ipynb",
      "provenance": [],
      "authorship_tag": "ABX9TyMR3pF8g5XURM7xrVNzJZzs",
      "include_colab_link": true
    },
    "kernelspec": {
      "name": "python3",
      "display_name": "Python 3"
    },
    "language_info": {
      "name": "python"
    }
  },
  "cells": [
    {
      "cell_type": "markdown",
      "metadata": {
        "id": "view-in-github",
        "colab_type": "text"
      },
      "source": [
        "<a href=\"https://colab.research.google.com/github/YaokunLin/Algorithms/blob/main/133_Clone_Graph.ipynb\" target=\"_parent\"><img src=\"https://colab.research.google.com/assets/colab-badge.svg\" alt=\"Open In Colab\"/></a>"
      ]
    },
    {
      "cell_type": "code",
      "metadata": {
        "id": "nkCNcCamitv1"
      },
      "source": [
        "\"\"\"\n",
        "# Definition for a Node.\n",
        "class Node:\n",
        "    def __init__(self, val = 0, neighbors = None):\n",
        "        self.val = val\n",
        "        self.neighbors = neighbors if neighbors is not None else []\n",
        "\"\"\"\n",
        "\n",
        "class Solution:\n",
        "    def cloneGraph(self, node: 'Node') -> 'Node':\n",
        "      if not node: return None\n",
        "      oldToNew={}\n",
        "      \n",
        "      def clone(anOldNode):#return a copy of the given old node\n",
        "        if anOldNode in oldToNew: return oldToNew[anOldNode]\n",
        "        \n",
        "        aCopy=Node(val=anOldNode.val)\n",
        "        oldToNew[anOldNode]=aCopy\n",
        "        \n",
        "        for nei in anOldNode.neighbors:\n",
        "          aCopy.neighbors.append(clone(nei))\n",
        "        \n",
        "        return aCopy\n",
        "      \n",
        "      return clone(node)\n",
        "          \n",
        "        \n",
        "      \n",
        "          \n",
        "        "
      ],
      "execution_count": null,
      "outputs": []
    }
  ]
}