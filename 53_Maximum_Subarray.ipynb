{
  "nbformat": 4,
  "nbformat_minor": 0,
  "metadata": {
    "colab": {
      "name": "53. Maximum Subarray.ipynb",
      "provenance": [],
      "authorship_tag": "ABX9TyOiQIVL05szt6+A0EnC2V/Q",
      "include_colab_link": true
    },
    "kernelspec": {
      "name": "python3",
      "display_name": "Python 3"
    },
    "language_info": {
      "name": "python"
    }
  },
  "cells": [
    {
      "cell_type": "markdown",
      "metadata": {
        "id": "view-in-github",
        "colab_type": "text"
      },
      "source": [
        "<a href=\"https://colab.research.google.com/github/YaokunLin/Algorithms/blob/main/53_Maximum_Subarray.ipynb\" target=\"_parent\"><img src=\"https://colab.research.google.com/assets/colab-badge.svg\" alt=\"Open In Colab\"/></a>"
      ]
    },
    {
      "cell_type": "code",
      "metadata": {
        "id": "5ciEkS_O48xx"
      },
      "source": [
        "#\n",
        "class Solution(object):\n",
        "    def maxSubArray(self, nums):\n",
        "      if len(nums)==1: return nums[0]\n",
        "      \n",
        "      runningCumSum=0\n",
        "      ans=float(\"-inf\")\n",
        "      for n in nums:\n",
        "        if runningCumSum<0:\n",
        "          runningCumSum=0\n",
        "        runningCumSum=runningCumSum+n\n",
        "        ans=max(ans,runningCumSum)\n",
        "        \n",
        "      return ans\n",
        "        \n",
        "        \n",
        "        \n",
        "            \n",
        "          \n",
        "        "
      ],
      "execution_count": null,
      "outputs": []
    }
  ]
}