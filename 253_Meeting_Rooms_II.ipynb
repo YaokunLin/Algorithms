{
  "nbformat": 4,
  "nbformat_minor": 0,
  "metadata": {
    "colab": {
      "name": "253. Meeting Rooms II.ipynb",
      "provenance": [],
      "authorship_tag": "ABX9TyOOsVr//B/oO5qrbcSfX/fb",
      "include_colab_link": true
    },
    "kernelspec": {
      "name": "python3",
      "display_name": "Python 3"
    },
    "language_info": {
      "name": "python"
    }
  },
  "cells": [
    {
      "cell_type": "markdown",
      "metadata": {
        "id": "view-in-github",
        "colab_type": "text"
      },
      "source": [
        "<a href=\"https://colab.research.google.com/github/YaokunLin/Algorithms/blob/main/253_Meeting_Rooms_II.ipynb\" target=\"_parent\"><img src=\"https://colab.research.google.com/assets/colab-badge.svg\" alt=\"Open In Colab\"/></a>"
      ]
    },
    {
      "cell_type": "code",
      "metadata": {
        "id": "xmB1TZhABH-G"
      },
      "source": [
        "class Solution(object):\n",
        "    def minMeetingRooms(self, intervals):\n",
        "      #sorting[[0,30],[5,10],[5,15],[15,20],[16,20]]\n",
        "      #room 1[0,30] end time = 30\n",
        "      #5<30, room2[5,10]\n",
        "      #min(10,30)=10>5,room3=[5,15]\n",
        "      #min(10,30,15)=10<15 ==> room2[15,20]\n",
        "      #min(20,30,15)=15<16 ==>room3=[16,20]\n",
        "      \n",
        "      def sortKeys(x): return x[0],x[1]\n",
        "\n",
        "      intervals=sorted(intervals,key=sortKeys)\n",
        "\n",
        "      nRoom=1\n",
        "      firstStartTime=intervals[0][0]\n",
        "      firstEndTime=intervals[0][1]\n",
        "      endTimeList=[firstEndTime]\n",
        "      \n",
        "      for startTime,endTime in intervals[1:]:\n",
        "        earliesAvaliableTime=min(endTimeList)\n",
        "        \n",
        "        if startTime<earliesAvaliableTime:\n",
        "          nRoom+=1\n",
        "          endTimeList.append(endTime)\n",
        "        else:\n",
        "          endTimeList.remove(earliesAvaliableTime)\n",
        "          endTimeList.append(endTime)\n",
        "        \n",
        "      return nRoom\n"
      ],
      "execution_count": null,
      "outputs": []
    }
  ]
}