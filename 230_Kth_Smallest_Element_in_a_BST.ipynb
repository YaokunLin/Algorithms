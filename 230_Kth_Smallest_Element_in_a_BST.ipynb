{
  "nbformat": 4,
  "nbformat_minor": 0,
  "metadata": {
    "colab": {
      "name": "230. Kth Smallest Element in a BST.ipynb",
      "provenance": [],
      "authorship_tag": "ABX9TyOOKe7AMZ4GQavC9EOBiY49",
      "include_colab_link": true
    },
    "kernelspec": {
      "name": "python3",
      "display_name": "Python 3"
    },
    "language_info": {
      "name": "python"
    }
  },
  "cells": [
    {
      "cell_type": "markdown",
      "metadata": {
        "id": "view-in-github",
        "colab_type": "text"
      },
      "source": [
        "<a href=\"https://colab.research.google.com/github/YaokunLin/Algorithms/blob/main/230_Kth_Smallest_Element_in_a_BST.ipynb\" target=\"_parent\"><img src=\"https://colab.research.google.com/assets/colab-badge.svg\" alt=\"Open In Colab\"/></a>"
      ]
    },
    {
      "cell_type": "code",
      "metadata": {
        "id": "2AXeF2IRp7eS"
      },
      "source": [
        "# Definition for a binary tree node.\n",
        "# class TreeNode(object):\n",
        "#     def __init__(self, val=0, left=None, right=None):\n",
        "#         self.val = val\n",
        "#         self.left = left\n",
        "#         self.right = right\n",
        "\n",
        "#inorder traversal\n",
        "class Solution(object):\n",
        "    def kthSmallest(self, root, k):\n",
        "      if root.left==root.right==None: return root.val\n",
        "      \n",
        "      stack=[]\n",
        "      tempRoot=root\n",
        "      minCount=0\n",
        "      \n",
        "      while stack or tempRoot:\n",
        "        while tempRoot:\n",
        "          stack.append(tempRoot)\n",
        "          tempRoot=tempRoot.left\n",
        "        \n",
        "        if stack:\n",
        "          tempRoot=stack.pop()\n",
        "          minCount+=1\n",
        "          if minCount==k: return tempRoot.val \n",
        "        \n",
        "        tempRoot=tempRoot.right \n",
        "        \n",
        "        \n",
        "          \n",
        "          \n",
        "        "
      ],
      "execution_count": null,
      "outputs": []
    }
  ]
}