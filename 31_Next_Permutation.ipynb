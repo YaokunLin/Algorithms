{
  "nbformat": 4,
  "nbformat_minor": 0,
  "metadata": {
    "colab": {
      "name": "31. Next Permutation.ipynb",
      "provenance": [],
      "authorship_tag": "ABX9TyNlWL2WGfTboIBZJ1fJwhei",
      "include_colab_link": true
    },
    "kernelspec": {
      "name": "python3",
      "display_name": "Python 3"
    },
    "language_info": {
      "name": "python"
    }
  },
  "cells": [
    {
      "cell_type": "markdown",
      "metadata": {
        "id": "view-in-github",
        "colab_type": "text"
      },
      "source": [
        "<a href=\"https://colab.research.google.com/github/YaokunLin/Algorithms/blob/main/31_Next_Permutation.ipynb\" target=\"_parent\"><img src=\"https://colab.research.google.com/assets/colab-badge.svg\" alt=\"Open In Colab\"/></a>"
      ]
    },
    {
      "cell_type": "code",
      "metadata": {
        "id": "G63osV8GHbX3"
      },
      "source": [
        "class Solution(object):\n",
        "    def nextPermutation(self, nums):\n",
        "        #[1,3,5,4,9,10,25]\n",
        "        #[1,4,5,3,9,25,10] swap 10 for 25\n",
        "        #\n",
        "        #[1,2,9,10,12,26,7,3]\n",
        "        #[1,2,9,10,26,12,7,3] swap 12 for 26\n",
        "        #[1,2,9,10,26,12,3,7] reverse list[6:]\n",
        "        \n",
        "        #[5,8,15,62,31,12,3]\n",
        "        #[5,8,31,62,15,12,3] swap 15 for 31\n",
        "        #[5,8,31,3,12,15,62] reverse list[3:]\n",
        "\n",
        "        #[5,8,15,62,31,12,8,3]\n",
        "        #[5,8,31,62,15,12,8,3] swap 15 for 31\n",
        "        #[5,8,31,3,8,12,15,62] reverse list[3:]\n",
        "        \n",
        "        def swap(idx1,idx2):\n",
        "          nums[idx1],nums[idx2] = nums[idx2],nums[idx1]\n",
        "          \n",
        "        def reverse(left,right):\n",
        "          while left<right:\n",
        "            swap(left,right)\n",
        "            left+=1\n",
        "            right-=1\n",
        "          \n",
        "        \n",
        "        pter=-1 #[3,2,1]\n",
        "        for idx in range(len(nums)-2,-1,-1):\n",
        "          if nums[idx]>=nums[idx+1]:\n",
        "            continue\n",
        "          else:        \n",
        "            pter=idx\n",
        "            break\n",
        "               \n",
        "        if pter==-1:\n",
        "          reverse(0,len(nums)-1)\n",
        "          return nums\n",
        "            \n",
        "        minLarger = float('inf')\n",
        "        minLargerPos=pter\n",
        "        for idx in range(len(nums)-1,pter,-1):\n",
        "          #print(nums[idx],nums[pter])\n",
        "          if nums[idx] > nums[pter] and minLarger>nums[idx]:    \n",
        "            minLarger=nums[idx]\n",
        "            minLargerPos=idx\n",
        "    \n",
        "        swap(pter,minLargerPos)\n",
        "\n",
        "        \n",
        "        if pter==len(nums)-2: return nums\n",
        "        \n",
        "        reverse(pter+1,len(nums)-1)\n",
        "\n",
        "        return nums\n",
        "        \n",
        "\n",
        "          \n",
        "        "
      ],
      "execution_count": null,
      "outputs": []
    }
  ]
}