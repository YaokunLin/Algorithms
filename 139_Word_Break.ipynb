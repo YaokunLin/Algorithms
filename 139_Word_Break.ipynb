{
  "nbformat": 4,
  "nbformat_minor": 0,
  "metadata": {
    "colab": {
      "name": "139. Word Break.ipynb",
      "provenance": [],
      "authorship_tag": "ABX9TyMEIHZoeUKVnZPITmnN/a6s",
      "include_colab_link": true
    },
    "kernelspec": {
      "name": "python3",
      "display_name": "Python 3"
    },
    "language_info": {
      "name": "python"
    }
  },
  "cells": [
    {
      "cell_type": "markdown",
      "metadata": {
        "id": "view-in-github",
        "colab_type": "text"
      },
      "source": [
        "<a href=\"https://colab.research.google.com/github/YaokunLin/Algorithms/blob/main/139_Word_Break.ipynb\" target=\"_parent\"><img src=\"https://colab.research.google.com/assets/colab-badge.svg\" alt=\"Open In Colab\"/></a>"
      ]
    },
    {
      "cell_type": "code",
      "metadata": {
        "id": "8clRlQ8LmuaW"
      },
      "source": [
        "class Solution(object):\n",
        "    '''\n",
        "    def wordBreak(self, s, wordDict):\n",
        "      wordDictSet=set(wordDict)\n",
        "        \n",
        "      def recursion(start):\n",
        "        if start==len(s): return True\n",
        "        \n",
        "        for end in range(start+1,len(s)+1):\n",
        "          if s[start:end] in wordDictSet and recursion(end): return True\n",
        "          \n",
        "        return False\n",
        "      \n",
        "      \n",
        "      return recursion(0)\n",
        "     '''\n",
        "    '''\n",
        "    def wordBreak(self, s, wordDict):\n",
        "      wordDictSet=set(wordDict)\n",
        "      memo=[None]*len(s)\n",
        "        \n",
        "      def recursion(start):\n",
        "        if start==len(s): return True\n",
        "        if memo[start]!=None: return memo[start]\n",
        "        \n",
        "        for end in range(start+1,len(s)+1):\n",
        "          if s[start:end] in wordDictSet and recursion(end):\n",
        "            return True\n",
        "        else: memo[start]=False\n",
        "            \n",
        "          \n",
        "      return recursion(0)\n",
        "    '''\n",
        "    def wordBreak(self, s, wordDict):\n",
        "      wordDictSet=set(wordDict) \n",
        "      q=[] # stores all starting positions\n",
        "      q.append(0) #initial start point\n",
        "      seen=set()\n",
        "      \n",
        "      while q:\n",
        "        start = q.pop(0)\n",
        "        if start == len(s): return True\n",
        "        if start in seen: continue\n",
        "          \n",
        "        for end in range(start+1,len(s)+1):\n",
        "          if s[start:end] in wordDictSet:\n",
        "            q.append(end)\n",
        "        \n",
        "        seen.add(start)\n",
        "        \n",
        "      return False\n",
        "          \n",
        "  \n",
        "        "
      ],
      "execution_count": null,
      "outputs": []
    }
  ]
}