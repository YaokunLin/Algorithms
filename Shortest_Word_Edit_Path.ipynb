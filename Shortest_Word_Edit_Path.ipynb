{
  "nbformat": 4,
  "nbformat_minor": 0,
  "metadata": {
    "colab": {
      "name": "Shortest Word Edit Path.ipynb",
      "provenance": [],
      "authorship_tag": "ABX9TyNS8BNC7TNNwRrA13sp4IJl",
      "include_colab_link": true
    },
    "kernelspec": {
      "name": "python3",
      "display_name": "Python 3"
    },
    "language_info": {
      "name": "python"
    }
  },
  "cells": [
    {
      "cell_type": "markdown",
      "metadata": {
        "id": "view-in-github",
        "colab_type": "text"
      },
      "source": [
        "<a href=\"https://colab.research.google.com/github/YaokunLin/Algorithms/blob/main/Shortest_Word_Edit_Path.ipynb\" target=\"_parent\"><img src=\"https://colab.research.google.com/assets/colab-badge.svg\" alt=\"Open In Colab\"/></a>"
      ]
    },
    {
      "cell_type": "code",
      "metadata": {
        "id": "v4QFrAgaD14k"
      },
      "source": [
        "\"\"\"     \n",
        " https://www.linkedin.com/in/yaokun-lin-fsa-fcia-cera-00a20a199/         \n",
        " https://www.linkedin.com/in/kushal-wadhwani-02109a1a/\n",
        "        \n",
        "\t\n",
        "\t@param source: str\n",
        "\t@param target: str\n",
        "\t@param words: str[]\n",
        "\t@return: int\n",
        "  \n",
        "  bit [*it,b*t,bi*]=len(source)*26*len(words)\n",
        "    but \n",
        "        put\n",
        "           pot\n",
        "              \n",
        "        \n",
        "    big\n",
        "        [dead end]\n",
        "  \n",
        "\t\n",
        "\tpass #your code goes here\n",
        "\n",
        "\n",
        "\n",
        "(0 1) 1  1\n",
        "(0 2) 1  1\n",
        "(0 0) 0  1\n",
        "(0 5) 0  1\n",
        "(0 6) 0  0\n",
        "(0 10)1  0\n",
        "if boundary is 3 error 2\n",
        "o(n)\n",
        "n = 6 \n",
        "\n",
        "\n",
        "class sream()\n",
        "  get_next_num \n",
        "  is_end_stream\n",
        "  \n",
        "  \n",
        "  \n",
        "print_min_of_last_n_elements()\n",
        "timecomplexity S*log(N)\n",
        "o(N)\n",
        "\n",
        "S= 5 \n",
        "N = 2 \n",
        "\n",
        "input 3 1 1 2 4 \n",
        "N =2 \n",
        "output \n",
        "1 \n",
        "1 \n",
        "1\n",
        "2\n",
        "\n",
        "https://leetcode.com/problems/flatten-nested-list-iterator/\n",
        "\"\"\"\n"
      ],
      "execution_count": null,
      "outputs": []
    },
    {
      "cell_type": "code",
      "metadata": {
        "id": "7yrfrcjKErjI"
      },
      "source": [
        "def shortestWordEditPath(source, target, words):\n",
        "  words=set(words)\n",
        "          \n",
        "    \n",
        "  q=[[source,0]]\n",
        "  visited=set()\n",
        "  while q:\n",
        "    aWord,aStep=q.pop(0)\n",
        "    visited.add(aWord)\n",
        "    if aWord==target: return aStep\n",
        "\n",
        "    aWordLst=list(aWord)\n",
        "    for i,letter in enumerate(aWordLst):\n",
        "      for sub in \"abcdefghijklmnopqrstuvwxyz\": #26 letters #(26)\n",
        "        if letter==sub: continue\n",
        "        temp=aWordLst[:] #O(len(temp))\n",
        "        temp[i]=sub\n",
        "        tempWrd=''.join(temp)\n",
        "        if tempWrd in words and not tempWrd in visited:\n",
        "          q.append([tempWrd,aStep+1])\n",
        "\n",
        "  return -1"
      ],
      "execution_count": null,
      "outputs": []
    }
  ]
}