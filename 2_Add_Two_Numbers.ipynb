{
  "nbformat": 4,
  "nbformat_minor": 0,
  "metadata": {
    "colab": {
      "name": "2. Add Two Numbers.ipynb",
      "provenance": [],
      "authorship_tag": "ABX9TyP3B5E5fhx/YUpumghTVgO0",
      "include_colab_link": true
    },
    "kernelspec": {
      "name": "python3",
      "display_name": "Python 3"
    },
    "language_info": {
      "name": "python"
    }
  },
  "cells": [
    {
      "cell_type": "markdown",
      "metadata": {
        "id": "view-in-github",
        "colab_type": "text"
      },
      "source": [
        "<a href=\"https://colab.research.google.com/github/YaokunLin/Algorithms/blob/main/2_Add_Two_Numbers.ipynb\" target=\"_parent\"><img src=\"https://colab.research.google.com/assets/colab-badge.svg\" alt=\"Open In Colab\"/></a>"
      ]
    },
    {
      "cell_type": "code",
      "metadata": {
        "id": "Gpc8tQ23pQL9"
      },
      "source": [
        "# Definition for singly-linked list.\n",
        "# class ListNode(object):\n",
        "#     def __init__(self, val=0, next=None):\n",
        "#         self.val = val\n",
        "#         self.next = next\n",
        "class Solution(object):\n",
        "    def addTwoNumbers(self, l1, l2):\n",
        "      dummyHead=ListNode()\n",
        "      curNode=dummyHead\n",
        "      \n",
        "      #dummyHead.next=actual head\n",
        "      \n",
        "      carry=0\n",
        "      while l1 and l2:\n",
        "        curSum=l1.val+l2.val+carry\n",
        "        remaindr=curSum%10\n",
        "        tempNode=ListNode()\n",
        "        tempNode.val=remaindr\n",
        "        curNode.next=tempNode\n",
        "        carry=curSum//10\n",
        "        curNode=curNode.next\n",
        "        l1=l1.next\n",
        "        l2=l2.next\n",
        "      \n",
        "      remainNode=None\n",
        "      if l1==None and l2!=None: remainNode=l2\n",
        "      if l1!=None and l2==None: remainNode=l1\n",
        "      \n",
        "      while remainNode:\n",
        "        curSum=remainNode.val+carry\n",
        "        remaindr=curSum%10\n",
        "        tempNode=ListNode()\n",
        "        tempNode.val=remaindr\n",
        "        curNode.next=tempNode\n",
        "        carry=curSum//10\n",
        "        curNode=curNode.next\n",
        "        remainNode=remainNode.next\n",
        "        \n",
        "      if carry>0:\n",
        "        tempNode=ListNode()\n",
        "        tempNode.val=carry\n",
        "        curNode.next=tempNode\n",
        "        \n",
        "\n",
        "        \n",
        "      return dummyHead.next\n",
        "    "
      ],
      "execution_count": null,
      "outputs": []
    }
  ]
}