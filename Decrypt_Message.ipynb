{
  "nbformat": 4,
  "nbformat_minor": 0,
  "metadata": {
    "colab": {
      "name": "Decrypt Message.ipynb",
      "provenance": [],
      "authorship_tag": "ABX9TyP78Ejqqmy0Q1VHKz9RLcOm",
      "include_colab_link": true
    },
    "kernelspec": {
      "name": "python3",
      "display_name": "Python 3"
    },
    "language_info": {
      "name": "python"
    }
  },
  "cells": [
    {
      "cell_type": "markdown",
      "metadata": {
        "id": "view-in-github",
        "colab_type": "text"
      },
      "source": [
        "<a href=\"https://colab.research.google.com/github/YaokunLin/Algorithms/blob/main/Decrypt_Message.ipynb\" target=\"_parent\"><img src=\"https://colab.research.google.com/assets/colab-badge.svg\" alt=\"Open In Colab\"/></a>"
      ]
    },
    {
      "cell_type": "code",
      "metadata": {
        "id": "6JFbFYIrzqFV"
      },
      "source": [
        "#Yao\n",
        "#Krishna\n",
        "'''\n",
        "'a': 97\n",
        "'b': 98\n",
        "'c': 99\n",
        "\n",
        "'z': 97 + 26 = 123\n",
        "\n",
        "'a' - 'z': 97=ord('a') to ord('z')\n",
        "\n",
        "[97,123]\n",
        "\n",
        "Encryption Algorithm:\n",
        "\n",
        "Decrypted message:\t            c\tr\ti\tm\te\n",
        "Step 1-find ASCII for letters:\t99\t114\t105\t109\t101\n",
        "Step 2:\t99+1=100,\t214=114+100,\t319=214+105,\t428=319+109,\t529=428+101\n",
        "\n",
        "Step 3:\t100\t110\t111\t116\t113\n",
        "Encrypted message:\td\tn\to\tt\tq\n",
        "\n",
        "\n",
        "Decryption Algorithm\n",
        "given message:\td\tn\to\tt\tq\n",
        "trans to ASCII: 100\t110\t111\t116\t113\n",
        "100-1=99\n",
        "110\n",
        "\n",
        "99,10,1,5,-3\n",
        "\n",
        "101=-3+26*_\n",
        "109=5+26*_\n",
        "bring back [97,123]\n",
        "\n",
        "99\n",
        "\n",
        "\n",
        "\n",
        "\n",
        "100+x=y\n",
        "110=100+10\n",
        "\n",
        "solution: 99\t114\t105\t109\t101\n",
        "           c\tr\t   i\t m\t e\n",
        "           \n",
        "\n",
        "'''\n",
        "\n",
        "\n",
        "def decrypt(word):\n",
        "  if not word: return \"\"\n",
        "  #word=\"dnotq\"\n",
        "  res=[]\n",
        "  \n",
        "  asciiLst = [ord(c) for c in word]\n",
        "  # asciiLst=[100\t110\t111\t116\t113]\n",
        "  first=asciiLst[0]\n",
        "  while not ord('a')<=(first-1)<= ord('z'):\n",
        "    first=first+26\n",
        "  res.append(chr(first-1))\n",
        "  \n",
        "  dif=[asciiLst[i+1]-asciiLst[i] for i in range(len(asciiLst)-1) ]\n",
        "  #dif=[10,1,5,-3]\n",
        "  \n",
        "  for x in dif:\n",
        "    while not ord('a')<=x<= ord('z'):\n",
        "      x=x+26 \n",
        "    res.append(chr(x))\n",
        "    \n",
        "    \n",
        "  \n",
        "  return \"\".join(res)\n",
        "      \n",
        "    \n",
        "    \n",
        "  \n",
        "  "
      ],
      "execution_count": null,
      "outputs": []
    }
  ]
}