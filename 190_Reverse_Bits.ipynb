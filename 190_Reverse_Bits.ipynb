{
  "nbformat": 4,
  "nbformat_minor": 0,
  "metadata": {
    "colab": {
      "name": "190. Reverse Bits.ipynb",
      "provenance": [],
      "authorship_tag": "ABX9TyMwAQkteOZae+FCe92bJKgK",
      "include_colab_link": true
    },
    "kernelspec": {
      "name": "python3",
      "display_name": "Python 3"
    },
    "language_info": {
      "name": "python"
    }
  },
  "cells": [
    {
      "cell_type": "markdown",
      "metadata": {
        "id": "view-in-github",
        "colab_type": "text"
      },
      "source": [
        "<a href=\"https://colab.research.google.com/github/YaokunLin/Algorithms/blob/main/190_Reverse_Bits.ipynb\" target=\"_parent\"><img src=\"https://colab.research.google.com/assets/colab-badge.svg\" alt=\"Open In Colab\"/></a>"
      ]
    },
    {
      "cell_type": "code",
      "metadata": {
        "colab": {
          "base_uri": "https://localhost:8080/"
        },
        "id": "_mZhvtmsEuWC",
        "outputId": "2472cc17-ef6d-4f36-c58d-e46bd058186a"
      },
      "source": [
        "n=0b11001\n",
        "while n:\n",
        "    print(bin(n),n)\n",
        "    n = n >> 1\n"
      ],
      "execution_count": 11,
      "outputs": [
        {
          "output_type": "stream",
          "name": "stdout",
          "text": [
            "0b11001 25\n",
            "0b1100 12\n",
            "0b110 6\n",
            "0b11 3\n",
            "0b1 1\n"
          ]
        }
      ]
    },
    {
      "cell_type": "code",
      "metadata": {
        "colab": {
          "base_uri": "https://localhost:8080/"
        },
        "id": "oQJGfDErHIlY",
        "outputId": "ee13f12c-5d96-4baf-b355-70440b1537bc"
      },
      "source": [
        "n=0b11001\n",
        "for i in range(5):\n",
        "    print(bin(n),n)\n",
        "    n = n << 1"
      ],
      "execution_count": 10,
      "outputs": [
        {
          "output_type": "stream",
          "name": "stdout",
          "text": [
            "0b11001 25\n",
            "0b110010 50\n",
            "0b1100100 100\n",
            "0b11001000 200\n",
            "0b110010000 400\n"
          ]
        }
      ]
    },
    {
      "cell_type": "code",
      "metadata": {
        "id": "SdVfwfXcV06D"
      },
      "source": [
        "'''\n",
        "Illustration on 4 bits:\n",
        "\n",
        "      input:        1101\n",
        "------------------------\n",
        "input &  1          0001\n",
        "get 1st bit:           1\n",
        "<< by bit size-1:   1\n",
        "result:             1000\n",
        "\n",
        "------------------------\n",
        ">> input by 1:       110\n",
        "      &  1           001\n",
        "get 2nd bit:           0\n",
        "<< by bit size-2:    0\n",
        "result:             1000\n",
        "------------------------\n",
        "\n",
        ">> input by 1:        11\n",
        "      &  1            01\n",
        "get 3rd bit:           1\n",
        "<< by bit size-3:     1\n",
        "result:             1010\n",
        "------------------------\n",
        "\n",
        ">> input by 1:         1\n",
        "      &  1             1\n",
        "get 4th bit:           1\n",
        "<< by bit size-4:      1 \n",
        "result:             1011\n",
        "\n",
        "'''\n",
        "\n",
        "class Solution:\n",
        "    def reverseBits(self, n: int) -> int:\n",
        "      res, power = 0, 31\n",
        "      while n:\n",
        "        rightMostBid=n & 1\n",
        "        leftShiftedBit=rightMostBid<<power\n",
        "        res=res | leftShiftedBit\n",
        "        n = n >> 1 # right shift to go through each of the bit\n",
        "        power-=1\n",
        "\n",
        "      return res\n",
        "      \n",
        "        "
      ],
      "execution_count": null,
      "outputs": []
    }
  ]
}