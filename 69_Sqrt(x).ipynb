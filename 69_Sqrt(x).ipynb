{
  "nbformat": 4,
  "nbformat_minor": 0,
  "metadata": {
    "colab": {
      "name": "69. Sqrt(x).ipynb",
      "provenance": [],
      "authorship_tag": "ABX9TyNARy/Db5TgVox5O0PknNdP",
      "include_colab_link": true
    },
    "kernelspec": {
      "name": "python3",
      "display_name": "Python 3"
    },
    "language_info": {
      "name": "python"
    }
  },
  "cells": [
    {
      "cell_type": "markdown",
      "metadata": {
        "id": "view-in-github",
        "colab_type": "text"
      },
      "source": [
        "<a href=\"https://colab.research.google.com/github/YaokunLin/Algorithms/blob/main/69_Sqrt(x).ipynb\" target=\"_parent\"><img src=\"https://colab.research.google.com/assets/colab-badge.svg\" alt=\"Open In Colab\"/></a>"
      ]
    },
    {
      "cell_type": "code",
      "metadata": {
        "id": "sz8ucwSCdNY8"
      },
      "source": [
        "class Solution(object):\n",
        "    def mySqrt(self, x):\n",
        "        l = 0\n",
        "        r = x\n",
        "        \n",
        "        while l+1<r:\n",
        "          m=(l+r)/2\n",
        "          if m*m>x: r=m\n",
        "          if m*m<x: l=m\n",
        "          if m*m==x: return int(m)\n",
        "          \n",
        "        \n",
        "        if r*r == x: return int(r)\n",
        "        return int((l+r)/2)\n",
        "        \n",
        "        "
      ],
      "execution_count": null,
      "outputs": []
    }
  ]
}