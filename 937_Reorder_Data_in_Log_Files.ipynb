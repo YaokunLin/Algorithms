{
  "nbformat": 4,
  "nbformat_minor": 0,
  "metadata": {
    "colab": {
      "name": "937. Reorder Data in Log Files.ipynb",
      "provenance": [],
      "authorship_tag": "ABX9TyOuMWnpM9tbgMLdTszYG4gG",
      "include_colab_link": true
    },
    "kernelspec": {
      "name": "python3",
      "display_name": "Python 3"
    },
    "language_info": {
      "name": "python"
    }
  },
  "cells": [
    {
      "cell_type": "markdown",
      "metadata": {
        "id": "view-in-github",
        "colab_type": "text"
      },
      "source": [
        "<a href=\"https://colab.research.google.com/github/YaokunLin/Algorithms/blob/main/937_Reorder_Data_in_Log_Files.ipynb\" target=\"_parent\"><img src=\"https://colab.research.google.com/assets/colab-badge.svg\" alt=\"Open In Colab\"/></a>"
      ]
    },
    {
      "cell_type": "code",
      "metadata": {
        "id": "i3AWaw4HnJgU"
      },
      "source": [
        "class Solution(object):\n",
        "    def reorderLogFiles(self, logs):\n",
        "      \n",
        "      def threeSortKeys(givenLog):\n",
        "        id,theLog = givenLog.split( \" \",  1) #['dig1','8 1 5 1']\n",
        "        \n",
        "        if theLog[0].isalpha(): return (0,theLog,id)\n",
        "        else: \n",
        "          return (1,None,None)\n",
        "        #thanks to the stability of sorting algorithms, the elements with the same key value would remain the same order as in the original input. Therefore, the Rule (3) is ensured.\n",
        "      \n",
        "      return sorted(logs,key=threeSortKeys)\n",
        "        "
      ],
      "execution_count": null,
      "outputs": []
    }
  ]
}