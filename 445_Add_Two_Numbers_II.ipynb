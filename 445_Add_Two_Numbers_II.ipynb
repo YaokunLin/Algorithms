{
  "nbformat": 4,
  "nbformat_minor": 0,
  "metadata": {
    "colab": {
      "name": "445. Add Two Numbers II.ipynb",
      "provenance": [],
      "authorship_tag": "ABX9TyPw7htiByta5fHaeBOLyGgQ",
      "include_colab_link": true
    },
    "kernelspec": {
      "name": "python3",
      "display_name": "Python 3"
    },
    "language_info": {
      "name": "python"
    }
  },
  "cells": [
    {
      "cell_type": "markdown",
      "metadata": {
        "id": "view-in-github",
        "colab_type": "text"
      },
      "source": [
        "<a href=\"https://colab.research.google.com/github/YaokunLin/Algorithms/blob/main/445_Add_Two_Numbers_II.ipynb\" target=\"_parent\"><img src=\"https://colab.research.google.com/assets/colab-badge.svg\" alt=\"Open In Colab\"/></a>"
      ]
    },
    {
      "cell_type": "code",
      "metadata": {
        "id": "1Nhf4pypO3FT"
      },
      "source": [
        "# Definition for singly-linked list.\n",
        "# class ListNode(object):\n",
        "#     def __init__(self, val=0, next=None):\n",
        "#         self.val = val\n",
        "#         self.next = next\n",
        "class Solution(object):\n",
        "    def addTwoNumbers(self, l1, l2):\n",
        "      stack1,stack2=[],[]\n",
        "      \n",
        "      def pushToStack(head,aStack):\n",
        "        while head:\n",
        "          aStack.append(head.val)\n",
        "          head=head.next\n",
        "      \n",
        "      pushToStack(l1,stack1)\n",
        "      pushToStack(l2,stack2)\n",
        "      \n",
        "      dummyHead=ListNode(-1)\n",
        "      head=dummyHead\n",
        "      carry=0\n",
        "      \n",
        "      while stack1 or stack2 or carry:\n",
        "        if stack1: \n",
        "          a=stack1.pop()\n",
        "        else: a=0\n",
        "          \n",
        "        if stack2: \n",
        "          b=stack2.pop()\n",
        "        else: b=0\n",
        "         \n",
        "        tempSum=a+b+carry\n",
        "        mod,carry =  tempSum%10,tempSum//10\n",
        "        \n",
        "        tempLL=ListNode(mod)\n",
        "        head.next=tempLL\n",
        "        head=head.next\n",
        "        \n",
        "      #reverse linked list\n",
        "      head=dummyHead.next\n",
        "      cur=head\n",
        "      prev=None\n",
        "\n",
        "      while cur:  \n",
        "        #save the next one\n",
        "        nextOne=cur.next\n",
        "        #re-assignment\n",
        "        cur.next=prev\n",
        "        #move forward\n",
        "        prev=cur\n",
        "        cur=nextOne\n",
        "      \n",
        "      return prev\n",
        "        \n",
        "        \n",
        "      \n",
        "        \n",
        " \n",
        "        "
      ],
      "execution_count": null,
      "outputs": []
    }
  ]
}