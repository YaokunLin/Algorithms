{
  "nbformat": 4,
  "nbformat_minor": 0,
  "metadata": {
    "colab": {
      "name": "MergeSort.ipynb",
      "provenance": [],
      "authorship_tag": "ABX9TyOUahKwtbOkW52cIE1iaL4q",
      "include_colab_link": true
    },
    "kernelspec": {
      "name": "python3",
      "display_name": "Python 3"
    },
    "language_info": {
      "name": "python"
    }
  },
  "cells": [
    {
      "cell_type": "markdown",
      "metadata": {
        "id": "view-in-github",
        "colab_type": "text"
      },
      "source": [
        "<a href=\"https://colab.research.google.com/github/YaokunLin/Algorithms/blob/main/MergeSort.ipynb\" target=\"_parent\"><img src=\"https://colab.research.google.com/assets/colab-badge.svg\" alt=\"Open In Colab\"/></a>"
      ]
    },
    {
      "cell_type": "code",
      "metadata": {
        "id": "6vWW8rMd9xo6"
      },
      "source": [
        "def merge(L,R):\n",
        "  sortedMerged=[]\n",
        "  i,j=0,0\n",
        "  while i<=len(L)-1 and j<=len(R)-1:\n",
        "    if L[i]<=R[j]:\n",
        "      sortedMerged.append(L[i])\n",
        "      i=i+1\n",
        "    else:\n",
        "      sortedMerged.append(R[j])\n",
        "      j=j+1\n",
        "\n",
        "  while i<=len(L)-1:\n",
        "    sortedMerged.append(L[i])\n",
        "    i=i+1\n",
        "\n",
        "  while j<=len(R)-1:\n",
        "    sortedMerged.append(R[j])\n",
        "    j=j+1\n",
        "  return sortedMerged \n",
        "  \n",
        "def mergeSort(aList):\n",
        "  if len(aList)<=1: return aList #already sorted\n",
        "  midIdx=len(aList)//2 \n",
        "  L,R=aList[:midIdx],aList[midIdx:] #divide into two halves\n",
        "  L,R=mergeSort(L),mergeSort(R)\n",
        "  return merge(L,R)"
      ],
      "execution_count": 12,
      "outputs": []
    },
    {
      "cell_type": "code",
      "metadata": {
        "colab": {
          "base_uri": "https://localhost:8080/"
        },
        "id": "W-t--GUa_zWG",
        "outputId": "ce9a1801-ea36-4810-e292-aa2adeb21b3a"
      },
      "source": [
        "mergeSort(aList=[5,9,7,6,3,4,5,6,7,9,5,6,1,2,3,-5])"
      ],
      "execution_count": 13,
      "outputs": [
        {
          "output_type": "execute_result",
          "data": {
            "text/plain": [
              "[-5, 1, 2, 3, 3, 4, 5, 5, 5, 6, 6, 6, 7, 7, 9, 9]"
            ]
          },
          "metadata": {},
          "execution_count": 13
        }
      ]
    },
    {
      "cell_type": "code",
      "metadata": {
        "id": "PZvVR6fpAtB8"
      },
      "source": [
        "#optimized for memory\n",
        "def merge(L,R,aList):\n",
        "  #sortedMerged=[]\n",
        "  i,j,k=0,0,0\n",
        "  while i<=len(L)-1 and j<=len(R)-1:\n",
        "    if L[i]<=R[j]:\n",
        "      #sortedMerged.append(L[i])\n",
        "      aList[k]=L[i]\n",
        "      i=i+1\n",
        "      k=k+1\n",
        "    else:\n",
        "      #sortedMerged.append(R[j])\n",
        "      aList[k]=R[j]\n",
        "      j=j+1\n",
        "      k=k+1\n",
        "\n",
        "  while i<=len(L)-1:\n",
        "    #sortedMerged.append(L[i])\n",
        "    aList[k]=L[i]\n",
        "    i=i+1\n",
        "    k=k+1\n",
        "\n",
        "  while j<=len(R)-1:\n",
        "    #sortedMerged.append(R[j])\n",
        "    aList[k]=R[j]\n",
        "    j=j+1\n",
        "    k=k+1\n",
        "  #return sortedMerged \n",
        "  \n",
        "def mergeSort(aList):\n",
        "  if len(aList)<=1: return #aList #already sorted\n",
        "  midIdx=len(aList)//2 \n",
        "  L,R=aList[:midIdx],aList[midIdx:] #divide into two halves\n",
        "  #L,R=mergeSort(L),mergeSort(R)\n",
        "  mergeSort(L),mergeSort(R)\n",
        "  merge(L,R,aList)\n"
      ],
      "execution_count": 8,
      "outputs": []
    },
    {
      "cell_type": "code",
      "metadata": {
        "colab": {
          "base_uri": "https://localhost:8080/"
        },
        "id": "XMfhHRcWEBcY",
        "outputId": "68a3a227-099e-4c25-dd6d-da395e346442"
      },
      "source": [
        "aList=[5,9,7,6,3,4,5,6,7,9,5,6,1,2,3,-5]\n",
        "mergeSort(aList)\n",
        "print(aList)"
      ],
      "execution_count": 14,
      "outputs": [
        {
          "output_type": "stream",
          "name": "stdout",
          "text": [
            "[5, 9, 7, 6, 3, 4, 5, 6, 7, 9, 5, 6, 1, 2, 3, -5]\n"
          ]
        }
      ]
    },
    {
      "cell_type": "code",
      "metadata": {
        "id": "aPv_qeLbLCvo"
      },
      "source": [
        ""
      ],
      "execution_count": null,
      "outputs": []
    }
  ]
}