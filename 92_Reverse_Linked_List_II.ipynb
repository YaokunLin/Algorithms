{
  "nbformat": 4,
  "nbformat_minor": 0,
  "metadata": {
    "colab": {
      "name": "92. Reverse Linked List II.ipynb",
      "provenance": [],
      "collapsed_sections": [],
      "authorship_tag": "ABX9TyO6aleO16gBXgT4WBlD4Loq",
      "include_colab_link": true
    },
    "kernelspec": {
      "name": "python3",
      "display_name": "Python 3"
    },
    "language_info": {
      "name": "python"
    }
  },
  "cells": [
    {
      "cell_type": "markdown",
      "metadata": {
        "id": "view-in-github",
        "colab_type": "text"
      },
      "source": [
        "<a href=\"https://colab.research.google.com/github/YaokunLin/Algorithms/blob/main/92_Reverse_Linked_List_II.ipynb\" target=\"_parent\"><img src=\"https://colab.research.google.com/assets/colab-badge.svg\" alt=\"Open In Colab\"/></a>"
      ]
    },
    {
      "cell_type": "code",
      "metadata": {
        "id": "wgoCQNb02UVK"
      },
      "source": [
        "# Definition for singly-linked list.\n",
        "# class ListNode:\n",
        "#     def __init__(self, val=0, next=None):\n",
        "#         self.val = val\n",
        "#         self.next = next\n",
        "class Solution:\n",
        "    def reverseBetween(self, head: Optional[ListNode], left: int, right: int) -> Optional[ListNode]:\n",
        "      \n",
        "      dummyHead = ListNode(0, next = head)\n",
        "      \n",
        "      #head = [1,2,3,4,5], left = 2, right = 4\n",
        "      start = dummyHead\n",
        "      cur = start.next\n",
        "      \n",
        "      #find the node right before \"left\"\n",
        "      for _ in range(left - 1):\n",
        "        start = start.next\n",
        "        cur = start.next\n",
        "      #start = the node right before \"left\"\n",
        "      \n",
        "\n",
        "      #rever the needed\n",
        "      \n",
        "      prev = None\n",
        "      for _ in range(right - left + 1):\n",
        "        nxt = cur.next\n",
        "        cur.next = prev         \n",
        "        prev = cur\n",
        "        cur = nxt\n",
        "      # 4 > 3 > 2 > None\n",
        "      \n",
        "      #end = the node after \"right\"\n",
        "      end = cur\n",
        "      \n",
        "\n",
        "      #start.next = 2\n",
        "      start.next.next = end\n",
        "      # 4 > 3 > 2 > 5\n",
        "      \n",
        "      #cur = 4\n",
        "      #connect start with 4\n",
        "      start.next = prev\n",
        "      # 1 > 4 > 3 > 2 > 5\n",
        "      \n",
        "      return dummyHead.next\n",
        "      \n",
        "      "
      ],
      "execution_count": null,
      "outputs": []
    }
  ]
}