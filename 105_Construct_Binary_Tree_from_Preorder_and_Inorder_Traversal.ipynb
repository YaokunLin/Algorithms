{
  "nbformat": 4,
  "nbformat_minor": 0,
  "metadata": {
    "colab": {
      "name": "105. Construct Binary Tree from Preorder and Inorder Traversal.ipynb",
      "provenance": [],
      "authorship_tag": "ABX9TyNSbDkJQCxGZw/+av6elVGU",
      "include_colab_link": true
    },
    "kernelspec": {
      "name": "python3",
      "display_name": "Python 3"
    },
    "language_info": {
      "name": "python"
    }
  },
  "cells": [
    {
      "cell_type": "markdown",
      "metadata": {
        "id": "view-in-github",
        "colab_type": "text"
      },
      "source": [
        "<a href=\"https://colab.research.google.com/github/YaokunLin/Algorithms/blob/main/105_Construct_Binary_Tree_from_Preorder_and_Inorder_Traversal.ipynb\" target=\"_parent\"><img src=\"https://colab.research.google.com/assets/colab-badge.svg\" alt=\"Open In Colab\"/></a>"
      ]
    },
    {
      "cell_type": "code",
      "metadata": {
        "id": "9Pk8s1evB-zF",
        "colab": {
          "base_uri": "https://localhost:8080/"
        },
        "outputId": "0d532006-2461-4216-a730-d4b1ad807756"
      },
      "source": [
        "# Definition for a binary tree node.\n",
        "# class TreeNode(object):\n",
        "#     def __init__(self, val=0, left=None, right=None):\n",
        "#         self.val = val\n",
        "#         self.left = left\n",
        "#         self.right = right\n",
        "#preorder = [3,9,20,15,7], inorder = [9,3,15,20,7]\n",
        "#Root = 3, preorder[0], inorder[1]\n",
        "#preorder= [3]+[9,20,15,7]\n",
        "#root=[3]\n",
        "#children=[9,20,15,7]\n",
        "#inorder[:1] = left branch =[9]\n",
        "#inorder[2:] = right branch =[15,20,7]\n",
        "#children=[9]+[20,15,7]=[9]+[20]+[15,7]\n",
        "#inorder  =[15]+[20]+[7]\n",
        "\n",
        "\n",
        "class Solution(object):\n",
        "    def buildTree(self, preorder, inorder):\n",
        "      \n",
        "      def recursor(givenbPreorder,givenInorder):\n",
        "        if  len(givenInorder)==0: return None \n",
        "        \n",
        "        if len(givenInorder)==1: \n",
        "          returnNode=TreeNode()\n",
        "          returnNode.val=givenInorder[0]\n",
        "          return returnNode\n",
        "        \n",
        "        root=TreeNode()\n",
        "        root.val=givenbPreorder[0]\n",
        "        inoderPos=givenInorder.index(root.val)\n",
        "        inorderLeft,inorderRight=givenInorder[:inoderPos],givenInorder[inoderPos+1:]\n",
        "        \n",
        "        leftBranchLen,rightBranchLen=len(inorderLeft),len(inorderRight)\n",
        "        trimmedPreorder=givenbPreorder[1:]\n",
        "        preorderLeft,preorderRight=trimmedPreorder[:leftBranchLen],trimmedPreorder[-rightBranchLen:]\n",
        "        root.left,root.right=recursor(preorderLeft,inorderLeft),recursor(preorderRight,inorderRight)\n",
        "\n",
        "        return root\n",
        "        \n",
        "        \n",
        "        \n",
        "      return recursor(preorder, inorder)\n",
        "      \n",
        "      \n",
        "      \n",
        "      \n",
        "      \n",
        "\n",
        "        "
      ],
      "execution_count": null,
      "outputs": [
        {
          "output_type": "execute_result",
          "data": {
            "text/plain": [
              "[3, 4]"
            ]
          },
          "metadata": {
            "tags": []
          },
          "execution_count": 1
        }
      ]
    }
  ]
}