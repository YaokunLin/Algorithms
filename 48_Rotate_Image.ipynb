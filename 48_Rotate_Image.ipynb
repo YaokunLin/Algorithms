{
  "nbformat": 4,
  "nbformat_minor": 0,
  "metadata": {
    "colab": {
      "name": "48. Rotate Image.ipynb",
      "provenance": [],
      "authorship_tag": "ABX9TyNaj+lhfgGwkesvE8aaCVGL",
      "include_colab_link": true
    },
    "kernelspec": {
      "name": "python3",
      "display_name": "Python 3"
    },
    "language_info": {
      "name": "python"
    }
  },
  "cells": [
    {
      "cell_type": "markdown",
      "metadata": {
        "id": "view-in-github",
        "colab_type": "text"
      },
      "source": [
        "<a href=\"https://colab.research.google.com/github/YaokunLin/Algorithms/blob/main/48_Rotate_Image.ipynb\" target=\"_parent\"><img src=\"https://colab.research.google.com/assets/colab-badge.svg\" alt=\"Open In Colab\"/></a>"
      ]
    },
    {
      "cell_type": "code",
      "metadata": {
        "id": "WDpJR3TzAQ4m"
      },
      "source": [
        "class Solution(object):\n",
        "    def rotate(self, matrix):\n",
        "      n=len(matrix)\n",
        "      \n",
        "      #https://www.youtube.com/watch?v=SA867FvqHrM\n",
        "        \n",
        "      #transpose\n",
        "      #swap M[r][c] for M[c][r]\n",
        "      startC=0\n",
        "      for r in range(n):\n",
        "        for c in range(startC,n):\n",
        "          \n",
        "          matrix[r][c] , matrix[c][r] = matrix[c][r] , matrix[r][c]\n",
        "        startC+=1\n",
        "        \n",
        "      #swapping columns from outside inward\n",
        "      #swap M[r][c] for M[r][n-c-1]\n",
        "      #swap only for n//2 times\n",
        "      nColSwap=n//2\n",
        "      for c in range(nColSwap):\n",
        "        for r in range(n):\n",
        "          matrix[r][c],matrix[r][n-c-1]=matrix[r][n-c-1],matrix[r][c]\n",
        "        "
      ],
      "execution_count": null,
      "outputs": []
    }
  ]
}