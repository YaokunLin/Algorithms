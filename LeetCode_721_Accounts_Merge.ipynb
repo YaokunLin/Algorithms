{
  "nbformat": 4,
  "nbformat_minor": 0,
  "metadata": {
    "colab": {
      "name": "LeetCode 721. Accounts Merge.ipynb",
      "provenance": [],
      "collapsed_sections": [],
      "authorship_tag": "ABX9TyPTELbohO6Ra+8KdV5PWEwf",
      "include_colab_link": true
    },
    "kernelspec": {
      "name": "python3",
      "display_name": "Python 3"
    },
    "language_info": {
      "name": "python"
    }
  },
  "cells": [
    {
      "cell_type": "markdown",
      "metadata": {
        "id": "view-in-github",
        "colab_type": "text"
      },
      "source": [
        "<a href=\"https://colab.research.google.com/github/YaokunLin/Algorithms/blob/main/LeetCode_721_Accounts_Merge.ipynb\" target=\"_parent\"><img src=\"https://colab.research.google.com/assets/colab-badge.svg\" alt=\"Open In Colab\"/></a>"
      ]
    },
    {
      "cell_type": "code",
      "metadata": {
        "id": "5O_vhhhLsv9a"
      },
      "source": [
        "#solution:\n",
        "class Solution(object):\n",
        "  def accountsMerge(self, accounts):\n",
        "    #Depth-First Search\n",
        "    graph = collections.defaultdict(set)\n",
        "    email_to_name ={}\n",
        "    \n",
        "    for acc in accounts:\n",
        "      name = acc[0]\n",
        "      e1 = acc[1]\n",
        "\n",
        "      for em in acc[1:]:\n",
        "          graph[e1].add(em)\n",
        "          graph[em].add(e1)\n",
        "          email_to_name[em] = name\n",
        "\n",
        "\n",
        "    print(graph)\n",
        "    seen=set()\n",
        "    sorted_em_list=[]\n",
        "\n",
        "    for em in email_to_name: #O(n_emails)\n",
        "      if em not in seen:\n",
        "        seen.add(em)\n",
        "        stack=[em]\n",
        "        em_chain=[]\n",
        "\n",
        "        while stack:\n",
        "          item = stack.pop()\n",
        "          em_chain.append(item)\n",
        "\n",
        "          for neighbour in graph[item]: #O(N_neighbours)\n",
        "            if neighbour not in seen:\n",
        "              stack.append(neighbour)\n",
        "              seen.add(neighbour)\n",
        "\n",
        "        sorted_em_list.append([email_to_name[em]]+sorted(em_chain)) #O(nlogn)\n",
        "\n",
        "    return sorted_em_list"
      ],
      "execution_count": null,
      "outputs": []
    }
  ]
}