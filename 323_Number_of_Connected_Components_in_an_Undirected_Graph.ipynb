{
  "nbformat": 4,
  "nbformat_minor": 0,
  "metadata": {
    "colab": {
      "name": "323. Number of Connected Components in an Undirected Graph",
      "provenance": [],
      "authorship_tag": "ABX9TyOh5OpW3MJ/dOLkGT38HfH1",
      "include_colab_link": true
    },
    "kernelspec": {
      "name": "python3",
      "display_name": "Python 3"
    },
    "language_info": {
      "name": "python"
    }
  },
  "cells": [
    {
      "cell_type": "markdown",
      "metadata": {
        "id": "view-in-github",
        "colab_type": "text"
      },
      "source": [
        "<a href=\"https://colab.research.google.com/github/YaokunLin/Algorithms/blob/main/323_Number_of_Connected_Components_in_an_Undirected_Graph.ipynb\" target=\"_parent\"><img src=\"https://colab.research.google.com/assets/colab-badge.svg\" alt=\"Open In Colab\"/></a>"
      ]
    },
    {
      "cell_type": "code",
      "metadata": {
        "id": "BlSX67ULGaS9"
      },
      "source": [
        "from collections import defaultdict\n",
        "class Solution(object):\n",
        "    def countComponents(self, n, edges):\n",
        "        if len(edges)==0: return n\n",
        "        \n",
        "        neiDict=defaultdict(list)\n",
        "        for a,b in edges:\n",
        "          neiDict[a].append(b)\n",
        "          neiDict[b].append(a)\n",
        "        \n",
        "        seen=set()\n",
        "        ans=0\n",
        "        \n",
        "        def dfs(givenPt):\n",
        "          neighbourhood=neiDict[givenPt]\n",
        "          if not neighbourhood: return\n",
        "          \n",
        "          for nei in neighbourhood:\n",
        "            if nei not in seen:\n",
        "              seen.add(nei)\n",
        "              dfs(nei)\n",
        "            \n",
        "           \n",
        "        for a,b in edges:\n",
        "          if a not in seen:\n",
        "            dfs(a)\n",
        "            ans+=1\n",
        "          \n",
        "        standAloneNodes=n-len(seen)\n",
        "        ans=ans+standAloneNodes\n",
        "        \n",
        "        return ans\n",
        "          \n",
        "        \n",
        "        "
      ],
      "execution_count": null,
      "outputs": []
    }
  ]
}