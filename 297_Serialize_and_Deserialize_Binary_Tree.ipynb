{
  "nbformat": 4,
  "nbformat_minor": 0,
  "metadata": {
    "colab": {
      "name": "297. Serialize and Deserialize Binary Tree.ipynb",
      "provenance": [],
      "collapsed_sections": [],
      "authorship_tag": "ABX9TyNR5uJcir68rSN+ZNfE86BH",
      "include_colab_link": true
    },
    "kernelspec": {
      "name": "python3",
      "display_name": "Python 3"
    },
    "language_info": {
      "name": "python"
    }
  },
  "cells": [
    {
      "cell_type": "markdown",
      "metadata": {
        "id": "view-in-github",
        "colab_type": "text"
      },
      "source": [
        "<a href=\"https://colab.research.google.com/github/YaokunLin/Algorithms/blob/main/297_Serialize_and_Deserialize_Binary_Tree.ipynb\" target=\"_parent\"><img src=\"https://colab.research.google.com/assets/colab-badge.svg\" alt=\"Open In Colab\"/></a>"
      ]
    },
    {
      "cell_type": "code",
      "metadata": {
        "id": "1w9XfqCZ69-6"
      },
      "source": [
        "# Definition for a binary tree node.\n",
        "# class TreeNode(object):\n",
        "#     def __init__(self, x):\n",
        "#         self.val = x\n",
        "#         self.left = None\n",
        "#         self.right = None\n",
        "\n",
        "class Codec:\n",
        "\n",
        "    def serialize(self, root):\n",
        "      \n",
        "      res=[]\n",
        "      \n",
        "      def rec(node):\n",
        "        if not node: \n",
        "          res.append('N')\n",
        "          return\n",
        "        \n",
        "        res.append(str(node.val))\n",
        "        rec(node.left)\n",
        "        rec(node.right)\n",
        "        \n",
        "      rec(root)\n",
        "      return ','.join(res)\n",
        "        \n",
        "\n",
        "    def deserialize(self, data):\n",
        "        \n",
        "        data = data.split(',')\n",
        "        Trees = [TreeNode(int(val)) if val != 'N' else None for val in data ]\n",
        "        \n",
        "        def rec():\n",
        "          node = Trees.pop(0)\n",
        "          if not node: return node\n",
        "          \n",
        "          node.left = rec()\n",
        "          node.right = rec()\n",
        "          return node\n",
        "        \n",
        "        return rec()\n",
        "        \n",
        "        \n",
        "        \n",
        "\n",
        "# Your Codec object will be instantiated and called as such:\n",
        "# ser = Codec()\n",
        "# deser = Codec()\n",
        "# ans = deser.deserialize(ser.serialize(root))"
      ],
      "execution_count": null,
      "outputs": []
    }
  ]
}